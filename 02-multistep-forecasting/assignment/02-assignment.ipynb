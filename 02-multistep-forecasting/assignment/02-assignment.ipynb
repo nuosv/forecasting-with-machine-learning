{
 "cells": [
  {
   "cell_type": "markdown",
   "id": "a9b2affd",
   "metadata": {},
   "source": [
    "# Direct forecasting\n",
    "\n",
    "[Forecasting with Machine Learning - Course](https://www.trainindata.com/p/forecasting-with-machine-learning)\n",
    "\n",
    "Load the retail sales data set located in Facebook's Prophet Github repository and use **direct forecasting** to predict future sales. \n",
    "\n",
    "- We want to forecast sales over the next 3 months. \n",
    "- Sales are recorded monthly. \n",
    "- We assume that we have all data to the month before the first point in the forecasting horizon.\n",
    "\n",
    "We will forecast using Scikit-learn in this exercise.\n",
    "\n",
    "Follow the guidelines below to accomplish this assignment.\n",
    "\n",
    "## Import required classes and functions"
   ]
  },
  {
   "cell_type": "code",
   "execution_count": 1,
   "id": "6fde7533",
   "metadata": {},
   "outputs": [],
   "source": [
    "import numpy as np\n",
    "import pandas as pd\n",
    "import matplotlib.pyplot as plt\n",
    "\n",
    "from sklearn.linear_model import Lasso\n",
    "from sklearn.metrics import root_mean_squared_error\n",
    "from sklearn.multioutput import MultiOutputRegressor\n",
    "from sklearn.preprocessing import MinMaxScaler\n",
    "\n",
    "from feature_engine.datetime import DatetimeFeatures\n",
    "from feature_engine.imputation import DropMissingData\n",
    "from feature_engine.timeseries.forecasting import (\n",
    "    LagFeatures,\n",
    "    WindowFeatures,\n",
    ")\n",
    "from feature_engine.pipeline import Pipeline"
   ]
  },
  {
   "cell_type": "markdown",
   "id": "b50b4411",
   "metadata": {},
   "source": [
    "## Load data"
   ]
  },
  {
   "cell_type": "code",
   "execution_count": 2,
   "id": "cf8dd614",
   "metadata": {},
   "outputs": [
    {
     "data": {
      "application/vnd.microsoft.datawrangler.viewer.v0+json": {
       "columns": [
        {
         "name": "ds",
         "rawType": "datetime64[ns]",
         "type": "datetime"
        },
        {
         "name": "y",
         "rawType": "int64",
         "type": "integer"
        }
       ],
       "conversionMethod": "pd.DataFrame",
       "ref": "820330ac-b760-4ac7-bb04-2cdd19c227e7",
       "rows": [
        [
         "1992-01-01 00:00:00",
         "146376"
        ],
        [
         "1992-02-01 00:00:00",
         "147079"
        ],
        [
         "1992-03-01 00:00:00",
         "159336"
        ],
        [
         "1992-04-01 00:00:00",
         "163669"
        ],
        [
         "1992-05-01 00:00:00",
         "170068"
        ]
       ],
       "shape": {
        "columns": 1,
        "rows": 5
       }
      },
      "text/html": [
       "<div>\n",
       "<style scoped>\n",
       "    .dataframe tbody tr th:only-of-type {\n",
       "        vertical-align: middle;\n",
       "    }\n",
       "\n",
       "    .dataframe tbody tr th {\n",
       "        vertical-align: top;\n",
       "    }\n",
       "\n",
       "    .dataframe thead th {\n",
       "        text-align: right;\n",
       "    }\n",
       "</style>\n",
       "<table border=\"1\" class=\"dataframe\">\n",
       "  <thead>\n",
       "    <tr style=\"text-align: right;\">\n",
       "      <th></th>\n",
       "      <th>y</th>\n",
       "    </tr>\n",
       "    <tr>\n",
       "      <th>ds</th>\n",
       "      <th></th>\n",
       "    </tr>\n",
       "  </thead>\n",
       "  <tbody>\n",
       "    <tr>\n",
       "      <th>1992-01-01</th>\n",
       "      <td>146376</td>\n",
       "    </tr>\n",
       "    <tr>\n",
       "      <th>1992-02-01</th>\n",
       "      <td>147079</td>\n",
       "    </tr>\n",
       "    <tr>\n",
       "      <th>1992-03-01</th>\n",
       "      <td>159336</td>\n",
       "    </tr>\n",
       "    <tr>\n",
       "      <th>1992-04-01</th>\n",
       "      <td>163669</td>\n",
       "    </tr>\n",
       "    <tr>\n",
       "      <th>1992-05-01</th>\n",
       "      <td>170068</td>\n",
       "    </tr>\n",
       "  </tbody>\n",
       "</table>\n",
       "</div>"
      ],
      "text/plain": [
       "                 y\n",
       "ds                \n",
       "1992-01-01  146376\n",
       "1992-02-01  147079\n",
       "1992-03-01  159336\n",
       "1992-04-01  163669\n",
       "1992-05-01  170068"
      ]
     },
     "execution_count": 2,
     "metadata": {},
     "output_type": "execute_result"
    }
   ],
   "source": [
    "url = \"https://raw.githubusercontent.com/facebook/prophet/master/examples/example_retail_sales.csv\"\n",
    "df = pd.read_csv(url)\n",
    "df.to_csv(\"example_retail_sales.csv\", index=False)\n",
    "\n",
    "df = pd.read_csv(\n",
    "    \"example_retail_sales.csv\",\n",
    "    parse_dates=[\"ds\"],\n",
    "    index_col=[\"ds\"],\n",
    "    nrows=160,\n",
    ")\n",
    "\n",
    "df = df.asfreq(\"MS\")\n",
    "\n",
    "df.head()"
   ]
  },
  {
   "cell_type": "markdown",
   "id": "d03172ab",
   "metadata": {},
   "source": [
    "## Create the target variable\n",
    "\n",
    "In direct forecasting, we train a model per step. Hence, we need to create 1 target per step."
   ]
  },
  {
   "cell_type": "code",
   "execution_count": 3,
   "id": "d77bd8b7",
   "metadata": {},
   "outputs": [],
   "source": [
    "# The forecasting horizon.\n",
    "horizon = 3\n",
    "\n",
    "# Create an empty dataframe for the targets.\n",
    "y = pd.DataFrame(index=df.index)\n",
    "\n",
    "# Add each one of the steps in the horizon.\n",
    "for h in range(horizon):\n",
    "    y[f\"h_{h}\"] = df.shift(periods=-h, freq=\"MS\")\n",
    "    \n",
    "    y"
   ]
  },
  {
   "cell_type": "code",
   "execution_count": 4,
   "id": "a76653bf",
   "metadata": {},
   "outputs": [
    {
     "data": {
      "application/vnd.microsoft.datawrangler.viewer.v0+json": {
       "columns": [
        {
         "name": "ds",
         "rawType": "datetime64[ns]",
         "type": "datetime"
        },
        {
         "name": "y",
         "rawType": "int64",
         "type": "integer"
        }
       ],
       "conversionMethod": "pd.DataFrame",
       "ref": "caf821b0-a1cd-49ed-9a86-8868868b8b64",
       "rows": [
        [
         "2004-10-01 00:00:00",
         "319726"
        ],
        [
         "2004-11-01 00:00:00",
         "324259"
        ],
        [
         "2004-12-01 00:00:00",
         "387155"
        ],
        [
         "2005-01-01 00:00:00",
         "293261"
        ],
        [
         "2005-02-01 00:00:00",
         "295062"
        ]
       ],
       "shape": {
        "columns": 1,
        "rows": 5
       }
      },
      "text/html": [
       "<div>\n",
       "<style scoped>\n",
       "    .dataframe tbody tr th:only-of-type {\n",
       "        vertical-align: middle;\n",
       "    }\n",
       "\n",
       "    .dataframe tbody tr th {\n",
       "        vertical-align: top;\n",
       "    }\n",
       "\n",
       "    .dataframe thead th {\n",
       "        text-align: right;\n",
       "    }\n",
       "</style>\n",
       "<table border=\"1\" class=\"dataframe\">\n",
       "  <thead>\n",
       "    <tr style=\"text-align: right;\">\n",
       "      <th></th>\n",
       "      <th>y</th>\n",
       "    </tr>\n",
       "    <tr>\n",
       "      <th>ds</th>\n",
       "      <th></th>\n",
       "    </tr>\n",
       "  </thead>\n",
       "  <tbody>\n",
       "    <tr>\n",
       "      <th>2004-10-01</th>\n",
       "      <td>319726</td>\n",
       "    </tr>\n",
       "    <tr>\n",
       "      <th>2004-11-01</th>\n",
       "      <td>324259</td>\n",
       "    </tr>\n",
       "    <tr>\n",
       "      <th>2004-12-01</th>\n",
       "      <td>387155</td>\n",
       "    </tr>\n",
       "    <tr>\n",
       "      <th>2005-01-01</th>\n",
       "      <td>293261</td>\n",
       "    </tr>\n",
       "    <tr>\n",
       "      <th>2005-02-01</th>\n",
       "      <td>295062</td>\n",
       "    </tr>\n",
       "  </tbody>\n",
       "</table>\n",
       "</div>"
      ],
      "text/plain": [
       "                 y\n",
       "ds                \n",
       "2004-10-01  319726\n",
       "2004-11-01  324259\n",
       "2004-12-01  387155\n",
       "2005-01-01  293261\n",
       "2005-02-01  295062"
      ]
     },
     "execution_count": 4,
     "metadata": {},
     "output_type": "execute_result"
    }
   ],
   "source": [
    "# Remove nan from target\n",
    "\n",
    "y.dropna(inplace=True)\n",
    "\n",
    "# align data to available target values\n",
    "\n",
    "df = df.loc[y.index]\n",
    "\n",
    "df.tail()"
   ]
  },
  {
   "cell_type": "markdown",
   "id": "1d003eaf",
   "metadata": {},
   "source": [
    "## Split data into train and test\n",
    "\n",
    "Leave data from 2004 onwards in the test set."
   ]
  },
  {
   "cell_type": "code",
   "execution_count": null,
   "id": "5f26c24e",
   "metadata": {},
   "outputs": [],
   "source": []
  },
  {
   "cell_type": "markdown",
   "id": "caa19336",
   "metadata": {},
   "source": [
    "## Set up regression model\n",
    "\n",
    "We will use Lasso in this assignment."
   ]
  },
  {
   "cell_type": "code",
   "execution_count": null,
   "id": "c61e6218",
   "metadata": {},
   "outputs": [],
   "source": []
  },
  {
   "cell_type": "markdown",
   "id": "9b69bbde",
   "metadata": {},
   "source": [
    "## Set up a feature engineering pipeline\n",
    "\n",
    "Set up transformers from feature-engine and / or scikit- learn in a pipeline and test it to make sure the input feature table is the one you need for the forecasts.\n",
    "\n",
    "We will use feature-engine because we are great fans of the library.\n",
    "\n",
    "If you prefer pandas, as long as the input feature table is the one you expect, that is also a suitable alternative."
   ]
  },
  {
   "cell_type": "code",
   "execution_count": null,
   "id": "00908e10",
   "metadata": {},
   "outputs": [],
   "source": []
  },
  {
   "cell_type": "markdown",
   "id": "721fb6aa",
   "metadata": {},
   "source": [
    "## Test pipeline over test set\n",
    "\n",
    "Ensure that the returned input feature table is suitable to forecast from `2004-01-01` onwards."
   ]
  },
  {
   "cell_type": "code",
   "execution_count": null,
   "id": "84aee4f3",
   "metadata": {},
   "outputs": [],
   "source": []
  },
  {
   "cell_type": "markdown",
   "id": "3132210a",
   "metadata": {},
   "source": [
    "## Train a recursive forecaster\n",
    "\n",
    "Now that we know that the pipeline works, we can train the forecaster.\n",
    "\n",
    "You can take the feature table and target returned up to here to train the Lasso. \n",
    "\n",
    "Or, as we will do, you can add the Lasso within the pipeline."
   ]
  },
  {
   "cell_type": "code",
   "execution_count": null,
   "id": "8a120faf",
   "metadata": {},
   "outputs": [],
   "source": []
  },
  {
   "cell_type": "markdown",
   "id": "886f78c8",
   "metadata": {},
   "source": [
    "# Forecast 3 months of sales\n",
    "\n",
    "We'll start by forecasting 3 months of sales, starting at every single point of the test set.\n",
    "\n",
    "This is the equivalent of backtesting without refit. More info in section 6!!"
   ]
  },
  {
   "cell_type": "code",
   "execution_count": null,
   "id": "1cde1862",
   "metadata": {},
   "outputs": [],
   "source": []
  },
  {
   "cell_type": "markdown",
   "id": "578c60c4",
   "metadata": {},
   "source": [
    "## Plot predictions vs actuals\n",
    "\n",
    "Pick the first row of predictions and plot them against the real sales."
   ]
  },
  {
   "cell_type": "code",
   "execution_count": null,
   "id": "778c7bd5",
   "metadata": {},
   "outputs": [],
   "source": []
  },
  {
   "cell_type": "markdown",
   "id": "528988f7",
   "metadata": {},
   "source": [
    "## Determine the RMSE\n",
    "\n",
    "Pick the first row of predictions and calculate the RMSE"
   ]
  },
  {
   "cell_type": "code",
   "execution_count": null,
   "id": "67408586",
   "metadata": {},
   "outputs": [],
   "source": []
  },
  {
   "cell_type": "markdown",
   "id": "914b7abb",
   "metadata": {},
   "source": [
    "## Forecast next 3 months of sales\n",
    "\n",
    "Predict the first 3 months of sales right after the end of the test set.\n",
    "\n",
    "That is, starting on `2005-02-02`."
   ]
  },
  {
   "cell_type": "code",
   "execution_count": null,
   "id": "9c4f46ac",
   "metadata": {},
   "outputs": [],
   "source": []
  }
 ],
 "metadata": {
  "kernelspec": {
   "display_name": ".venv",
   "language": "python",
   "name": "python3"
  },
  "language_info": {
   "codemirror_mode": {
    "name": "ipython",
    "version": 3
   },
   "file_extension": ".py",
   "mimetype": "text/x-python",
   "name": "python",
   "nbconvert_exporter": "python",
   "pygments_lexer": "ipython3",
   "version": "3.12.6"
  },
  "toc": {
   "base_numbering": 1,
   "nav_menu": {},
   "number_sections": true,
   "sideBar": true,
   "skip_h1_title": false,
   "title_cell": "Table of Contents",
   "title_sidebar": "Contents",
   "toc_cell": false,
   "toc_position": {},
   "toc_section_display": true,
   "toc_window_display": true
  }
 },
 "nbformat": 4,
 "nbformat_minor": 5
}
