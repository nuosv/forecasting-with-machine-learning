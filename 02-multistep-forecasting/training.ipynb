{
 "cells": [
  {
   "cell_type": "code",
   "execution_count": 2,
   "metadata": {},
   "outputs": [],
   "source": [
    "import matplotlib.pyplot as plt\n",
    "import pandas as pd\n",
    "\n",
    "from sklearn.linear_model import Lasso\n",
    "from sklearn.metrics import mean_squared_error\n",
    "from sklearn.metrics import root_mean_squared_error\n",
    "\n",
    "from skforecast.recursive import ForecasterRecursive"
   ]
  },
  {
   "cell_type": "code",
   "execution_count": 3,
   "metadata": {},
   "outputs": [
    {
     "name": "stdout",
     "output_type": "stream",
     "text": [
      "0     37257\n",
      "1     37257\n",
      "2     37257\n",
      "3     37257\n",
      "4     37257\n",
      "5     37257\n",
      "6     37257\n",
      "7     37257\n",
      "8     37257\n",
      "9     37257\n",
      "10    37257\n",
      "11    37257\n",
      "12    37257\n",
      "13    37257\n",
      "14    37257\n",
      "15    37257\n",
      "16    37257\n",
      "17    37257\n",
      "18    37257\n",
      "19    37257\n",
      "20    37257\n",
      "21    37257\n",
      "22    37257\n",
      "23    37257\n",
      "24    37257\n",
      "25    37257\n",
      "26    37257\n",
      "27    37257\n",
      "28    37257\n",
      "29    37257\n",
      "30    37257\n",
      "31    37257\n",
      "32    37257\n",
      "33    37257\n",
      "34    37257\n",
      "35    37257\n",
      "36    37257\n",
      "37    37257\n",
      "38    37257\n",
      "39    37257\n",
      "40    37257\n",
      "41    37257\n",
      "42    37257\n",
      "43    37257\n",
      "44    37257\n",
      "45    37257\n",
      "46    37257\n",
      "47    37257\n",
      "Name: Date, dtype: int64\n",
      "\n",
      "0    2002-01-01\n",
      "1    2002-01-01\n",
      "2    2002-01-01\n",
      "3    2002-01-01\n",
      "4    2002-01-01\n",
      "5    2002-01-01\n",
      "6    2002-01-01\n",
      "7    2002-01-01\n",
      "8    2002-01-01\n",
      "9    2002-01-01\n",
      "10   2002-01-01\n",
      "11   2002-01-01\n",
      "12   2002-01-01\n",
      "13   2002-01-01\n",
      "14   2002-01-01\n",
      "15   2002-01-01\n",
      "16   2002-01-01\n",
      "17   2002-01-01\n",
      "18   2002-01-01\n",
      "19   2002-01-01\n",
      "20   2002-01-01\n",
      "21   2002-01-01\n",
      "22   2002-01-01\n",
      "23   2002-01-01\n",
      "24   2002-01-01\n",
      "25   2002-01-01\n",
      "26   2002-01-01\n",
      "27   2002-01-01\n",
      "28   2002-01-01\n",
      "29   2002-01-01\n",
      "30   2002-01-01\n",
      "31   2002-01-01\n",
      "32   2002-01-01\n",
      "33   2002-01-01\n",
      "34   2002-01-01\n",
      "35   2002-01-01\n",
      "36   2002-01-01\n",
      "37   2002-01-01\n",
      "38   2002-01-01\n",
      "39   2002-01-01\n",
      "40   2002-01-01\n",
      "41   2002-01-01\n",
      "42   2002-01-01\n",
      "43   2002-01-01\n",
      "44   2002-01-01\n",
      "45   2002-01-01\n",
      "46   2002-01-01\n",
      "47   2002-01-01\n",
      "Name: date, dtype: datetime64[ns]\n",
      "\n",
      "0    2002-01-01 00:00:00\n",
      "1    2002-01-01 00:30:00\n",
      "2    2002-01-01 01:00:00\n",
      "3    2002-01-01 01:30:00\n",
      "4    2002-01-01 02:00:00\n",
      "5    2002-01-01 02:30:00\n",
      "6    2002-01-01 03:00:00\n",
      "7    2002-01-01 03:30:00\n",
      "8    2002-01-01 04:00:00\n",
      "9    2002-01-01 04:30:00\n",
      "10   2002-01-01 05:00:00\n",
      "11   2002-01-01 05:30:00\n",
      "12   2002-01-01 06:00:00\n",
      "13   2002-01-01 06:30:00\n",
      "14   2002-01-01 07:00:00\n",
      "15   2002-01-01 07:30:00\n",
      "16   2002-01-01 08:00:00\n",
      "17   2002-01-01 08:30:00\n",
      "18   2002-01-01 09:00:00\n",
      "19   2002-01-01 09:30:00\n",
      "20   2002-01-01 10:00:00\n",
      "21   2002-01-01 10:30:00\n",
      "22   2002-01-01 11:00:00\n",
      "23   2002-01-01 11:30:00\n",
      "24   2002-01-01 12:00:00\n",
      "25   2002-01-01 12:30:00\n",
      "26   2002-01-01 13:00:00\n",
      "27   2002-01-01 13:30:00\n",
      "28   2002-01-01 14:00:00\n",
      "29   2002-01-01 14:30:00\n",
      "30   2002-01-01 15:00:00\n",
      "31   2002-01-01 15:30:00\n",
      "32   2002-01-01 16:00:00\n",
      "33   2002-01-01 16:30:00\n",
      "34   2002-01-01 17:00:00\n",
      "35   2002-01-01 17:30:00\n",
      "36   2002-01-01 18:00:00\n",
      "37   2002-01-01 18:30:00\n",
      "38   2002-01-01 19:00:00\n",
      "39   2002-01-01 19:30:00\n",
      "40   2002-01-01 20:00:00\n",
      "41   2002-01-01 20:30:00\n",
      "42   2002-01-01 21:00:00\n",
      "43   2002-01-01 21:30:00\n",
      "44   2002-01-01 22:00:00\n",
      "45   2002-01-01 22:30:00\n",
      "46   2002-01-01 23:00:00\n",
      "47   2002-01-01 23:30:00\n",
      "Name: date_time, dtype: datetime64[ns]\n",
      "\n"
     ]
    }
   ],
   "source": [
    "# Electricity demand.\n",
    "url = \"https://raw.githubusercontent.com/tidyverts/tsibbledata/master/data-raw/vic_elec/VIC2015/demand.csv\"\n",
    "df = pd.read_csv(url)\n",
    "\n",
    "df.drop(columns=[\"Industrial\"], inplace=True)\n",
    "# Print statement for training\n",
    "print(df['Date'][:48], end=\"\\n\\n\")\n",
    "\n",
    "\n",
    "\n",
    "\n",
    "# Convert the integer Date to an actual date with datetime type\n",
    "df[\"date\"] = df[\"Date\"].apply(\n",
    "    lambda x: pd.Timestamp(\"1899-12-30\") + pd.Timedelta(x, unit=\"days\")\n",
    ")\n",
    "# Print statement for training\n",
    "print(df['date'][:48], end=\"\\n\\n\")\n",
    "\n",
    "\n",
    "\n",
    "\n",
    "# Create a timestamp from the integer Period representing 30 minute intervals\n",
    "df[\"date_time\"] = df[\"date\"] + \\\n",
    "    pd.to_timedelta((df[\"Period\"] - 1) * 30, unit=\"m\")\n",
    "# Print statement for training    \n",
    "print(df['date_time'][:48], end=\"\\n\\n\")    \n",
    "\n",
    "\n",
    "\n",
    "\n",
    "df.dropna(inplace=True)\n",
    "\n",
    "# Rename columns\n",
    "df = df[[\"date_time\", \"OperationalLessIndustrial\"]]\n",
    "\n",
    "df.columns = [\"date_time\", \"demand\"]\n",
    "\n",
    "# Resample to hourly\n",
    "df = (\n",
    "    df.set_index(\"date_time\")\n",
    "    .resample(\"h\")\n",
    "    .agg({\"demand\": \"sum\"})\n",
    ")\n",
    "\n",
    "#df.head()"
   ]
  },
  {
   "cell_type": "code",
   "execution_count": 4,
   "metadata": {},
   "outputs": [],
   "source": [
    "#1: Import libraries\n",
    "import pandas as pd\n",
    "import matplotlib.pyplot as plt\n",
    "from sklearn.pipeline import Pipeline\n",
    "from sklearn.preprocessing import MinMaxScaler\n",
    "from sklearn.linear_model import Lasso\n",
    "from sklearn.metrics import root_mean_squared_error\n",
    "from feature_engine.datetime import DatetimeFeatures\n",
    "from skforecast.recursive import ForecasterRecursive"
   ]
  },
  {
   "cell_type": "code",
   "execution_count": 5,
   "metadata": {},
   "outputs": [
    {
     "data": {
      "text/html": [
       "<div>\n",
       "<style scoped>\n",
       "    .dataframe tbody tr th:only-of-type {\n",
       "        vertical-align: middle;\n",
       "    }\n",
       "\n",
       "    .dataframe tbody tr th {\n",
       "        vertical-align: top;\n",
       "    }\n",
       "\n",
       "    .dataframe thead th {\n",
       "        text-align: right;\n",
       "    }\n",
       "</style>\n",
       "<table border=\"1\" class=\"dataframe\">\n",
       "  <thead>\n",
       "    <tr style=\"text-align: right;\">\n",
       "      <th></th>\n",
       "      <th>y</th>\n",
       "    </tr>\n",
       "    <tr>\n",
       "      <th>ds</th>\n",
       "      <th></th>\n",
       "    </tr>\n",
       "  </thead>\n",
       "  <tbody>\n",
       "    <tr>\n",
       "      <th>1992-01-01</th>\n",
       "      <td>146376</td>\n",
       "    </tr>\n",
       "    <tr>\n",
       "      <th>1992-02-01</th>\n",
       "      <td>147079</td>\n",
       "    </tr>\n",
       "    <tr>\n",
       "      <th>1992-03-01</th>\n",
       "      <td>159336</td>\n",
       "    </tr>\n",
       "    <tr>\n",
       "      <th>1992-04-01</th>\n",
       "      <td>163669</td>\n",
       "    </tr>\n",
       "    <tr>\n",
       "      <th>1992-05-01</th>\n",
       "      <td>170068</td>\n",
       "    </tr>\n",
       "  </tbody>\n",
       "</table>\n",
       "</div>"
      ],
      "text/plain": [
       "                 y\n",
       "ds                \n",
       "1992-01-01  146376\n",
       "1992-02-01  147079\n",
       "1992-03-01  159336\n",
       "1992-04-01  163669\n",
       "1992-05-01  170068"
      ]
     },
     "execution_count": 5,
     "metadata": {},
     "output_type": "execute_result"
    }
   ],
   "source": [
    "#2: Load data\n",
    "url = \"https://raw.githubusercontent.com/facebook/prophet/master/examples/example_retail_sales.csv\"\n",
    "df = pd.read_csv(url)\n",
    "df.to_csv(\"example_retail_sales.csv\", index=False)\n",
    "df = pd.read_csv(\n",
    "    \"example_retail_sales.csv\",\n",
    "    parse_dates=[\"ds\"],\n",
    "    index_col=[\"ds\"],\n",
    "    nrows=160,\n",
    ")\n",
    "df = df.asfreq(\"MS\")\n",
    "df.head()"
   ]
  },
  {
   "cell_type": "code",
   "execution_count": 6,
   "metadata": {},
   "outputs": [
    {
     "data": {
      "image/png": "[encoded data removed]",
      "text/plain": [
       "<Figure size 1000x500 with 1 Axes>"
      ]
     },
     "metadata": {},
     "output_type": "display_data"
    }
   ],
   "source": [
    "#Plot time series\n",
    "fig, ax = plt.subplots(figsize=(10, 5))\n",
    "df.plot(ax=ax)\n",
    "ax.set_title('Sales over time')\n",
    "ax.set_xlabel('time')\n",
    "ax.set_ylabel('sales')\n",
    "ax.legend(['y'])\n",
    "plt.show()"
   ]
  },
  {
   "cell_type": "code",
   "execution_count": 7,
   "metadata": {},
   "outputs": [
    {
     "data": {
      "image/png": "[encoded data removed]",
      "text/plain": [
       "<Figure size 1000x500 with 1 Axes>"
      ]
     },
     "metadata": {},
     "output_type": "display_data"
    }
   ],
   "source": [
    "# Seasonality\n",
    "# 1. define time component like day in this example\n",
    "# 2. groupby said component and take the mean, define a variable to store the groupby, \n",
    "# like in this case group mean.\n",
    "# 3. plot the new grouped mean.\n",
    "day = df.index.dayofweek\n",
    "\n",
    "grouped_mean = df.groupby(day).mean(numeric_only=True)['y']\n",
    "fig, ax = plt.subplots(figsize=(10, 5))\n",
    "grouped_mean.plot(ax=ax)\n",
    "ax.set_xlabel('Day of the week')\n",
    "ax.set_ylabel('Sales')\n",
    "ax.set_title('Mean Sales volume per day of the week')\n",
    "plt.tight_layout()\n"
   ]
  },
  {
   "cell_type": "code",
   "execution_count": 8,
   "metadata": {},
   "outputs": [
    {
     "data": {
      "image/png": "[encoded data removed]",
      "text/plain": [
       "<Figure size 1000x500 with 1 Axes>"
      ]
     },
     "metadata": {},
     "output_type": "display_data"
    }
   ],
   "source": [
    "month = df.index.month\n",
    "grouped_mean = df.groupby(month).mean(numeric_only=True)['y']\n",
    "fig, ax = plt.subplots(figsize=(10, 5))\n",
    "grouped_mean.plot(ax=ax)\n",
    "ax.set_title('Mean Sales volume per month')\n",
    "ax.set_xlabel('Month')\n",
    "ax.set_ylabel('Sales')\n",
    "plt.tight_layout()"
   ]
  },
  {
   "cell_type": "code",
   "execution_count": 9,
   "metadata": {},
   "outputs": [],
   "source": [
    "# Split the data\n",
    "end_train = '2003-12-31'\n",
    "X_train = df.loc[:end_train]\n",
    "X_test = df.loc[end_train:]"
   ]
  },
  {
   "cell_type": "code",
   "execution_count": 10,
   "metadata": {},
   "outputs": [
    {
     "data": {
      "text/html": [
       "<div>\n",
       "<style scoped>\n",
       "    .dataframe tbody tr th:only-of-type {\n",
       "        vertical-align: middle;\n",
       "    }\n",
       "\n",
       "    .dataframe tbody tr th {\n",
       "        vertical-align: top;\n",
       "    }\n",
       "\n",
       "    .dataframe thead th {\n",
       "        text-align: right;\n",
       "    }\n",
       "</style>\n",
       "<table border=\"1\" class=\"dataframe\">\n",
       "  <thead>\n",
       "    <tr style=\"text-align: right;\">\n",
       "      <th></th>\n",
       "      <th>y</th>\n",
       "    </tr>\n",
       "    <tr>\n",
       "      <th>ds</th>\n",
       "      <th></th>\n",
       "    </tr>\n",
       "  </thead>\n",
       "  <tbody>\n",
       "    <tr>\n",
       "      <th>2003-08-01</th>\n",
       "      <td>317056</td>\n",
       "    </tr>\n",
       "    <tr>\n",
       "      <th>2003-09-01</th>\n",
       "      <td>293890</td>\n",
       "    </tr>\n",
       "    <tr>\n",
       "      <th>2003-10-01</th>\n",
       "      <td>304036</td>\n",
       "    </tr>\n",
       "    <tr>\n",
       "      <th>2003-11-01</th>\n",
       "      <td>301265</td>\n",
       "    </tr>\n",
       "    <tr>\n",
       "      <th>2003-12-01</th>\n",
       "      <td>357577</td>\n",
       "    </tr>\n",
       "  </tbody>\n",
       "</table>\n",
       "</div>"
      ],
      "text/plain": [
       "                 y\n",
       "ds                \n",
       "2003-08-01  317056\n",
       "2003-09-01  293890\n",
       "2003-10-01  304036\n",
       "2003-11-01  301265\n",
       "2003-12-01  357577"
      ]
     },
     "execution_count": 10,
     "metadata": {},
     "output_type": "execute_result"
    }
   ],
   "source": [
    "X_train.tail()"
   ]
  },
  {
   "cell_type": "code",
   "execution_count": 11,
   "metadata": {},
   "outputs": [
    {
     "data": {
      "text/html": [
       "<div>\n",
       "<style scoped>\n",
       "    .dataframe tbody tr th:only-of-type {\n",
       "        vertical-align: middle;\n",
       "    }\n",
       "\n",
       "    .dataframe tbody tr th {\n",
       "        vertical-align: top;\n",
       "    }\n",
       "\n",
       "    .dataframe thead th {\n",
       "        text-align: right;\n",
       "    }\n",
       "</style>\n",
       "<table border=\"1\" class=\"dataframe\">\n",
       "  <thead>\n",
       "    <tr style=\"text-align: right;\">\n",
       "      <th></th>\n",
       "      <th>y</th>\n",
       "    </tr>\n",
       "    <tr>\n",
       "      <th>ds</th>\n",
       "      <th></th>\n",
       "    </tr>\n",
       "  </thead>\n",
       "  <tbody>\n",
       "    <tr>\n",
       "      <th>1992-01-01</th>\n",
       "      <td>146376</td>\n",
       "    </tr>\n",
       "    <tr>\n",
       "      <th>1992-02-01</th>\n",
       "      <td>147079</td>\n",
       "    </tr>\n",
       "    <tr>\n",
       "      <th>1992-03-01</th>\n",
       "      <td>159336</td>\n",
       "    </tr>\n",
       "    <tr>\n",
       "      <th>1992-04-01</th>\n",
       "      <td>163669</td>\n",
       "    </tr>\n",
       "    <tr>\n",
       "      <th>1992-05-01</th>\n",
       "      <td>170068</td>\n",
       "    </tr>\n",
       "  </tbody>\n",
       "</table>\n",
       "</div>"
      ],
      "text/plain": [
       "                 y\n",
       "ds                \n",
       "1992-01-01  146376\n",
       "1992-02-01  147079\n",
       "1992-03-01  159336\n",
       "1992-04-01  163669\n",
       "1992-05-01  170068"
      ]
     },
     "execution_count": 11,
     "metadata": {},
     "output_type": "execute_result"
    }
   ],
   "source": [
    "X_train.head()"
   ]
  },
  {
   "cell_type": "code",
   "execution_count": 12,
   "metadata": {},
   "outputs": [],
   "source": [
    "#Set up regression model\n",
    "\n",
    "model = Pipeline([\n",
    "    (\"scaler\", MinMaxScaler()),\n",
    "    (\"Lasso\", Lasso(random_state=9, alpha=10))\n",
    "])"
   ]
  },
  {
   "cell_type": "code",
   "execution_count": 13,
   "metadata": {},
   "outputs": [
    {
     "data": {
      "text/html": [
       "<div>\n",
       "<style scoped>\n",
       "    .dataframe tbody tr th:only-of-type {\n",
       "        vertical-align: middle;\n",
       "    }\n",
       "\n",
       "    .dataframe tbody tr th {\n",
       "        vertical-align: top;\n",
       "    }\n",
       "\n",
       "    .dataframe thead th {\n",
       "        text-align: right;\n",
       "    }\n",
       "</style>\n",
       "<table border=\"1\" class=\"dataframe\">\n",
       "  <thead>\n",
       "    <tr style=\"text-align: right;\">\n",
       "      <th></th>\n",
       "      <th>ds</th>\n",
       "    </tr>\n",
       "    <tr>\n",
       "      <th>ds</th>\n",
       "      <th></th>\n",
       "    </tr>\n",
       "  </thead>\n",
       "  <tbody>\n",
       "    <tr>\n",
       "      <th>1992-01-01</th>\n",
       "      <td>1992-01-01</td>\n",
       "    </tr>\n",
       "    <tr>\n",
       "      <th>1992-02-01</th>\n",
       "      <td>1992-02-01</td>\n",
       "    </tr>\n",
       "    <tr>\n",
       "      <th>1992-03-01</th>\n",
       "      <td>1992-03-01</td>\n",
       "    </tr>\n",
       "    <tr>\n",
       "      <th>1992-04-01</th>\n",
       "      <td>1992-04-01</td>\n",
       "    </tr>\n",
       "    <tr>\n",
       "      <th>1992-05-01</th>\n",
       "      <td>1992-05-01</td>\n",
       "    </tr>\n",
       "    <tr>\n",
       "      <th>...</th>\n",
       "      <td>...</td>\n",
       "    </tr>\n",
       "    <tr>\n",
       "      <th>2003-08-01</th>\n",
       "      <td>2003-08-01</td>\n",
       "    </tr>\n",
       "    <tr>\n",
       "      <th>2003-09-01</th>\n",
       "      <td>2003-09-01</td>\n",
       "    </tr>\n",
       "    <tr>\n",
       "      <th>2003-10-01</th>\n",
       "      <td>2003-10-01</td>\n",
       "    </tr>\n",
       "    <tr>\n",
       "      <th>2003-11-01</th>\n",
       "      <td>2003-11-01</td>\n",
       "    </tr>\n",
       "    <tr>\n",
       "      <th>2003-12-01</th>\n",
       "      <td>2003-12-01</td>\n",
       "    </tr>\n",
       "  </tbody>\n",
       "</table>\n",
       "<p>144 rows × 1 columns</p>\n",
       "</div>"
      ],
      "text/plain": [
       "                   ds\n",
       "ds                   \n",
       "1992-01-01 1992-01-01\n",
       "1992-02-01 1992-02-01\n",
       "1992-03-01 1992-03-01\n",
       "1992-04-01 1992-04-01\n",
       "1992-05-01 1992-05-01\n",
       "...               ...\n",
       "2003-08-01 2003-08-01\n",
       "2003-09-01 2003-09-01\n",
       "2003-10-01 2003-10-01\n",
       "2003-11-01 2003-11-01\n",
       "2003-12-01 2003-12-01\n",
       "\n",
       "[144 rows x 1 columns]"
      ]
     },
     "execution_count": 13,
     "metadata": {},
     "output_type": "execute_result"
    }
   ],
   "source": [
    "# input to the datetime features\n",
    "\n",
    "# the index needs to match with the series we\n",
    "# want to forecast\n",
    "\n",
    "datetime_df = pd.DataFrame(\n",
    "    X_train.index,\n",
    "    index=X_train.index,\n",
    ")\n",
    "datetime_df"
   ]
  },
  {
   "cell_type": "code",
   "execution_count": 14,
   "metadata": {},
   "outputs": [],
   "source": [
    "datetime_f = DatetimeFeatures(\n",
    "    variables=\"ds\",\n",
    "    features_to_extract=[\"month\", \"day_of_week\"],\n",
    "    drop_original=True,\n",
    ")\n"
   ]
  },
  {
   "cell_type": "code",
   "execution_count": 15,
   "metadata": {},
   "outputs": [],
   "source": [
    "forecaster = ForecasterRecursive(\n",
    "    regressor=model,\n",
    "    lags=12,\n",
    "    transformer_exog=datetime_f,\n",
    "    forecaster_id=\"recursive\"\n",
    ")"
   ]
  },
  {
   "cell_type": "code",
   "execution_count": 16,
   "metadata": {},
   "outputs": [
    {
     "data": {
      "text/html": [
       "\n",
       "        <style>\n",
       "            .container-590c3b6b38c147a393dc216342b437f5 {\n",
       "                font-family: 'Arial', sans-serif;\n",
       "                font-size: 0.9em;\n",
       "                color: #333333;\n",
       "                border: 1px solid #ddd;\n",
       "                background-color: #f0f8ff;\n",
       "                padding: 5px 15px;\n",
       "                border-radius: 8px;\n",
       "                max-width: 600px;\n",
       "                #margin: auto;\n",
       "            }\n",
       "            .container-590c3b6b38c147a393dc216342b437f5 h2 {\n",
       "                font-size: 1.5em;\n",
       "                color: #222222;\n",
       "                border-bottom: 2px solid #ddd;\n",
       "                padding-bottom: 5px;\n",
       "                margin-bottom: 15px;\n",
       "                margin-top: 5px;\n",
       "            }\n",
       "            .container-590c3b6b38c147a393dc216342b437f5 details {\n",
       "                margin: 10px 0;\n",
       "            }\n",
       "            .container-590c3b6b38c147a393dc216342b437f5 summary {\n",
       "                font-weight: bold;\n",
       "                font-size: 1.1em;\n",
       "                color: #000000;\n",
       "                cursor: pointer;\n",
       "                margin-bottom: 5px;\n",
       "                background-color: #b3dbfd;\n",
       "                padding: 5px;\n",
       "                border-radius: 5px;\n",
       "            }\n",
       "            .container-590c3b6b38c147a393dc216342b437f5 summary:hover {\n",
       "                color: #000000;\n",
       "                background-color: #e0e0e0;\n",
       "            }\n",
       "            .container-590c3b6b38c147a393dc216342b437f5 ul {\n",
       "                font-family: 'Courier New', monospace;\n",
       "                list-style-type: none;\n",
       "                padding-left: 20px;\n",
       "                margin: 10px 0;\n",
       "                line-height: normal;\n",
       "            }\n",
       "            .container-590c3b6b38c147a393dc216342b437f5 li {\n",
       "                margin: 5px 0;\n",
       "                font-family: 'Courier New', monospace;\n",
       "            }\n",
       "            .container-590c3b6b38c147a393dc216342b437f5 li strong {\n",
       "                font-weight: bold;\n",
       "                color: #444444;\n",
       "            }\n",
       "            .container-590c3b6b38c147a393dc216342b437f5 li::before {\n",
       "                content: \"- \";\n",
       "                color: #666666;\n",
       "            }\n",
       "            .container-590c3b6b38c147a393dc216342b437f5 a {\n",
       "                color: #001633;\n",
       "                text-decoration: none;\n",
       "            }\n",
       "            .container-590c3b6b38c147a393dc216342b437f5 a:hover {\n",
       "                color: #359ccb; \n",
       "            }\n",
       "        </style>\n",
       "        \n",
       "        <div class=\"container-590c3b6b38c147a393dc216342b437f5\">\n",
       "            <h2>ForecasterRecursive</h2>\n",
       "            <details open>\n",
       "                <summary>General Information</summary>\n",
       "                <ul>\n",
       "                    <li><strong>Regressor:</strong> Pipeline</li>\n",
       "                    <li><strong>Lags:</strong> [ 1  2  3  4  5  6  7  8  9 10 11 12]</li>\n",
       "                    <li><strong>Window features:</strong> None</li>\n",
       "                    <li><strong>Window size:</strong> 12</li>\n",
       "                    <li><strong>Exogenous included:</strong> True</li>\n",
       "                    <li><strong>Weight function included:</strong> False</li>\n",
       "                    <li><strong>Differentiation order:</strong> None</li>\n",
       "                    <li><strong>Creation date:</strong> 2025-02-02 21:38:25</li>\n",
       "                    <li><strong>Last fit date:</strong> 2025-02-02 21:38:25</li>\n",
       "                    <li><strong>Skforecast version:</strong> 0.14.0</li>\n",
       "                    <li><strong>Python version:</strong> 3.12.6</li>\n",
       "                    <li><strong>Forecaster id:</strong> recursive</li>\n",
       "                </ul>\n",
       "            </details>\n",
       "            <details>\n",
       "                <summary>Exogenous Variables</summary>\n",
       "                <ul>\n",
       "                    ds\n",
       "                </ul>\n",
       "            </details>\n",
       "            <details>\n",
       "                <summary>Data Transformations</summary>\n",
       "                <ul>\n",
       "                    <li><strong>Transformer for y:</strong> None</li>\n",
       "                    <li><strong>Transformer for exog:</strong> DatetimeFeatures(features_to_extract=['month', 'day_of_week'], variables='ds')</li>\n",
       "                </ul>\n",
       "            </details>\n",
       "            <details>\n",
       "                <summary>Training Information</summary>\n",
       "                <ul>\n",
       "                    <li><strong>Training range:</strong> [Timestamp('1992-01-01 00:00:00'), Timestamp('2003-12-01 00:00:00')]</li>\n",
       "                    <li><strong>Training index type:</strong> DatetimeIndex</li>\n",
       "                    <li><strong>Training index frequency:</strong> MS</li>\n",
       "                </ul>\n",
       "            </details>\n",
       "            <details>\n",
       "                <summary>Regressor Parameters</summary>\n",
       "                <ul>\n",
       "                    {'scaler__clip': False, 'scaler__copy': True, 'scaler__feature_range': (0, 1), 'Lasso__alpha': 10, 'Lasso__copy_X': True, 'Lasso__fit_intercept': True, 'Lasso__max_iter': 1000, 'Lasso__positive': False, 'Lasso__precompute': False, 'Lasso__random_state': 9, 'Lasso__selection': 'cyclic', 'Lasso__tol': 0.0001, 'Lasso__warm_start': False}\n",
       "                </ul>\n",
       "            </details>\n",
       "            <details>\n",
       "                <summary>Fit Kwargs</summary>\n",
       "                <ul>\n",
       "                    {}\n",
       "                </ul>\n",
       "            </details>\n",
       "            <p>\n",
       "                <a href=\"https://skforecast.org/0.14.0/api/forecasterrecursive.html\">&#128712 <strong>API Reference</strong></a>\n",
       "                &nbsp;&nbsp;\n",
       "                <a href=\"https://skforecast.org/0.14.0/user_guides/autoregresive-forecaster.html\">&#128462 <strong>User Guide</strong></a>\n",
       "            </p>\n",
       "        </div>\n",
       "        "
      ],
      "text/plain": [
       "=================== \n",
       "ForecasterRecursive \n",
       "=================== \n",
       "Regressor: Pipeline \n",
       "Lags: [ 1  2  3  4  5  6  7  8  9 10 11 12] \n",
       "Window features: None \n",
       "Window size: 12 \n",
       "Exogenous included: True \n",
       "Exogenous names: ds \n",
       "Transformer for y: None \n",
       "Transformer for exog: DatetimeFeatures(features_to_extract=['month', 'day_of_week'], variables='ds') \n",
       "Weight function included: False \n",
       "Differentiation order: None \n",
       "Training range: [Timestamp('1992-01-01 00:00:00'), Timestamp('2003-12-01 00:00:00')] \n",
       "Training index type: DatetimeIndex \n",
       "Training index frequency: MS \n",
       "Regressor parameters: \n",
       "    {'scaler__clip': False, 'scaler__copy': True, 'scaler__feature_range': (0, 1),\n",
       "    'Lasso__alpha': 10, 'Lasso__copy_X': True, 'Lasso__fit_intercept': True,\n",
       "    'Lasso__max_iter': 1000, 'Lasso__positive': False, 'Lasso__precompute':\n",
       "    False, 'Lasso__random_state': 9, 'Lasso__selection': 'cyclic', 'Lasso__tol':\n",
       "    0.0001, 'Lasso__warm_start': False} \n",
       "fit_kwargs: {} \n",
       "Creation date: 2025-02-02 21:38:25 \n",
       "Last fit date: 2025-02-02 21:38:25 \n",
       "Skforecast version: 0.14.0 \n",
       "Python version: 3.12.6 \n",
       "Forecaster id: recursive "
      ]
     },
     "execution_count": 16,
     "metadata": {},
     "output_type": "execute_result"
    }
   ],
   "source": [
    "forecaster.fit(\n",
    "    y=X_train[\"y\"],\n",
    "    exog=datetime_df\n",
    ")\n",
    "forecaster"
   ]
  },
  {
   "cell_type": "code",
   "execution_count": 17,
   "metadata": {},
   "outputs": [
    {
     "data": {
      "text/plain": [
       "(               lag_1     lag_2     lag_3     lag_4     lag_5     lag_6  \\\n",
       " ds                                                                       \n",
       " 1993-01-01  208838.0  171547.0  173655.0  164617.0  170364.0  169890.0   \n",
       " 1993-02-01  153221.0  208838.0  171547.0  173655.0  164617.0  170364.0   \n",
       " 1993-03-01  150087.0  153221.0  208838.0  171547.0  173655.0  164617.0   \n",
       " 1993-04-01  170439.0  150087.0  153221.0  208838.0  171547.0  173655.0   \n",
       " 1993-05-01  176456.0  170439.0  150087.0  153221.0  208838.0  171547.0   \n",
       " ...              ...       ...       ...       ...       ...       ...   \n",
       " 2003-08-01  309923.0  300998.0  312389.0  294251.0  293693.0  259051.0   \n",
       " 2003-09-01  317056.0  309923.0  300998.0  312389.0  294251.0  293693.0   \n",
       " 2003-10-01  293890.0  317056.0  309923.0  300998.0  312389.0  294251.0   \n",
       " 2003-11-01  304036.0  293890.0  317056.0  309923.0  300998.0  312389.0   \n",
       " 2003-12-01  301265.0  304036.0  293890.0  317056.0  309923.0  300998.0   \n",
       " \n",
       "                lag_7     lag_8     lag_9    lag_10    lag_11    lag_12  \\\n",
       " ds                                                                       \n",
       " 1993-01-01  168663.0  170068.0  163669.0  159336.0  147079.0  146376.0   \n",
       " 1993-02-01  169890.0  168663.0  170068.0  163669.0  159336.0  147079.0   \n",
       " 1993-03-01  170364.0  169890.0  168663.0  170068.0  163669.0  159336.0   \n",
       " 1993-04-01  164617.0  170364.0  169890.0  168663.0  170068.0  163669.0   \n",
       " 1993-05-01  173655.0  164617.0  170364.0  169890.0  168663.0  170068.0   \n",
       " ...              ...       ...       ...       ...       ...       ...   \n",
       " 2003-08-01  268328.0  337006.0  290705.0  287540.0  273189.0  307256.0   \n",
       " 2003-09-01  259051.0  268328.0  337006.0  290705.0  287540.0  273189.0   \n",
       " 2003-10-01  293693.0  259051.0  268328.0  337006.0  290705.0  287540.0   \n",
       " 2003-11-01  294251.0  293693.0  259051.0  268328.0  337006.0  290705.0   \n",
       " 2003-12-01  312389.0  294251.0  293693.0  259051.0  268328.0  337006.0   \n",
       " \n",
       "             ds_month  ds_day_of_week  \n",
       " ds                                    \n",
       " 1993-01-01       1.0             4.0  \n",
       " 1993-02-01       2.0             0.0  \n",
       " 1993-03-01       3.0             0.0  \n",
       " 1993-04-01       4.0             3.0  \n",
       " 1993-05-01       5.0             5.0  \n",
       " ...              ...             ...  \n",
       " 2003-08-01       8.0             4.0  \n",
       " 2003-09-01       9.0             0.0  \n",
       " 2003-10-01      10.0             2.0  \n",
       " 2003-11-01      11.0             5.0  \n",
       " 2003-12-01      12.0             0.0  \n",
       " \n",
       " [132 rows x 14 columns],\n",
       " ds\n",
       " 1993-01-01    153221\n",
       " 1993-02-01    150087\n",
       " 1993-03-01    170439\n",
       " 1993-04-01    176456\n",
       " 1993-05-01    182231\n",
       "                ...  \n",
       " 2003-08-01    317056\n",
       " 2003-09-01    293890\n",
       " 2003-10-01    304036\n",
       " 2003-11-01    301265\n",
       " 2003-12-01    357577\n",
       " Freq: MS, Name: y, Length: 132, dtype: int64)"
      ]
     },
     "execution_count": 17,
     "metadata": {},
     "output_type": "execute_result"
    }
   ],
   "source": [
    "# Check the predictor features table created by skforecast.\n",
    "\n",
    "# These are the input to the Lasso, so it's important to know\n",
    "# what we are using for training:\n",
    "\n",
    "X, y = forecaster.create_train_X_y(\n",
    "    y=X_train[\"y\"],\n",
    "    exog=datetime_df,\n",
    ")\n",
    "\n",
    "X, y"
   ]
  },
  {
   "cell_type": "code",
   "execution_count": 18,
   "metadata": {},
   "outputs": [
    {
     "data": {
      "text/html": [
       "<div>\n",
       "<style scoped>\n",
       "    .dataframe tbody tr th:only-of-type {\n",
       "        vertical-align: middle;\n",
       "    }\n",
       "\n",
       "    .dataframe tbody tr th {\n",
       "        vertical-align: top;\n",
       "    }\n",
       "\n",
       "    .dataframe thead th {\n",
       "        text-align: right;\n",
       "    }\n",
       "</style>\n",
       "<table border=\"1\" class=\"dataframe\">\n",
       "  <thead>\n",
       "    <tr style=\"text-align: right;\">\n",
       "      <th></th>\n",
       "      <th>ds</th>\n",
       "    </tr>\n",
       "    <tr>\n",
       "      <th>ds</th>\n",
       "      <th></th>\n",
       "    </tr>\n",
       "  </thead>\n",
       "  <tbody>\n",
       "    <tr>\n",
       "      <th>2004-01-01</th>\n",
       "      <td>2004-01-01</td>\n",
       "    </tr>\n",
       "    <tr>\n",
       "      <th>2004-02-01</th>\n",
       "      <td>2004-02-01</td>\n",
       "    </tr>\n",
       "    <tr>\n",
       "      <th>2004-03-01</th>\n",
       "      <td>2004-03-01</td>\n",
       "    </tr>\n",
       "  </tbody>\n",
       "</table>\n",
       "</div>"
      ],
      "text/plain": [
       "                   ds\n",
       "ds                   \n",
       "2004-01-01 2004-01-01\n",
       "2004-02-01 2004-02-01\n",
       "2004-03-01 2004-03-01"
      ]
     },
     "execution_count": 18,
     "metadata": {},
     "output_type": "execute_result"
    }
   ],
   "source": [
    "# forecast next 3 months\n",
    "#Predict the first 3 months of sales right after the training set.\n",
    "#That is, starting on `2002-01-01`.\n",
    "\n",
    "# we need to create the table with datetime from\n",
    "# which the datetime features will be created:\n",
    "\n",
    "# this date needs to coincide with the forecasting\n",
    "# horizon\n",
    "\n",
    "\n",
    "datetime_df_test = pd.DataFrame(\n",
    "    X_test.head(3).index,\n",
    "    index=X_test.head(3).index,\n",
    ")\n",
    "\n",
    "datetime_df_test.head()"
   ]
  },
  {
   "cell_type": "code",
   "execution_count": 19,
   "metadata": {},
   "outputs": [
    {
     "data": {
      "text/plain": [
       "2004-01-01    284034.022826\n",
       "2004-02-01    268854.147268\n",
       "2004-03-01    308677.758494\n",
       "Freq: MS, Name: pred, dtype: float64"
      ]
     },
     "execution_count": 19,
     "metadata": {},
     "output_type": "execute_result"
    }
   ],
   "source": [
    "# Predict the next 24 hs\n",
    "\n",
    "predictions = forecaster.predict(\n",
    "    steps=3,\n",
    "    exog=datetime_df_test,\n",
    ")\n",
    "\n",
    "predictions.head()"
   ]
  },
  {
   "cell_type": "code",
   "execution_count": 20,
   "metadata": {},
   "outputs": [
    {
     "data": {
      "image/png": "[encoded data removed]",
      "text/plain": [
       "<Figure size 600x300 with 1 Axes>"
      ]
     },
     "metadata": {},
     "output_type": "display_data"
    }
   ],
   "source": [
    "fig, ax = plt.subplots(figsize=(6, 3))\n",
    "X_train.tail(6)[\"y\"].plot(ax=ax, label='train')\n",
    "X_test.head(3)[\"y\"].plot(ax=ax, label='test')\n",
    "predictions.plot(ax=ax, label='predictions')\n",
    "plt.title(\"Lasso forecasting\")\n",
    "plt.ylabel(\"Sales\")\n",
    "ax.legend(bbox_to_anchor=(1.3, 1.0));"
   ]
  },
  {
   "cell_type": "code",
   "execution_count": 21,
   "metadata": {},
   "outputs": [
    {
     "name": "stdout",
     "output_type": "stream",
     "text": [
      "Test error (rmse): 9990.89443258819\n"
     ]
    }
   ],
   "source": [
    "# Predoctopm error\n",
    "\n",
    "error_rmse = root_mean_squared_error(\n",
    "    y_true = X_test[\"y\"].head(3),\n",
    "    y_pred = predictions,\n",
    ")\n",
    "print(f\"Test error (rmse): {error_rmse}\")"
   ]
  },
  {
   "cell_type": "code",
   "execution_count": 22,
   "metadata": {},
   "outputs": [
    {
     "data": {
      "text/plain": [
       "(12, 1)"
      ]
     },
     "execution_count": 22,
     "metadata": {},
     "output_type": "execute_result"
    }
   ],
   "source": [
    "#Forecast future data\n",
    "forecast_start = '2004-12-31'\n",
    "# we need sales up to 12 months before this point\n",
    "# because we are using a lag of 12\n",
    "past_data_available = X_test[:forecast_start].tail(12)\n",
    "# data in the past that we know at the point of forecast\n",
    "past_data_available.shape"
   ]
  },
  {
   "cell_type": "code",
   "execution_count": 23,
   "metadata": {},
   "outputs": [
    {
     "data": {
      "text/html": [
       "<div>\n",
       "<style scoped>\n",
       "    .dataframe tbody tr th:only-of-type {\n",
       "        vertical-align: middle;\n",
       "    }\n",
       "\n",
       "    .dataframe tbody tr th {\n",
       "        vertical-align: top;\n",
       "    }\n",
       "\n",
       "    .dataframe thead th {\n",
       "        text-align: right;\n",
       "    }\n",
       "</style>\n",
       "<table border=\"1\" class=\"dataframe\">\n",
       "  <thead>\n",
       "    <tr style=\"text-align: right;\">\n",
       "      <th></th>\n",
       "      <th>ds</th>\n",
       "    </tr>\n",
       "    <tr>\n",
       "      <th>ds</th>\n",
       "      <th></th>\n",
       "    </tr>\n",
       "  </thead>\n",
       "  <tbody>\n",
       "    <tr>\n",
       "      <th>2005-01-01</th>\n",
       "      <td>2005-01-01</td>\n",
       "    </tr>\n",
       "    <tr>\n",
       "      <th>2005-02-01</th>\n",
       "      <td>2005-02-01</td>\n",
       "    </tr>\n",
       "    <tr>\n",
       "      <th>2005-03-01</th>\n",
       "      <td>2005-03-01</td>\n",
       "    </tr>\n",
       "  </tbody>\n",
       "</table>\n",
       "</div>"
      ],
      "text/plain": [
       "                   ds\n",
       "ds                   \n",
       "2005-01-01 2005-01-01\n",
       "2005-02-01 2005-02-01\n",
       "2005-03-01 2005-03-01"
      ]
     },
     "execution_count": 23,
     "metadata": {},
     "output_type": "execute_result"
    }
   ],
   "source": [
    "# we also need the datetime in the date \n",
    "# range of the forecasting horizon.\n",
    "\n",
    "# To make predictions `exog` must start \n",
    "# one step ahead of `last_window`.\n",
    "\n",
    "horizon = X_test[forecast_start:].head(3)\n",
    "datetime_df_test = pd.DataFrame(\n",
    "    horizon.index,\n",
    "    index=horizon.index,\n",
    ")\n",
    "\n",
    "datetime_df_test"
   ]
  },
  {
   "cell_type": "code",
   "execution_count": 24,
   "metadata": {},
   "outputs": [
    {
     "data": {
      "text/plain": [
       "2005-01-01    294427.375181\n",
       "2005-02-01    295468.556623\n",
       "2005-03-01    330646.433602\n",
       "Freq: MS, Name: pred, dtype: float64"
      ]
     },
     "execution_count": 24,
     "metadata": {},
     "output_type": "execute_result"
    }
   ],
   "source": [
    "predictions = forecaster.predict(\n",
    "    steps=3,\n",
    "    last_window=past_data_available[\"y\"],\n",
    "    exog=datetime_df_test,\n",
    ")\n",
    "predictions"
   ]
  },
  {
   "cell_type": "code",
   "execution_count": 25,
   "metadata": {},
   "outputs": [
    {
     "data": {
      "image/png": "[encoded data removed]",
      "text/plain": [
       "<Figure size 600x300 with 1 Axes>"
      ]
     },
     "metadata": {},
     "output_type": "display_data"
    }
   ],
   "source": [
    "# Plot the forecast vs the actual\n",
    "fig, ax = plt.subplots(figsize=(6, 3))\n",
    "horizon[\"y\"].plot(ax=ax, label='actuals')\n",
    "predictions.plot(ax=ax, label='predictions')\n",
    "plt.title(\"Lasso forecasting\")\n",
    "plt.ylabel('Sales')\n",
    "ax.legend(bbox_to_anchor=(1.3, 1.0));"
   ]
  },
  {
   "cell_type": "code",
   "execution_count": 26,
   "metadata": {},
   "outputs": [
    {
     "name": "stdout",
     "output_type": "stream",
     "text": [
      "Test error (rmse): 12538.523147580763\n"
     ]
    }
   ],
   "source": [
    "# RMSE\n",
    "error_rmse = root_mean_squared_error(\n",
    "    y_true = X_test[\"y\"].head(3),\n",
    "    y_pred = predictions,\n",
    ")\n",
    "print(f\"Test error (rmse): {error_rmse}\")"
   ]
  },
  {
   "cell_type": "code",
   "execution_count": 30,
   "metadata": {},
   "outputs": [],
   "source": [
    "df[f\"y_lag_1\"] = df['y'].shift(periods=1)\n",
    "df[f\"y_lag_24\"] = df['y'].shift(freq='24h')"
   ]
  }
 ],
 "metadata": {
  "kernelspec": {
   "display_name": ".venv",
   "language": "python",
   "name": "python3"
  },
  "language_info": {
   "codemirror_mode": {
    "name": "ipython",
    "version": 3
   },
   "file_extension": ".py",
   "mimetype": "text/x-python",
   "name": "python",
   "nbconvert_exporter": "python",
   "pygments_lexer": "ipython3",
   "version": "3.12.6"
  }
 },
 "nbformat": 4,
 "nbformat_minor": 2
}
