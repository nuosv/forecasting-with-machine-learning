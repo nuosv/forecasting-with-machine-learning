{
 "cells": [
  {
   "cell_type": "markdown",
   "id": "96b946c1",
   "metadata": {},
   "source": [
    "# Direct Forecasting with future known features\n",
    "\n",
    "[Forecasting with Machine Learning - Course](https://www.trainindata.com/p/forecasting-with-machine-learning)\n",
    "\n",
    "In this notebook, we carry out **direct forecasting** to predict multiple steps into the future by combining the use of features from past values of the time series with features whose future values we know.\n",
    "\n",
    "SKForecast produces lags out of the box. And we can combine SKForecast with Feature-engine to create more features."
   ]
  },
  {
   "cell_type": "code",
   "execution_count": 2,
   "id": "6b1c7ede",
   "metadata": {},
   "outputs": [],
   "source": [
    "import matplotlib.pyplot as plt\n",
    "import pandas as pd\n",
    "\n",
    "from sklearn.ensemble import GradientBoostingRegressor\n",
    "from sklearn.metrics import mean_squared_error, root_mean_squared_error\n",
    "from sklearn.pipeline import Pipeline\n",
    "\n",
    "from skforecast.direct import ForecasterDirect\n",
    "\n",
    "from feature_engine.datetime import DatetimeFeatures"
   ]
  },
  {
   "cell_type": "markdown",
   "id": "50371561",
   "metadata": {},
   "source": [
    "# Load data\n",
    "\n",
    "We will use the electricity demand dataset found [here](https://github.com/tidyverts/tsibbledata/tree/master/data-raw/vic_elec/VIC2015).\n",
    "\n",
    "**Citation:**\n",
    "\n",
    "Godahewa, Rakshitha, Bergmeir, Christoph, Webb, Geoff, Hyndman, Rob, & Montero-Manso, Pablo. (2021). Australian Electricity Demand Dataset (Version 1) [Data set]. Zenodo. https://doi.org/10.5281/zenodo.4659727\n",
    "\n",
    "**Description of data:**\n",
    "\n",
    "A description of the data can be found [here](https://rdrr.io/cran/tsibbledata/man/vic_elec.html). The data contains electricity demand in Victoria, Australia, at 30 minute intervals over a period of 12 years, from 2002 to early 2015. There is also the temperature in Melbourne at 30 minute intervals and public holiday dates."
   ]
  },
  {
   "cell_type": "code",
   "execution_count": 3,
   "id": "8b09fa59",
   "metadata": {},
   "outputs": [
    {
     "data": {
      "application/vnd.microsoft.datawrangler.viewer.v0+json": {
       "columns": [
        {
         "name": "date_time",
         "rawType": "datetime64[ns]",
         "type": "datetime"
        },
        {
         "name": "demand",
         "rawType": "float64",
         "type": "float"
        }
       ],
       "conversionMethod": "pd.DataFrame",
       "ref": "c58a92b5-c823-4aef-87c5-1c6ff1145307",
       "rows": [
        [
         "2002-01-01 00:00:00",
         "6919.366092"
        ],
        [
         "2002-01-01 01:00:00",
         "7165.974188"
        ],
        [
         "2002-01-01 02:00:00",
         "6406.542994"
        ],
        [
         "2002-01-01 03:00:00",
         "5815.537828"
        ],
        [
         "2002-01-01 04:00:00",
         "5497.732921999999"
        ]
       ],
       "shape": {
        "columns": 1,
        "rows": 5
       }
      },
      "text/html": [
       "<div>\n",
       "<style scoped>\n",
       "    .dataframe tbody tr th:only-of-type {\n",
       "        vertical-align: middle;\n",
       "    }\n",
       "\n",
       "    .dataframe tbody tr th {\n",
       "        vertical-align: top;\n",
       "    }\n",
       "\n",
       "    .dataframe thead th {\n",
       "        text-align: right;\n",
       "    }\n",
       "</style>\n",
       "<table border=\"1\" class=\"dataframe\">\n",
       "  <thead>\n",
       "    <tr style=\"text-align: right;\">\n",
       "      <th></th>\n",
       "      <th>demand</th>\n",
       "    </tr>\n",
       "    <tr>\n",
       "      <th>date_time</th>\n",
       "      <th></th>\n",
       "    </tr>\n",
       "  </thead>\n",
       "  <tbody>\n",
       "    <tr>\n",
       "      <th>2002-01-01 00:00:00</th>\n",
       "      <td>6919.366092</td>\n",
       "    </tr>\n",
       "    <tr>\n",
       "      <th>2002-01-01 01:00:00</th>\n",
       "      <td>7165.974188</td>\n",
       "    </tr>\n",
       "    <tr>\n",
       "      <th>2002-01-01 02:00:00</th>\n",
       "      <td>6406.542994</td>\n",
       "    </tr>\n",
       "    <tr>\n",
       "      <th>2002-01-01 03:00:00</th>\n",
       "      <td>5815.537828</td>\n",
       "    </tr>\n",
       "    <tr>\n",
       "      <th>2002-01-01 04:00:00</th>\n",
       "      <td>5497.732922</td>\n",
       "    </tr>\n",
       "  </tbody>\n",
       "</table>\n",
       "</div>"
      ],
      "text/plain": [
       "                          demand\n",
       "date_time                       \n",
       "2002-01-01 00:00:00  6919.366092\n",
       "2002-01-01 01:00:00  7165.974188\n",
       "2002-01-01 02:00:00  6406.542994\n",
       "2002-01-01 03:00:00  5815.537828\n",
       "2002-01-01 04:00:00  5497.732922"
      ]
     },
     "execution_count": 3,
     "metadata": {},
     "output_type": "execute_result"
    }
   ],
   "source": [
    "# Electricity demand.\n",
    "url = \"https://raw.githubusercontent.com/tidyverts/tsibbledata/master/data-raw/vic_elec/VIC2015/demand.csv\"\n",
    "df = pd.read_csv(url)\n",
    "\n",
    "df.drop(columns=[\"Industrial\"], inplace=True)\n",
    "\n",
    "# Convert the integer Date to an actual date with datetime type\n",
    "df[\"date\"] = df[\"Date\"].apply(\n",
    "    lambda x: pd.Timestamp(\"1899-12-30\") + pd.Timedelta(x, unit=\"days\")\n",
    ")\n",
    "\n",
    "# Create a timestamp from the integer Period representing 30 minute intervals\n",
    "df[\"date_time\"] = df[\"date\"] + \\\n",
    "    pd.to_timedelta((df[\"Period\"] - 1) * 30, unit=\"m\")\n",
    "\n",
    "df.dropna(inplace=True)\n",
    "\n",
    "# Rename columns\n",
    "df = df[[\"date_time\", \"OperationalLessIndustrial\"]]\n",
    "\n",
    "df.columns = [\"date_time\", \"demand\"]\n",
    "\n",
    "# Resample to hourly\n",
    "df = (\n",
    "    df.set_index(\"date_time\")\n",
    "    .resample(\"h\")\n",
    "    .agg({\"demand\": \"sum\"})\n",
    ")\n",
    "\n",
    "df.head()"
   ]
  },
  {
   "cell_type": "code",
   "execution_count": 4,
   "id": "baa2bbc2",
   "metadata": {},
   "outputs": [
    {
     "data": {
      "application/vnd.microsoft.datawrangler.viewer.v0+json": {
       "columns": [
        {
         "name": "date_time",
         "rawType": "datetime64[ns]",
         "type": "datetime"
        },
        {
         "name": "demand",
         "rawType": "float64",
         "type": "float"
        }
       ],
       "conversionMethod": "pd.DataFrame",
       "ref": "f35b8254-7e92-46c6-adbd-c69d48ab47a1",
       "rows": [
        [
         "2015-02-28 19:00:00",
         "9596.77706"
        ],
        [
         "2015-02-28 20:00:00",
         "8883.230296"
        ],
        [
         "2015-02-28 21:00:00",
         "8320.260549999999"
        ],
        [
         "2015-02-28 22:00:00",
         "8110.055916"
        ],
        [
         "2015-02-28 23:00:00",
         "8519.368752"
        ]
       ],
       "shape": {
        "columns": 1,
        "rows": 5
       }
      },
      "text/html": [
       "<div>\n",
       "<style scoped>\n",
       "    .dataframe tbody tr th:only-of-type {\n",
       "        vertical-align: middle;\n",
       "    }\n",
       "\n",
       "    .dataframe tbody tr th {\n",
       "        vertical-align: top;\n",
       "    }\n",
       "\n",
       "    .dataframe thead th {\n",
       "        text-align: right;\n",
       "    }\n",
       "</style>\n",
       "<table border=\"1\" class=\"dataframe\">\n",
       "  <thead>\n",
       "    <tr style=\"text-align: right;\">\n",
       "      <th></th>\n",
       "      <th>demand</th>\n",
       "    </tr>\n",
       "    <tr>\n",
       "      <th>date_time</th>\n",
       "      <th></th>\n",
       "    </tr>\n",
       "  </thead>\n",
       "  <tbody>\n",
       "    <tr>\n",
       "      <th>2015-02-28 19:00:00</th>\n",
       "      <td>9596.777060</td>\n",
       "    </tr>\n",
       "    <tr>\n",
       "      <th>2015-02-28 20:00:00</th>\n",
       "      <td>8883.230296</td>\n",
       "    </tr>\n",
       "    <tr>\n",
       "      <th>2015-02-28 21:00:00</th>\n",
       "      <td>8320.260550</td>\n",
       "    </tr>\n",
       "    <tr>\n",
       "      <th>2015-02-28 22:00:00</th>\n",
       "      <td>8110.055916</td>\n",
       "    </tr>\n",
       "    <tr>\n",
       "      <th>2015-02-28 23:00:00</th>\n",
       "      <td>8519.368752</td>\n",
       "    </tr>\n",
       "  </tbody>\n",
       "</table>\n",
       "</div>"
      ],
      "text/plain": [
       "                          demand\n",
       "date_time                       \n",
       "2015-02-28 19:00:00  9596.777060\n",
       "2015-02-28 20:00:00  8883.230296\n",
       "2015-02-28 21:00:00  8320.260550\n",
       "2015-02-28 22:00:00  8110.055916\n",
       "2015-02-28 23:00:00  8519.368752"
      ]
     },
     "execution_count": 4,
     "metadata": {},
     "output_type": "execute_result"
    }
   ],
   "source": [
    "df.tail()"
   ]
  },
  {
   "cell_type": "code",
   "execution_count": 5,
   "id": "5ea042aa",
   "metadata": {},
   "outputs": [],
   "source": [
    "# Split into train and test\n",
    "\n",
    "# We leave the last February in the test set\n",
    "\n",
    "end_train = '2014-12-31 23:59:59'\n",
    "X_train = df.loc[:end_train]\n",
    "X_test  = df.loc[end_train:]"
   ]
  },
  {
   "cell_type": "markdown",
   "id": "9c56ed97",
   "metadata": {},
   "source": [
    "## Plot time series"
   ]
  },
  {
   "cell_type": "code",
   "execution_count": 6,
   "id": "a7ab8c0d",
   "metadata": {},
   "outputs": [
    {
     "data": {
      "image/png": "[encoded data removed]",
      "text/plain": [
       "<Figure size 700x300 with 1 Axes>"
      ]
     },
     "metadata": {},
     "output_type": "display_data"
    }
   ],
   "source": [
    "fig, ax = plt.subplots(figsize=(7, 3))\n",
    "X_train.tail(500).plot(ax=ax)\n",
    "X_test.head(500).plot(ax=ax)\n",
    "ax.set_title('Hourly energy consumption.')\n",
    "ax.legend([\"train\", \"test\"])\n",
    "plt.show()"
   ]
  },
  {
   "cell_type": "markdown",
   "id": "a384443e",
   "metadata": {},
   "source": [
    "## Regression model"
   ]
  },
  {
   "cell_type": "code",
   "execution_count": 7,
   "id": "5ddc5f94",
   "metadata": {},
   "outputs": [],
   "source": [
    "model = GradientBoostingRegressor(random_state=9, max_depth=3, n_estimators=5) "
   ]
  },
  {
   "cell_type": "markdown",
   "id": "d2296fd2",
   "metadata": {},
   "source": [
    "## Future known values: datetime\n",
    "\n",
    "We'll add datetime features."
   ]
  },
  {
   "cell_type": "code",
   "execution_count": 8,
   "id": "87cd7cfd",
   "metadata": {},
   "outputs": [
    {
     "data": {
      "application/vnd.microsoft.datawrangler.viewer.v0+json": {
       "columns": [
        {
         "name": "date_time",
         "rawType": "datetime64[ns]",
         "type": "datetime"
        },
        {
         "name": "date_time",
         "rawType": "datetime64[ns]",
         "type": "datetime"
        }
       ],
       "conversionMethod": "pd.DataFrame",
       "ref": "0bd6f474-a2e2-4dd8-b4fa-9e5c0ee0af12",
       "rows": [
        [
         "2002-01-01 00:00:00",
         "2002-01-01 00:00:00"
        ],
        [
         "2002-01-01 01:00:00",
         "2002-01-01 01:00:00"
        ],
        [
         "2002-01-01 02:00:00",
         "2002-01-01 02:00:00"
        ],
        [
         "2002-01-01 03:00:00",
         "2002-01-01 03:00:00"
        ],
        [
         "2002-01-01 04:00:00",
         "2002-01-01 04:00:00"
        ],
        [
         "2002-01-01 05:00:00",
         "2002-01-01 05:00:00"
        ],
        [
         "2002-01-01 06:00:00",
         "2002-01-01 06:00:00"
        ],
        [
         "2002-01-01 07:00:00",
         "2002-01-01 07:00:00"
        ],
        [
         "2002-01-01 08:00:00",
         "2002-01-01 08:00:00"
        ],
        [
         "2002-01-01 09:00:00",
         "2002-01-01 09:00:00"
        ],
        [
         "2002-01-01 10:00:00",
         "2002-01-01 10:00:00"
        ],
        [
         "2002-01-01 11:00:00",
         "2002-01-01 11:00:00"
        ],
        [
         "2002-01-01 12:00:00",
         "2002-01-01 12:00:00"
        ],
        [
         "2002-01-01 13:00:00",
         "2002-01-01 13:00:00"
        ],
        [
         "2002-01-01 14:00:00",
         "2002-01-01 14:00:00"
        ],
        [
         "2002-01-01 15:00:00",
         "2002-01-01 15:00:00"
        ],
        [
         "2002-01-01 16:00:00",
         "2002-01-01 16:00:00"
        ],
        [
         "2002-01-01 17:00:00",
         "2002-01-01 17:00:00"
        ],
        [
         "2002-01-01 18:00:00",
         "2002-01-01 18:00:00"
        ],
        [
         "2002-01-01 19:00:00",
         "2002-01-01 19:00:00"
        ],
        [
         "2002-01-01 20:00:00",
         "2002-01-01 20:00:00"
        ],
        [
         "2002-01-01 21:00:00",
         "2002-01-01 21:00:00"
        ],
        [
         "2002-01-01 22:00:00",
         "2002-01-01 22:00:00"
        ],
        [
         "2002-01-01 23:00:00",
         "2002-01-01 23:00:00"
        ],
        [
         "2002-01-02 00:00:00",
         "2002-01-02 00:00:00"
        ],
        [
         "2002-01-02 01:00:00",
         "2002-01-02 01:00:00"
        ],
        [
         "2002-01-02 02:00:00",
         "2002-01-02 02:00:00"
        ],
        [
         "2002-01-02 03:00:00",
         "2002-01-02 03:00:00"
        ],
        [
         "2002-01-02 04:00:00",
         "2002-01-02 04:00:00"
        ],
        [
         "2002-01-02 05:00:00",
         "2002-01-02 05:00:00"
        ],
        [
         "2002-01-02 06:00:00",
         "2002-01-02 06:00:00"
        ],
        [
         "2002-01-02 07:00:00",
         "2002-01-02 07:00:00"
        ],
        [
         "2002-01-02 08:00:00",
         "2002-01-02 08:00:00"
        ],
        [
         "2002-01-02 09:00:00",
         "2002-01-02 09:00:00"
        ],
        [
         "2002-01-02 10:00:00",
         "2002-01-02 10:00:00"
        ],
        [
         "2002-01-02 11:00:00",
         "2002-01-02 11:00:00"
        ],
        [
         "2002-01-02 12:00:00",
         "2002-01-02 12:00:00"
        ],
        [
         "2002-01-02 13:00:00",
         "2002-01-02 13:00:00"
        ],
        [
         "2002-01-02 14:00:00",
         "2002-01-02 14:00:00"
        ],
        [
         "2002-01-02 15:00:00",
         "2002-01-02 15:00:00"
        ],
        [
         "2002-01-02 16:00:00",
         "2002-01-02 16:00:00"
        ],
        [
         "2002-01-02 17:00:00",
         "2002-01-02 17:00:00"
        ],
        [
         "2002-01-02 18:00:00",
         "2002-01-02 18:00:00"
        ],
        [
         "2002-01-02 19:00:00",
         "2002-01-02 19:00:00"
        ],
        [
         "2002-01-02 20:00:00",
         "2002-01-02 20:00:00"
        ],
        [
         "2002-01-02 21:00:00",
         "2002-01-02 21:00:00"
        ],
        [
         "2002-01-02 22:00:00",
         "2002-01-02 22:00:00"
        ],
        [
         "2002-01-02 23:00:00",
         "2002-01-02 23:00:00"
        ],
        [
         "2002-01-03 00:00:00",
         "2002-01-03 00:00:00"
        ],
        [
         "2002-01-03 01:00:00",
         "2002-01-03 01:00:00"
        ]
       ],
       "shape": {
        "columns": 1,
        "rows": 113952
       }
      },
      "text/html": [
       "<div>\n",
       "<style scoped>\n",
       "    .dataframe tbody tr th:only-of-type {\n",
       "        vertical-align: middle;\n",
       "    }\n",
       "\n",
       "    .dataframe tbody tr th {\n",
       "        vertical-align: top;\n",
       "    }\n",
       "\n",
       "    .dataframe thead th {\n",
       "        text-align: right;\n",
       "    }\n",
       "</style>\n",
       "<table border=\"1\" class=\"dataframe\">\n",
       "  <thead>\n",
       "    <tr style=\"text-align: right;\">\n",
       "      <th></th>\n",
       "      <th>date_time</th>\n",
       "    </tr>\n",
       "    <tr>\n",
       "      <th>date_time</th>\n",
       "      <th></th>\n",
       "    </tr>\n",
       "  </thead>\n",
       "  <tbody>\n",
       "    <tr>\n",
       "      <th>2002-01-01 00:00:00</th>\n",
       "      <td>2002-01-01 00:00:00</td>\n",
       "    </tr>\n",
       "    <tr>\n",
       "      <th>2002-01-01 01:00:00</th>\n",
       "      <td>2002-01-01 01:00:00</td>\n",
       "    </tr>\n",
       "    <tr>\n",
       "      <th>2002-01-01 02:00:00</th>\n",
       "      <td>2002-01-01 02:00:00</td>\n",
       "    </tr>\n",
       "    <tr>\n",
       "      <th>2002-01-01 03:00:00</th>\n",
       "      <td>2002-01-01 03:00:00</td>\n",
       "    </tr>\n",
       "    <tr>\n",
       "      <th>2002-01-01 04:00:00</th>\n",
       "      <td>2002-01-01 04:00:00</td>\n",
       "    </tr>\n",
       "    <tr>\n",
       "      <th>...</th>\n",
       "      <td>...</td>\n",
       "    </tr>\n",
       "    <tr>\n",
       "      <th>2014-12-31 19:00:00</th>\n",
       "      <td>2014-12-31 19:00:00</td>\n",
       "    </tr>\n",
       "    <tr>\n",
       "      <th>2014-12-31 20:00:00</th>\n",
       "      <td>2014-12-31 20:00:00</td>\n",
       "    </tr>\n",
       "    <tr>\n",
       "      <th>2014-12-31 21:00:00</th>\n",
       "      <td>2014-12-31 21:00:00</td>\n",
       "    </tr>\n",
       "    <tr>\n",
       "      <th>2014-12-31 22:00:00</th>\n",
       "      <td>2014-12-31 22:00:00</td>\n",
       "    </tr>\n",
       "    <tr>\n",
       "      <th>2014-12-31 23:00:00</th>\n",
       "      <td>2014-12-31 23:00:00</td>\n",
       "    </tr>\n",
       "  </tbody>\n",
       "</table>\n",
       "<p>113952 rows × 1 columns</p>\n",
       "</div>"
      ],
      "text/plain": [
       "                              date_time\n",
       "date_time                              \n",
       "2002-01-01 00:00:00 2002-01-01 00:00:00\n",
       "2002-01-01 01:00:00 2002-01-01 01:00:00\n",
       "2002-01-01 02:00:00 2002-01-01 02:00:00\n",
       "2002-01-01 03:00:00 2002-01-01 03:00:00\n",
       "2002-01-01 04:00:00 2002-01-01 04:00:00\n",
       "...                                 ...\n",
       "2014-12-31 19:00:00 2014-12-31 19:00:00\n",
       "2014-12-31 20:00:00 2014-12-31 20:00:00\n",
       "2014-12-31 21:00:00 2014-12-31 21:00:00\n",
       "2014-12-31 22:00:00 2014-12-31 22:00:00\n",
       "2014-12-31 23:00:00 2014-12-31 23:00:00\n",
       "\n",
       "[113952 rows x 1 columns]"
      ]
     },
     "execution_count": 8,
     "metadata": {},
     "output_type": "execute_result"
    }
   ],
   "source": [
    "# the template data that we'll use to create those\n",
    "# features\n",
    "\n",
    "datetime_df = pd.DataFrame(X_train.index, index=X_train.index)\n",
    "\n",
    "datetime_df"
   ]
  },
  {
   "cell_type": "code",
   "execution_count": 9,
   "id": "ad40b22d",
   "metadata": {},
   "outputs": [
    {
     "data": {
      "application/vnd.microsoft.datawrangler.viewer.v0+json": {
       "columns": [
        {
         "name": "date_time",
         "rawType": "datetime64[ns]",
         "type": "datetime"
        },
        {
         "name": "date_time_month",
         "rawType": "int32",
         "type": "integer"
        },
        {
         "name": "date_time_day_of_week",
         "rawType": "int32",
         "type": "integer"
        },
        {
         "name": "date_time_hour",
         "rawType": "int32",
         "type": "integer"
        }
       ],
       "conversionMethod": "pd.DataFrame",
       "ref": "be9c798e-8666-4ba0-bd5b-82bdce0a6263",
       "rows": [
        [
         "2002-01-01 00:00:00",
         "1",
         "1",
         "0"
        ],
        [
         "2002-01-01 01:00:00",
         "1",
         "1",
         "1"
        ],
        [
         "2002-01-01 02:00:00",
         "1",
         "1",
         "2"
        ],
        [
         "2002-01-01 03:00:00",
         "1",
         "1",
         "3"
        ],
        [
         "2002-01-01 04:00:00",
         "1",
         "1",
         "4"
        ],
        [
         "2002-01-01 05:00:00",
         "1",
         "1",
         "5"
        ],
        [
         "2002-01-01 06:00:00",
         "1",
         "1",
         "6"
        ],
        [
         "2002-01-01 07:00:00",
         "1",
         "1",
         "7"
        ],
        [
         "2002-01-01 08:00:00",
         "1",
         "1",
         "8"
        ],
        [
         "2002-01-01 09:00:00",
         "1",
         "1",
         "9"
        ],
        [
         "2002-01-01 10:00:00",
         "1",
         "1",
         "10"
        ],
        [
         "2002-01-01 11:00:00",
         "1",
         "1",
         "11"
        ],
        [
         "2002-01-01 12:00:00",
         "1",
         "1",
         "12"
        ],
        [
         "2002-01-01 13:00:00",
         "1",
         "1",
         "13"
        ],
        [
         "2002-01-01 14:00:00",
         "1",
         "1",
         "14"
        ],
        [
         "2002-01-01 15:00:00",
         "1",
         "1",
         "15"
        ],
        [
         "2002-01-01 16:00:00",
         "1",
         "1",
         "16"
        ],
        [
         "2002-01-01 17:00:00",
         "1",
         "1",
         "17"
        ],
        [
         "2002-01-01 18:00:00",
         "1",
         "1",
         "18"
        ],
        [
         "2002-01-01 19:00:00",
         "1",
         "1",
         "19"
        ],
        [
         "2002-01-01 20:00:00",
         "1",
         "1",
         "20"
        ],
        [
         "2002-01-01 21:00:00",
         "1",
         "1",
         "21"
        ],
        [
         "2002-01-01 22:00:00",
         "1",
         "1",
         "22"
        ],
        [
         "2002-01-01 23:00:00",
         "1",
         "1",
         "23"
        ],
        [
         "2002-01-02 00:00:00",
         "1",
         "2",
         "0"
        ],
        [
         "2002-01-02 01:00:00",
         "1",
         "2",
         "1"
        ],
        [
         "2002-01-02 02:00:00",
         "1",
         "2",
         "2"
        ],
        [
         "2002-01-02 03:00:00",
         "1",
         "2",
         "3"
        ],
        [
         "2002-01-02 04:00:00",
         "1",
         "2",
         "4"
        ],
        [
         "2002-01-02 05:00:00",
         "1",
         "2",
         "5"
        ],
        [
         "2002-01-02 06:00:00",
         "1",
         "2",
         "6"
        ],
        [
         "2002-01-02 07:00:00",
         "1",
         "2",
         "7"
        ],
        [
         "2002-01-02 08:00:00",
         "1",
         "2",
         "8"
        ],
        [
         "2002-01-02 09:00:00",
         "1",
         "2",
         "9"
        ],
        [
         "2002-01-02 10:00:00",
         "1",
         "2",
         "10"
        ],
        [
         "2002-01-02 11:00:00",
         "1",
         "2",
         "11"
        ],
        [
         "2002-01-02 12:00:00",
         "1",
         "2",
         "12"
        ],
        [
         "2002-01-02 13:00:00",
         "1",
         "2",
         "13"
        ],
        [
         "2002-01-02 14:00:00",
         "1",
         "2",
         "14"
        ],
        [
         "2002-01-02 15:00:00",
         "1",
         "2",
         "15"
        ],
        [
         "2002-01-02 16:00:00",
         "1",
         "2",
         "16"
        ],
        [
         "2002-01-02 17:00:00",
         "1",
         "2",
         "17"
        ],
        [
         "2002-01-02 18:00:00",
         "1",
         "2",
         "18"
        ],
        [
         "2002-01-02 19:00:00",
         "1",
         "2",
         "19"
        ],
        [
         "2002-01-02 20:00:00",
         "1",
         "2",
         "20"
        ],
        [
         "2002-01-02 21:00:00",
         "1",
         "2",
         "21"
        ],
        [
         "2002-01-02 22:00:00",
         "1",
         "2",
         "22"
        ],
        [
         "2002-01-02 23:00:00",
         "1",
         "2",
         "23"
        ],
        [
         "2002-01-03 00:00:00",
         "1",
         "3",
         "0"
        ],
        [
         "2002-01-03 01:00:00",
         "1",
         "3",
         "1"
        ]
       ],
       "shape": {
        "columns": 3,
        "rows": 113952
       }
      },
      "text/html": [
       "<div>\n",
       "<style scoped>\n",
       "    .dataframe tbody tr th:only-of-type {\n",
       "        vertical-align: middle;\n",
       "    }\n",
       "\n",
       "    .dataframe tbody tr th {\n",
       "        vertical-align: top;\n",
       "    }\n",
       "\n",
       "    .dataframe thead th {\n",
       "        text-align: right;\n",
       "    }\n",
       "</style>\n",
       "<table border=\"1\" class=\"dataframe\">\n",
       "  <thead>\n",
       "    <tr style=\"text-align: right;\">\n",
       "      <th></th>\n",
       "      <th>date_time_month</th>\n",
       "      <th>date_time_day_of_week</th>\n",
       "      <th>date_time_hour</th>\n",
       "    </tr>\n",
       "    <tr>\n",
       "      <th>date_time</th>\n",
       "      <th></th>\n",
       "      <th></th>\n",
       "      <th></th>\n",
       "    </tr>\n",
       "  </thead>\n",
       "  <tbody>\n",
       "    <tr>\n",
       "      <th>2002-01-01 00:00:00</th>\n",
       "      <td>1</td>\n",
       "      <td>1</td>\n",
       "      <td>0</td>\n",
       "    </tr>\n",
       "    <tr>\n",
       "      <th>2002-01-01 01:00:00</th>\n",
       "      <td>1</td>\n",
       "      <td>1</td>\n",
       "      <td>1</td>\n",
       "    </tr>\n",
       "    <tr>\n",
       "      <th>2002-01-01 02:00:00</th>\n",
       "      <td>1</td>\n",
       "      <td>1</td>\n",
       "      <td>2</td>\n",
       "    </tr>\n",
       "    <tr>\n",
       "      <th>2002-01-01 03:00:00</th>\n",
       "      <td>1</td>\n",
       "      <td>1</td>\n",
       "      <td>3</td>\n",
       "    </tr>\n",
       "    <tr>\n",
       "      <th>2002-01-01 04:00:00</th>\n",
       "      <td>1</td>\n",
       "      <td>1</td>\n",
       "      <td>4</td>\n",
       "    </tr>\n",
       "    <tr>\n",
       "      <th>...</th>\n",
       "      <td>...</td>\n",
       "      <td>...</td>\n",
       "      <td>...</td>\n",
       "    </tr>\n",
       "    <tr>\n",
       "      <th>2014-12-31 19:00:00</th>\n",
       "      <td>12</td>\n",
       "      <td>2</td>\n",
       "      <td>19</td>\n",
       "    </tr>\n",
       "    <tr>\n",
       "      <th>2014-12-31 20:00:00</th>\n",
       "      <td>12</td>\n",
       "      <td>2</td>\n",
       "      <td>20</td>\n",
       "    </tr>\n",
       "    <tr>\n",
       "      <th>2014-12-31 21:00:00</th>\n",
       "      <td>12</td>\n",
       "      <td>2</td>\n",
       "      <td>21</td>\n",
       "    </tr>\n",
       "    <tr>\n",
       "      <th>2014-12-31 22:00:00</th>\n",
       "      <td>12</td>\n",
       "      <td>2</td>\n",
       "      <td>22</td>\n",
       "    </tr>\n",
       "    <tr>\n",
       "      <th>2014-12-31 23:00:00</th>\n",
       "      <td>12</td>\n",
       "      <td>2</td>\n",
       "      <td>23</td>\n",
       "    </tr>\n",
       "  </tbody>\n",
       "</table>\n",
       "<p>113952 rows × 3 columns</p>\n",
       "</div>"
      ],
      "text/plain": [
       "                     date_time_month  date_time_day_of_week  date_time_hour\n",
       "date_time                                                                  \n",
       "2002-01-01 00:00:00                1                      1               0\n",
       "2002-01-01 01:00:00                1                      1               1\n",
       "2002-01-01 02:00:00                1                      1               2\n",
       "2002-01-01 03:00:00                1                      1               3\n",
       "2002-01-01 04:00:00                1                      1               4\n",
       "...                              ...                    ...             ...\n",
       "2014-12-31 19:00:00               12                      2              19\n",
       "2014-12-31 20:00:00               12                      2              20\n",
       "2014-12-31 21:00:00               12                      2              21\n",
       "2014-12-31 22:00:00               12                      2              22\n",
       "2014-12-31 23:00:00               12                      2              23\n",
       "\n",
       "[113952 rows x 3 columns]"
      ]
     },
     "execution_count": 9,
     "metadata": {},
     "output_type": "execute_result"
    }
   ],
   "source": [
    "# set the datetime features.\n",
    "\n",
    "datetime_f = DatetimeFeatures(\n",
    "    variables=\"date_time\",\n",
    "    features_to_extract=[\"month\", \"day_of_week\", \"hour\"],\n",
    "    drop_original=True,\n",
    ")\n",
    "\n",
    "# test\n",
    "\n",
    "datetime_f.fit_transform(datetime_df)"
   ]
  },
  {
   "cell_type": "markdown",
   "id": "35cd50ea",
   "metadata": {},
   "source": [
    "## Direct forecaster"
   ]
  },
  {
   "cell_type": "code",
   "execution_count": 10,
   "id": "6f528256",
   "metadata": {},
   "outputs": [],
   "source": [
    "forecaster = ForecasterDirect(\n",
    "    regressor=model,              # the machine learning model\n",
    "    lags=24,                      # the lag features to create\n",
    "    transformer_exog=datetime_f,  # to get the datetime features\n",
    "    steps=24,\n",
    "    forecaster_id=\"direct\",\n",
    ")"
   ]
  },
  {
   "cell_type": "code",
   "execution_count": 11,
   "id": "c3d95c7d",
   "metadata": {},
   "outputs": [
    {
     "data": {
      "text/html": [
       "\n",
       "        <style>\n",
       "            .container-76c5651f9c594f70a4a921f01676d290 {\n",
       "                font-family: 'Arial', sans-serif;\n",
       "                font-size: 0.9em;\n",
       "                color: #333333;\n",
       "                border: 1px solid #ddd;\n",
       "                background-color: #f0f8ff;\n",
       "                padding: 5px 15px;\n",
       "                border-radius: 8px;\n",
       "                max-width: 600px;\n",
       "                #margin: auto;\n",
       "            }\n",
       "            .container-76c5651f9c594f70a4a921f01676d290 h2 {\n",
       "                font-size: 1.5em;\n",
       "                color: #222222;\n",
       "                border-bottom: 2px solid #ddd;\n",
       "                padding-bottom: 5px;\n",
       "                margin-bottom: 15px;\n",
       "                margin-top: 5px;\n",
       "            }\n",
       "            .container-76c5651f9c594f70a4a921f01676d290 details {\n",
       "                margin: 10px 0;\n",
       "            }\n",
       "            .container-76c5651f9c594f70a4a921f01676d290 summary {\n",
       "                font-weight: bold;\n",
       "                font-size: 1.1em;\n",
       "                color: #000000;\n",
       "                cursor: pointer;\n",
       "                margin-bottom: 5px;\n",
       "                background-color: #b3dbfd;\n",
       "                padding: 5px;\n",
       "                border-radius: 5px;\n",
       "            }\n",
       "            .container-76c5651f9c594f70a4a921f01676d290 summary:hover {\n",
       "                color: #000000;\n",
       "                background-color: #e0e0e0;\n",
       "            }\n",
       "            .container-76c5651f9c594f70a4a921f01676d290 ul {\n",
       "                font-family: 'Courier New', monospace;\n",
       "                list-style-type: none;\n",
       "                padding-left: 20px;\n",
       "                margin: 10px 0;\n",
       "                line-height: normal;\n",
       "            }\n",
       "            .container-76c5651f9c594f70a4a921f01676d290 li {\n",
       "                margin: 5px 0;\n",
       "                font-family: 'Courier New', monospace;\n",
       "            }\n",
       "            .container-76c5651f9c594f70a4a921f01676d290 li strong {\n",
       "                font-weight: bold;\n",
       "                color: #444444;\n",
       "            }\n",
       "            .container-76c5651f9c594f70a4a921f01676d290 li::before {\n",
       "                content: \"- \";\n",
       "                color: #666666;\n",
       "            }\n",
       "            .container-76c5651f9c594f70a4a921f01676d290 a {\n",
       "                color: #001633;\n",
       "                text-decoration: none;\n",
       "            }\n",
       "            .container-76c5651f9c594f70a4a921f01676d290 a:hover {\n",
       "                color: #359ccb; \n",
       "            }\n",
       "        </style>\n",
       "        \n",
       "        <div class=\"container-76c5651f9c594f70a4a921f01676d290\">\n",
       "            <h2>ForecasterDirect</h2>\n",
       "            <details open>\n",
       "                <summary>General Information</summary>\n",
       "                <ul>\n",
       "                    <li><strong>Regressor:</strong> GradientBoostingRegressor</li>\n",
       "                    <li><strong>Lags:</strong> [ 1  2  3  4  5  6  7  8  9 10 11 12 13 14 15 16 17 18 19 20 21 22 23 24]</li>\n",
       "                    <li><strong>Window features:</strong> None</li>\n",
       "                    <li><strong>Window size:</strong> 24</li>\n",
       "                    <li><strong>Maximum steps to predict:</strong> 24</li>\n",
       "                    <li><strong>Exogenous included:</strong> True</li>\n",
       "                    <li><strong>Weight function included:</strong> False</li>\n",
       "                    <li><strong>Differentiation order:</strong> None</li>\n",
       "                    <li><strong>Creation date:</strong> 2025-02-12 19:44:43</li>\n",
       "                    <li><strong>Last fit date:</strong> 2025-02-12 19:45:05</li>\n",
       "                    <li><strong>Skforecast version:</strong> 0.14.0</li>\n",
       "                    <li><strong>Python version:</strong> 3.12.6</li>\n",
       "                    <li><strong>Forecaster id:</strong> direct</li>\n",
       "                </ul>\n",
       "            </details>\n",
       "            <details>\n",
       "                <summary>Exogenous Variables</summary>\n",
       "                <ul>\n",
       "                    date_time\n",
       "                </ul>\n",
       "            </details>\n",
       "            <details>\n",
       "                <summary>Data Transformations</summary>\n",
       "                <ul>\n",
       "                    <li><strong>Transformer for y:</strong> None</li>\n",
       "                    <li><strong>Transformer for exog:</strong> DatetimeFeatures(features_to_extract=['month', 'day_of_week', 'hour'],\n",
       "                 variables='date_time')</li>\n",
       "                </ul>\n",
       "            </details>\n",
       "            <details>\n",
       "                <summary>Training Information</summary>\n",
       "                <ul>\n",
       "                    <li><strong>Training range:</strong> [Timestamp('2002-01-01 00:00:00'), Timestamp('2014-12-31 23:00:00')]</li>\n",
       "                    <li><strong>Training index type:</strong> DatetimeIndex</li>\n",
       "                    <li><strong>Training index frequency:</strong> h</li>\n",
       "                </ul>\n",
       "            </details>\n",
       "            <details>\n",
       "                <summary>Regressor Parameters</summary>\n",
       "                <ul>\n",
       "                    {'alpha': 0.9, 'ccp_alpha': 0.0, 'criterion': 'friedman_mse', 'init': None, 'learning_rate': 0.1, 'loss': 'squared_error', 'max_depth': 3, 'max_features': None, 'max_leaf_nodes': None, 'min_impurity_decrease': 0.0, 'min_samples_leaf': 1, 'min_samples_split': 2, 'min_weight_fraction_leaf': 0.0, 'n_estimators': 5, 'n_iter_no_change': None, 'random_state': 9, 'subsample': 1.0, 'tol': 0.0001, 'validation_fraction': 0.1, 'verbose': 0, 'warm_start': False}\n",
       "                </ul>\n",
       "            </details>\n",
       "            <details>\n",
       "                <summary>Fit Kwargs</summary>\n",
       "                <ul>\n",
       "                    {}\n",
       "                </ul>\n",
       "            </details>\n",
       "            <p>\n",
       "                <a href=\"https://skforecast.org/0.14.0/api/forecasterdirect.html\">&#128712 <strong>API Reference</strong></a>\n",
       "                &nbsp;&nbsp;\n",
       "                <a href=\"https://skforecast.org/0.14.0/user_guides/direct-multi-step-forecasting.html\">&#128462 <strong>User Guide</strong></a>\n",
       "            </p>\n",
       "        </div>\n",
       "        "
      ],
      "text/plain": [
       "================ \n",
       "ForecasterDirect \n",
       "================ \n",
       "Regressor: GradientBoostingRegressor \n",
       "Lags: [ 1  2  3  4  5  6  7  8  9 10 11 12 13 14 15 16 17 18 19 20 21 22 23 24] \n",
       "Window features: None \n",
       "Window size: 24 \n",
       "Maximum steps to predict: 24 \n",
       "Exogenous included: True \n",
       "Exogenous names: date_time \n",
       "Transformer for y: None \n",
       "Transformer for exog: DatetimeFeatures(features_to_extract=['month', 'day_of_week', 'hour'],\n",
       "                 variables='date_time') \n",
       "Weight function included: False \n",
       "Differentiation order: None \n",
       "Training range: [Timestamp('2002-01-01 00:00:00'), Timestamp('2014-12-31 23:00:00')] \n",
       "Training index type: DatetimeIndex \n",
       "Training index frequency: h \n",
       "Regressor parameters: \n",
       "    {'alpha': 0.9, 'ccp_alpha': 0.0, 'criterion': 'friedman_mse', 'init': None,\n",
       "    'learning_rate': 0.1, 'loss': 'squared_error', 'max_depth': 3,\n",
       "    'max_features': None, 'max_leaf_nodes': None, 'min_impurity_decrease': 0.0,\n",
       "    'min_samples_leaf': 1, 'min_samples_split': 2, 'min_weight_fraction_leaf':\n",
       "    0.0, 'n_estimators': 5, 'n_iter_no_change': None, 'random_state': 9,\n",
       "    'subsample': 1.0, 'tol': 0.0001, 'validation_fraction': 0.1, 'verbose': 0,\n",
       "    'warm_start': False} \n",
       "fit_kwargs: {} \n",
       "Creation date: 2025-02-12 19:44:43 \n",
       "Last fit date: 2025-02-12 19:45:05 \n",
       "Skforecast version: 0.14.0 \n",
       "Python version: 3.12.6 \n",
       "Forecaster id: direct "
      ]
     },
     "execution_count": 11,
     "metadata": {},
     "output_type": "execute_result"
    }
   ],
   "source": [
    "forecaster.fit(\n",
    "    y=X_train[\"demand\"],  # the series for the lags\n",
    "    exog=datetime_df,     # the datetime for the datetime features\n",
    ")\n",
    "\n",
    "forecaster"
   ]
  },
  {
   "cell_type": "markdown",
   "id": "e5b054ed",
   "metadata": {},
   "source": [
    "## Input features to regression"
   ]
  },
  {
   "cell_type": "code",
   "execution_count": 12,
   "id": "98ed1399",
   "metadata": {
    "scrolled": true
   },
   "outputs": [
    {
     "data": {
      "application/vnd.microsoft.datawrangler.viewer.v0+json": {
       "columns": [
        {
         "name": "date_time",
         "rawType": "datetime64[ns]",
         "type": "datetime"
        },
        {
         "name": "lag_1",
         "rawType": "float64",
         "type": "float"
        },
        {
         "name": "lag_2",
         "rawType": "float64",
         "type": "float"
        },
        {
         "name": "lag_3",
         "rawType": "float64",
         "type": "float"
        },
        {
         "name": "lag_4",
         "rawType": "float64",
         "type": "float"
        },
        {
         "name": "lag_5",
         "rawType": "float64",
         "type": "float"
        },
        {
         "name": "lag_6",
         "rawType": "float64",
         "type": "float"
        },
        {
         "name": "lag_7",
         "rawType": "float64",
         "type": "float"
        },
        {
         "name": "lag_8",
         "rawType": "float64",
         "type": "float"
        },
        {
         "name": "lag_9",
         "rawType": "float64",
         "type": "float"
        },
        {
         "name": "lag_10",
         "rawType": "float64",
         "type": "float"
        },
        {
         "name": "lag_11",
         "rawType": "float64",
         "type": "float"
        },
        {
         "name": "lag_12",
         "rawType": "float64",
         "type": "float"
        },
        {
         "name": "lag_13",
         "rawType": "float64",
         "type": "float"
        },
        {
         "name": "lag_14",
         "rawType": "float64",
         "type": "float"
        },
        {
         "name": "lag_15",
         "rawType": "float64",
         "type": "float"
        },
        {
         "name": "lag_16",
         "rawType": "float64",
         "type": "float"
        },
        {
         "name": "lag_17",
         "rawType": "float64",
         "type": "float"
        },
        {
         "name": "lag_18",
         "rawType": "float64",
         "type": "float"
        },
        {
         "name": "lag_19",
         "rawType": "float64",
         "type": "float"
        },
        {
         "name": "lag_20",
         "rawType": "float64",
         "type": "float"
        },
        {
         "name": "lag_21",
         "rawType": "float64",
         "type": "float"
        },
        {
         "name": "lag_22",
         "rawType": "float64",
         "type": "float"
        },
        {
         "name": "lag_23",
         "rawType": "float64",
         "type": "float"
        },
        {
         "name": "lag_24",
         "rawType": "float64",
         "type": "float"
        },
        {
         "name": "date_time_month_step_1",
         "rawType": "float64",
         "type": "float"
        },
        {
         "name": "date_time_day_of_week_step_1",
         "rawType": "float64",
         "type": "float"
        },
        {
         "name": "date_time_hour_step_1",
         "rawType": "float64",
         "type": "float"
        },
        {
         "name": "date_time_month_step_2",
         "rawType": "float64",
         "type": "float"
        },
        {
         "name": "date_time_day_of_week_step_2",
         "rawType": "float64",
         "type": "float"
        },
        {
         "name": "date_time_hour_step_2",
         "rawType": "float64",
         "type": "float"
        },
        {
         "name": "date_time_month_step_3",
         "rawType": "float64",
         "type": "float"
        },
        {
         "name": "date_time_day_of_week_step_3",
         "rawType": "float64",
         "type": "float"
        },
        {
         "name": "date_time_hour_step_3",
         "rawType": "float64",
         "type": "float"
        },
        {
         "name": "date_time_month_step_4",
         "rawType": "float64",
         "type": "float"
        },
        {
         "name": "date_time_day_of_week_step_4",
         "rawType": "float64",
         "type": "float"
        },
        {
         "name": "date_time_hour_step_4",
         "rawType": "float64",
         "type": "float"
        },
        {
         "name": "date_time_month_step_5",
         "rawType": "float64",
         "type": "float"
        },
        {
         "name": "date_time_day_of_week_step_5",
         "rawType": "float64",
         "type": "float"
        },
        {
         "name": "date_time_hour_step_5",
         "rawType": "float64",
         "type": "float"
        },
        {
         "name": "date_time_month_step_6",
         "rawType": "float64",
         "type": "float"
        },
        {
         "name": "date_time_day_of_week_step_6",
         "rawType": "float64",
         "type": "float"
        },
        {
         "name": "date_time_hour_step_6",
         "rawType": "float64",
         "type": "float"
        },
        {
         "name": "date_time_month_step_7",
         "rawType": "float64",
         "type": "float"
        },
        {
         "name": "date_time_day_of_week_step_7",
         "rawType": "float64",
         "type": "float"
        },
        {
         "name": "date_time_hour_step_7",
         "rawType": "float64",
         "type": "float"
        },
        {
         "name": "date_time_month_step_8",
         "rawType": "float64",
         "type": "float"
        },
        {
         "name": "date_time_day_of_week_step_8",
         "rawType": "float64",
         "type": "float"
        },
        {
         "name": "date_time_hour_step_8",
         "rawType": "float64",
         "type": "float"
        },
        {
         "name": "date_time_month_step_9",
         "rawType": "float64",
         "type": "float"
        },
        {
         "name": "date_time_day_of_week_step_9",
         "rawType": "float64",
         "type": "float"
        },
        {
         "name": "date_time_hour_step_9",
         "rawType": "float64",
         "type": "float"
        },
        {
         "name": "date_time_month_step_10",
         "rawType": "float64",
         "type": "float"
        },
        {
         "name": "date_time_day_of_week_step_10",
         "rawType": "float64",
         "type": "float"
        },
        {
         "name": "date_time_hour_step_10",
         "rawType": "float64",
         "type": "float"
        },
        {
         "name": "date_time_month_step_11",
         "rawType": "float64",
         "type": "float"
        },
        {
         "name": "date_time_day_of_week_step_11",
         "rawType": "float64",
         "type": "float"
        },
        {
         "name": "date_time_hour_step_11",
         "rawType": "float64",
         "type": "float"
        },
        {
         "name": "date_time_month_step_12",
         "rawType": "float64",
         "type": "float"
        },
        {
         "name": "date_time_day_of_week_step_12",
         "rawType": "float64",
         "type": "float"
        },
        {
         "name": "date_time_hour_step_12",
         "rawType": "float64",
         "type": "float"
        },
        {
         "name": "date_time_month_step_13",
         "rawType": "float64",
         "type": "float"
        },
        {
         "name": "date_time_day_of_week_step_13",
         "rawType": "float64",
         "type": "float"
        },
        {
         "name": "date_time_hour_step_13",
         "rawType": "float64",
         "type": "float"
        },
        {
         "name": "date_time_month_step_14",
         "rawType": "float64",
         "type": "float"
        },
        {
         "name": "date_time_day_of_week_step_14",
         "rawType": "float64",
         "type": "float"
        },
        {
         "name": "date_time_hour_step_14",
         "rawType": "float64",
         "type": "float"
        },
        {
         "name": "date_time_month_step_15",
         "rawType": "float64",
         "type": "float"
        },
        {
         "name": "date_time_day_of_week_step_15",
         "rawType": "float64",
         "type": "float"
        },
        {
         "name": "date_time_hour_step_15",
         "rawType": "float64",
         "type": "float"
        },
        {
         "name": "date_time_month_step_16",
         "rawType": "float64",
         "type": "float"
        },
        {
         "name": "date_time_day_of_week_step_16",
         "rawType": "float64",
         "type": "float"
        },
        {
         "name": "date_time_hour_step_16",
         "rawType": "float64",
         "type": "float"
        },
        {
         "name": "date_time_month_step_17",
         "rawType": "float64",
         "type": "float"
        },
        {
         "name": "date_time_day_of_week_step_17",
         "rawType": "float64",
         "type": "float"
        },
        {
         "name": "date_time_hour_step_17",
         "rawType": "float64",
         "type": "float"
        },
        {
         "name": "date_time_month_step_18",
         "rawType": "float64",
         "type": "float"
        },
        {
         "name": "date_time_day_of_week_step_18",
         "rawType": "float64",
         "type": "float"
        },
        {
         "name": "date_time_hour_step_18",
         "rawType": "float64",
         "type": "float"
        },
        {
         "name": "date_time_month_step_19",
         "rawType": "float64",
         "type": "float"
        },
        {
         "name": "date_time_day_of_week_step_19",
         "rawType": "float64",
         "type": "float"
        },
        {
         "name": "date_time_hour_step_19",
         "rawType": "float64",
         "type": "float"
        },
        {
         "name": "date_time_month_step_20",
         "rawType": "float64",
         "type": "float"
        },
        {
         "name": "date_time_day_of_week_step_20",
         "rawType": "float64",
         "type": "float"
        },
        {
         "name": "date_time_hour_step_20",
         "rawType": "float64",
         "type": "float"
        },
        {
         "name": "date_time_month_step_21",
         "rawType": "float64",
         "type": "float"
        },
        {
         "name": "date_time_day_of_week_step_21",
         "rawType": "float64",
         "type": "float"
        },
        {
         "name": "date_time_hour_step_21",
         "rawType": "float64",
         "type": "float"
        },
        {
         "name": "date_time_month_step_22",
         "rawType": "float64",
         "type": "float"
        },
        {
         "name": "date_time_day_of_week_step_22",
         "rawType": "float64",
         "type": "float"
        },
        {
         "name": "date_time_hour_step_22",
         "rawType": "float64",
         "type": "float"
        },
        {
         "name": "date_time_month_step_23",
         "rawType": "float64",
         "type": "float"
        },
        {
         "name": "date_time_day_of_week_step_23",
         "rawType": "float64",
         "type": "float"
        },
        {
         "name": "date_time_hour_step_23",
         "rawType": "float64",
         "type": "float"
        },
        {
         "name": "date_time_month_step_24",
         "rawType": "float64",
         "type": "float"
        },
        {
         "name": "date_time_day_of_week_step_24",
         "rawType": "float64",
         "type": "float"
        },
        {
         "name": "date_time_hour_step_24",
         "rawType": "float64",
         "type": "float"
        }
       ],
       "conversionMethod": "pd.DataFrame",
       "ref": "9ecc8296-6878-4a61-92df-ba1e92f45ff8",
       "rows": [
        [
         "2002-01-02 23:00:00",
         "6863.872344",
         "6015.750184",
         "6255.765294",
         "6628.839522",
         "6509.902582000001",
         "6400.844422",
         "6527.011842",
         "6490.6697619999995",
         "6221.417302",
         "6013.496578",
         "6022.016562",
         "6079.707716000001",
         "6147.321012",
         "6104.925042",
         "5938.337614",
         "5698.152",
         "5457.770634",
         "5574.73189",
         "5385.85106",
         "5497.732921999999",
         "5815.537828",
         "6406.542994",
         "7165.974188",
         "6919.366092",
         "1.0",
         "2.0",
         "0.0",
         "1.0",
         "2.0",
         "1.0",
         "1.0",
         "2.0",
         "2.0",
         "1.0",
         "2.0",
         "3.0",
         "1.0",
         "2.0",
         "4.0",
         "1.0",
         "2.0",
         "5.0",
         "1.0",
         "2.0",
         "6.0",
         "1.0",
         "2.0",
         "7.0",
         "1.0",
         "2.0",
         "8.0",
         "1.0",
         "2.0",
         "9.0",
         "1.0",
         "2.0",
         "10.0",
         "1.0",
         "2.0",
         "11.0",
         "1.0",
         "2.0",
         "12.0",
         "1.0",
         "2.0",
         "13.0",
         "1.0",
         "2.0",
         "14.0",
         "1.0",
         "2.0",
         "15.0",
         "1.0",
         "2.0",
         "16.0",
         "1.0",
         "2.0",
         "17.0",
         "1.0",
         "2.0",
         "18.0",
         "1.0",
         "2.0",
         "19.0",
         "1.0",
         "2.0",
         "20.0",
         "1.0",
         "2.0",
         "21.0",
         "1.0",
         "2.0",
         "22.0",
         "1.0",
         "2.0",
         "23.0"
        ],
        [
         "2002-01-03 00:00:00",
         "6579.219880000001",
         "6863.872344",
         "6015.750184",
         "6255.765294",
         "6628.839522",
         "6509.902582000001",
         "6400.844422",
         "6527.011842",
         "6490.6697619999995",
         "6221.417302",
         "6013.496578",
         "6022.016562",
         "6079.707716000001",
         "6147.321012",
         "6104.925042",
         "5938.337614",
         "5698.152",
         "5457.770634",
         "5574.73189",
         "5385.85106",
         "5497.732921999999",
         "5815.537828",
         "6406.542994",
         "7165.974188",
         "1.0",
         "2.0",
         "1.0",
         "1.0",
         "2.0",
         "2.0",
         "1.0",
         "2.0",
         "3.0",
         "1.0",
         "2.0",
         "4.0",
         "1.0",
         "2.0",
         "5.0",
         "1.0",
         "2.0",
         "6.0",
         "1.0",
         "2.0",
         "7.0",
         "1.0",
         "2.0",
         "8.0",
         "1.0",
         "2.0",
         "9.0",
         "1.0",
         "2.0",
         "10.0",
         "1.0",
         "2.0",
         "11.0",
         "1.0",
         "2.0",
         "12.0",
         "1.0",
         "2.0",
         "13.0",
         "1.0",
         "2.0",
         "14.0",
         "1.0",
         "2.0",
         "15.0",
         "1.0",
         "2.0",
         "16.0",
         "1.0",
         "2.0",
         "17.0",
         "1.0",
         "2.0",
         "18.0",
         "1.0",
         "2.0",
         "19.0",
         "1.0",
         "2.0",
         "20.0",
         "1.0",
         "2.0",
         "21.0",
         "1.0",
         "2.0",
         "22.0",
         "1.0",
         "2.0",
         "23.0",
         "1.0",
         "3.0",
         "0.0"
        ],
        [
         "2002-01-03 01:00:00",
         "6990.826419999999",
         "6579.219880000001",
         "6863.872344",
         "6015.750184",
         "6255.765294",
         "6628.839522",
         "6509.902582000001",
         "6400.844422",
         "6527.011842",
         "6490.6697619999995",
         "6221.417302",
         "6013.496578",
         "6022.016562",
         "6079.707716000001",
         "6147.321012",
         "6104.925042",
         "5938.337614",
         "5698.152",
         "5457.770634",
         "5574.73189",
         "5385.85106",
         "5497.732921999999",
         "5815.537828",
         "6406.542994",
         "1.0",
         "2.0",
         "2.0",
         "1.0",
         "2.0",
         "3.0",
         "1.0",
         "2.0",
         "4.0",
         "1.0",
         "2.0",
         "5.0",
         "1.0",
         "2.0",
         "6.0",
         "1.0",
         "2.0",
         "7.0",
         "1.0",
         "2.0",
         "8.0",
         "1.0",
         "2.0",
         "9.0",
         "1.0",
         "2.0",
         "10.0",
         "1.0",
         "2.0",
         "11.0",
         "1.0",
         "2.0",
         "12.0",
         "1.0",
         "2.0",
         "13.0",
         "1.0",
         "2.0",
         "14.0",
         "1.0",
         "2.0",
         "15.0",
         "1.0",
         "2.0",
         "16.0",
         "1.0",
         "2.0",
         "17.0",
         "1.0",
         "2.0",
         "18.0",
         "1.0",
         "2.0",
         "19.0",
         "1.0",
         "2.0",
         "20.0",
         "1.0",
         "2.0",
         "21.0",
         "1.0",
         "2.0",
         "22.0",
         "1.0",
         "2.0",
         "23.0",
         "1.0",
         "3.0",
         "0.0",
         "1.0",
         "3.0",
         "1.0"
        ],
        [
         "2002-01-03 02:00:00",
         "6382.915018",
         "6990.826419999999",
         "6579.219880000001",
         "6863.872344",
         "6015.750184",
         "6255.765294",
         "6628.839522",
         "6509.902582000001",
         "6400.844422",
         "6527.011842",
         "6490.6697619999995",
         "6221.417302",
         "6013.496578",
         "6022.016562",
         "6079.707716000001",
         "6147.321012",
         "6104.925042",
         "5938.337614",
         "5698.152",
         "5457.770634",
         "5574.73189",
         "5385.85106",
         "5497.732921999999",
         "5815.537828",
         "1.0",
         "2.0",
         "3.0",
         "1.0",
         "2.0",
         "4.0",
         "1.0",
         "2.0",
         "5.0",
         "1.0",
         "2.0",
         "6.0",
         "1.0",
         "2.0",
         "7.0",
         "1.0",
         "2.0",
         "8.0",
         "1.0",
         "2.0",
         "9.0",
         "1.0",
         "2.0",
         "10.0",
         "1.0",
         "2.0",
         "11.0",
         "1.0",
         "2.0",
         "12.0",
         "1.0",
         "2.0",
         "13.0",
         "1.0",
         "2.0",
         "14.0",
         "1.0",
         "2.0",
         "15.0",
         "1.0",
         "2.0",
         "16.0",
         "1.0",
         "2.0",
         "17.0",
         "1.0",
         "2.0",
         "18.0",
         "1.0",
         "2.0",
         "19.0",
         "1.0",
         "2.0",
         "20.0",
         "1.0",
         "2.0",
         "21.0",
         "1.0",
         "2.0",
         "22.0",
         "1.0",
         "2.0",
         "23.0",
         "1.0",
         "3.0",
         "0.0",
         "1.0",
         "3.0",
         "1.0",
         "1.0",
         "3.0",
         "2.0"
        ],
        [
         "2002-01-03 03:00:00",
         "5896.928138",
         "6382.915018",
         "6990.826419999999",
         "6579.219880000001",
         "6863.872344",
         "6015.750184",
         "6255.765294",
         "6628.839522",
         "6509.902582000001",
         "6400.844422",
         "6527.011842",
         "6490.6697619999995",
         "6221.417302",
         "6013.496578",
         "6022.016562",
         "6079.707716000001",
         "6147.321012",
         "6104.925042",
         "5938.337614",
         "5698.152",
         "5457.770634",
         "5574.73189",
         "5385.85106",
         "5497.732921999999",
         "1.0",
         "2.0",
         "4.0",
         "1.0",
         "2.0",
         "5.0",
         "1.0",
         "2.0",
         "6.0",
         "1.0",
         "2.0",
         "7.0",
         "1.0",
         "2.0",
         "8.0",
         "1.0",
         "2.0",
         "9.0",
         "1.0",
         "2.0",
         "10.0",
         "1.0",
         "2.0",
         "11.0",
         "1.0",
         "2.0",
         "12.0",
         "1.0",
         "2.0",
         "13.0",
         "1.0",
         "2.0",
         "14.0",
         "1.0",
         "2.0",
         "15.0",
         "1.0",
         "2.0",
         "16.0",
         "1.0",
         "2.0",
         "17.0",
         "1.0",
         "2.0",
         "18.0",
         "1.0",
         "2.0",
         "19.0",
         "1.0",
         "2.0",
         "20.0",
         "1.0",
         "2.0",
         "21.0",
         "1.0",
         "2.0",
         "22.0",
         "1.0",
         "2.0",
         "23.0",
         "1.0",
         "3.0",
         "0.0",
         "1.0",
         "3.0",
         "1.0",
         "1.0",
         "3.0",
         "2.0",
         "1.0",
         "3.0",
         "3.0"
        ]
       ],
       "shape": {
        "columns": 96,
        "rows": 5
       }
      },
      "text/html": [
       "<div>\n",
       "<style scoped>\n",
       "    .dataframe tbody tr th:only-of-type {\n",
       "        vertical-align: middle;\n",
       "    }\n",
       "\n",
       "    .dataframe tbody tr th {\n",
       "        vertical-align: top;\n",
       "    }\n",
       "\n",
       "    .dataframe thead th {\n",
       "        text-align: right;\n",
       "    }\n",
       "</style>\n",
       "<table border=\"1\" class=\"dataframe\">\n",
       "  <thead>\n",
       "    <tr style=\"text-align: right;\">\n",
       "      <th></th>\n",
       "      <th>lag_1</th>\n",
       "      <th>lag_2</th>\n",
       "      <th>lag_3</th>\n",
       "      <th>lag_4</th>\n",
       "      <th>lag_5</th>\n",
       "      <th>lag_6</th>\n",
       "      <th>lag_7</th>\n",
       "      <th>lag_8</th>\n",
       "      <th>lag_9</th>\n",
       "      <th>lag_10</th>\n",
       "      <th>...</th>\n",
       "      <th>date_time_hour_step_21</th>\n",
       "      <th>date_time_month_step_22</th>\n",
       "      <th>date_time_day_of_week_step_22</th>\n",
       "      <th>date_time_hour_step_22</th>\n",
       "      <th>date_time_month_step_23</th>\n",
       "      <th>date_time_day_of_week_step_23</th>\n",
       "      <th>date_time_hour_step_23</th>\n",
       "      <th>date_time_month_step_24</th>\n",
       "      <th>date_time_day_of_week_step_24</th>\n",
       "      <th>date_time_hour_step_24</th>\n",
       "    </tr>\n",
       "    <tr>\n",
       "      <th>date_time</th>\n",
       "      <th></th>\n",
       "      <th></th>\n",
       "      <th></th>\n",
       "      <th></th>\n",
       "      <th></th>\n",
       "      <th></th>\n",
       "      <th></th>\n",
       "      <th></th>\n",
       "      <th></th>\n",
       "      <th></th>\n",
       "      <th></th>\n",
       "      <th></th>\n",
       "      <th></th>\n",
       "      <th></th>\n",
       "      <th></th>\n",
       "      <th></th>\n",
       "      <th></th>\n",
       "      <th></th>\n",
       "      <th></th>\n",
       "      <th></th>\n",
       "      <th></th>\n",
       "    </tr>\n",
       "  </thead>\n",
       "  <tbody>\n",
       "    <tr>\n",
       "      <th>2002-01-02 23:00:00</th>\n",
       "      <td>6863.872344</td>\n",
       "      <td>6015.750184</td>\n",
       "      <td>6255.765294</td>\n",
       "      <td>6628.839522</td>\n",
       "      <td>6509.902582</td>\n",
       "      <td>6400.844422</td>\n",
       "      <td>6527.011842</td>\n",
       "      <td>6490.669762</td>\n",
       "      <td>6221.417302</td>\n",
       "      <td>6013.496578</td>\n",
       "      <td>...</td>\n",
       "      <td>20.0</td>\n",
       "      <td>1.0</td>\n",
       "      <td>2.0</td>\n",
       "      <td>21.0</td>\n",
       "      <td>1.0</td>\n",
       "      <td>2.0</td>\n",
       "      <td>22.0</td>\n",
       "      <td>1.0</td>\n",
       "      <td>2.0</td>\n",
       "      <td>23.0</td>\n",
       "    </tr>\n",
       "    <tr>\n",
       "      <th>2002-01-03 00:00:00</th>\n",
       "      <td>6579.219880</td>\n",
       "      <td>6863.872344</td>\n",
       "      <td>6015.750184</td>\n",
       "      <td>6255.765294</td>\n",
       "      <td>6628.839522</td>\n",
       "      <td>6509.902582</td>\n",
       "      <td>6400.844422</td>\n",
       "      <td>6527.011842</td>\n",
       "      <td>6490.669762</td>\n",
       "      <td>6221.417302</td>\n",
       "      <td>...</td>\n",
       "      <td>21.0</td>\n",
       "      <td>1.0</td>\n",
       "      <td>2.0</td>\n",
       "      <td>22.0</td>\n",
       "      <td>1.0</td>\n",
       "      <td>2.0</td>\n",
       "      <td>23.0</td>\n",
       "      <td>1.0</td>\n",
       "      <td>3.0</td>\n",
       "      <td>0.0</td>\n",
       "    </tr>\n",
       "    <tr>\n",
       "      <th>2002-01-03 01:00:00</th>\n",
       "      <td>6990.826420</td>\n",
       "      <td>6579.219880</td>\n",
       "      <td>6863.872344</td>\n",
       "      <td>6015.750184</td>\n",
       "      <td>6255.765294</td>\n",
       "      <td>6628.839522</td>\n",
       "      <td>6509.902582</td>\n",
       "      <td>6400.844422</td>\n",
       "      <td>6527.011842</td>\n",
       "      <td>6490.669762</td>\n",
       "      <td>...</td>\n",
       "      <td>22.0</td>\n",
       "      <td>1.0</td>\n",
       "      <td>2.0</td>\n",
       "      <td>23.0</td>\n",
       "      <td>1.0</td>\n",
       "      <td>3.0</td>\n",
       "      <td>0.0</td>\n",
       "      <td>1.0</td>\n",
       "      <td>3.0</td>\n",
       "      <td>1.0</td>\n",
       "    </tr>\n",
       "    <tr>\n",
       "      <th>2002-01-03 02:00:00</th>\n",
       "      <td>6382.915018</td>\n",
       "      <td>6990.826420</td>\n",
       "      <td>6579.219880</td>\n",
       "      <td>6863.872344</td>\n",
       "      <td>6015.750184</td>\n",
       "      <td>6255.765294</td>\n",
       "      <td>6628.839522</td>\n",
       "      <td>6509.902582</td>\n",
       "      <td>6400.844422</td>\n",
       "      <td>6527.011842</td>\n",
       "      <td>...</td>\n",
       "      <td>23.0</td>\n",
       "      <td>1.0</td>\n",
       "      <td>3.0</td>\n",
       "      <td>0.0</td>\n",
       "      <td>1.0</td>\n",
       "      <td>3.0</td>\n",
       "      <td>1.0</td>\n",
       "      <td>1.0</td>\n",
       "      <td>3.0</td>\n",
       "      <td>2.0</td>\n",
       "    </tr>\n",
       "    <tr>\n",
       "      <th>2002-01-03 03:00:00</th>\n",
       "      <td>5896.928138</td>\n",
       "      <td>6382.915018</td>\n",
       "      <td>6990.826420</td>\n",
       "      <td>6579.219880</td>\n",
       "      <td>6863.872344</td>\n",
       "      <td>6015.750184</td>\n",
       "      <td>6255.765294</td>\n",
       "      <td>6628.839522</td>\n",
       "      <td>6509.902582</td>\n",
       "      <td>6400.844422</td>\n",
       "      <td>...</td>\n",
       "      <td>0.0</td>\n",
       "      <td>1.0</td>\n",
       "      <td>3.0</td>\n",
       "      <td>1.0</td>\n",
       "      <td>1.0</td>\n",
       "      <td>3.0</td>\n",
       "      <td>2.0</td>\n",
       "      <td>1.0</td>\n",
       "      <td>3.0</td>\n",
       "      <td>3.0</td>\n",
       "    </tr>\n",
       "  </tbody>\n",
       "</table>\n",
       "<p>5 rows × 96 columns</p>\n",
       "</div>"
      ],
      "text/plain": [
       "                           lag_1        lag_2        lag_3        lag_4  \\\n",
       "date_time                                                                 \n",
       "2002-01-02 23:00:00  6863.872344  6015.750184  6255.765294  6628.839522   \n",
       "2002-01-03 00:00:00  6579.219880  6863.872344  6015.750184  6255.765294   \n",
       "2002-01-03 01:00:00  6990.826420  6579.219880  6863.872344  6015.750184   \n",
       "2002-01-03 02:00:00  6382.915018  6990.826420  6579.219880  6863.872344   \n",
       "2002-01-03 03:00:00  5896.928138  6382.915018  6990.826420  6579.219880   \n",
       "\n",
       "                           lag_5        lag_6        lag_7        lag_8  \\\n",
       "date_time                                                                 \n",
       "2002-01-02 23:00:00  6509.902582  6400.844422  6527.011842  6490.669762   \n",
       "2002-01-03 00:00:00  6628.839522  6509.902582  6400.844422  6527.011842   \n",
       "2002-01-03 01:00:00  6255.765294  6628.839522  6509.902582  6400.844422   \n",
       "2002-01-03 02:00:00  6015.750184  6255.765294  6628.839522  6509.902582   \n",
       "2002-01-03 03:00:00  6863.872344  6015.750184  6255.765294  6628.839522   \n",
       "\n",
       "                           lag_9       lag_10  ...  date_time_hour_step_21  \\\n",
       "date_time                                      ...                           \n",
       "2002-01-02 23:00:00  6221.417302  6013.496578  ...                    20.0   \n",
       "2002-01-03 00:00:00  6490.669762  6221.417302  ...                    21.0   \n",
       "2002-01-03 01:00:00  6527.011842  6490.669762  ...                    22.0   \n",
       "2002-01-03 02:00:00  6400.844422  6527.011842  ...                    23.0   \n",
       "2002-01-03 03:00:00  6509.902582  6400.844422  ...                     0.0   \n",
       "\n",
       "                     date_time_month_step_22  date_time_day_of_week_step_22  \\\n",
       "date_time                                                                     \n",
       "2002-01-02 23:00:00                      1.0                            2.0   \n",
       "2002-01-03 00:00:00                      1.0                            2.0   \n",
       "2002-01-03 01:00:00                      1.0                            2.0   \n",
       "2002-01-03 02:00:00                      1.0                            3.0   \n",
       "2002-01-03 03:00:00                      1.0                            3.0   \n",
       "\n",
       "                     date_time_hour_step_22  date_time_month_step_23  \\\n",
       "date_time                                                              \n",
       "2002-01-02 23:00:00                    21.0                      1.0   \n",
       "2002-01-03 00:00:00                    22.0                      1.0   \n",
       "2002-01-03 01:00:00                    23.0                      1.0   \n",
       "2002-01-03 02:00:00                     0.0                      1.0   \n",
       "2002-01-03 03:00:00                     1.0                      1.0   \n",
       "\n",
       "                     date_time_day_of_week_step_23  date_time_hour_step_23  \\\n",
       "date_time                                                                    \n",
       "2002-01-02 23:00:00                            2.0                    22.0   \n",
       "2002-01-03 00:00:00                            2.0                    23.0   \n",
       "2002-01-03 01:00:00                            3.0                     0.0   \n",
       "2002-01-03 02:00:00                            3.0                     1.0   \n",
       "2002-01-03 03:00:00                            3.0                     2.0   \n",
       "\n",
       "                     date_time_month_step_24  date_time_day_of_week_step_24  \\\n",
       "date_time                                                                     \n",
       "2002-01-02 23:00:00                      1.0                            2.0   \n",
       "2002-01-03 00:00:00                      1.0                            3.0   \n",
       "2002-01-03 01:00:00                      1.0                            3.0   \n",
       "2002-01-03 02:00:00                      1.0                            3.0   \n",
       "2002-01-03 03:00:00                      1.0                            3.0   \n",
       "\n",
       "                     date_time_hour_step_24  \n",
       "date_time                                    \n",
       "2002-01-02 23:00:00                    23.0  \n",
       "2002-01-03 00:00:00                     0.0  \n",
       "2002-01-03 01:00:00                     1.0  \n",
       "2002-01-03 02:00:00                     2.0  \n",
       "2002-01-03 03:00:00                     3.0  \n",
       "\n",
       "[5 rows x 96 columns]"
      ]
     },
     "execution_count": 12,
     "metadata": {},
     "output_type": "execute_result"
    }
   ],
   "source": [
    "Xt, yt = forecaster.create_train_X_y(\n",
    "    y=X_train[\"demand\"],\n",
    "    exog=datetime_df,\n",
    ")\n",
    "\n",
    "Xt.head()"
   ]
  },
  {
   "cell_type": "markdown",
   "id": "1a2acd9a",
   "metadata": {},
   "source": [
    "Now, look at this:"
   ]
  },
  {
   "cell_type": "code",
   "execution_count": 31,
   "id": "53752167",
   "metadata": {
    "scrolled": true
   },
   "outputs": [
    {
     "data": {
      "text/plain": [
       "['lag_1',\n",
       " 'lag_2',\n",
       " 'lag_3',\n",
       " 'lag_4',\n",
       " 'lag_5',\n",
       " 'lag_6',\n",
       " 'lag_7',\n",
       " 'lag_8',\n",
       " 'lag_9',\n",
       " 'lag_10',\n",
       " 'lag_11',\n",
       " 'lag_12',\n",
       " 'lag_13',\n",
       " 'lag_14',\n",
       " 'lag_15',\n",
       " 'lag_16',\n",
       " 'lag_17',\n",
       " 'lag_18',\n",
       " 'lag_19',\n",
       " 'lag_20',\n",
       " 'lag_21',\n",
       " 'lag_22',\n",
       " 'lag_23',\n",
       " 'lag_24',\n",
       " 'date_time_month_step_1',\n",
       " 'date_time_day_of_week_step_1',\n",
       " 'date_time_hour_step_1',\n",
       " 'date_time_month_step_2',\n",
       " 'date_time_day_of_week_step_2',\n",
       " 'date_time_hour_step_2',\n",
       " 'date_time_month_step_3',\n",
       " 'date_time_day_of_week_step_3',\n",
       " 'date_time_hour_step_3',\n",
       " 'date_time_month_step_4',\n",
       " 'date_time_day_of_week_step_4',\n",
       " 'date_time_hour_step_4',\n",
       " 'date_time_month_step_5',\n",
       " 'date_time_day_of_week_step_5',\n",
       " 'date_time_hour_step_5',\n",
       " 'date_time_month_step_6',\n",
       " 'date_time_day_of_week_step_6',\n",
       " 'date_time_hour_step_6',\n",
       " 'date_time_month_step_7',\n",
       " 'date_time_day_of_week_step_7',\n",
       " 'date_time_hour_step_7',\n",
       " 'date_time_month_step_8',\n",
       " 'date_time_day_of_week_step_8',\n",
       " 'date_time_hour_step_8',\n",
       " 'date_time_month_step_9',\n",
       " 'date_time_day_of_week_step_9',\n",
       " 'date_time_hour_step_9',\n",
       " 'date_time_month_step_10',\n",
       " 'date_time_day_of_week_step_10',\n",
       " 'date_time_hour_step_10',\n",
       " 'date_time_month_step_11',\n",
       " 'date_time_day_of_week_step_11',\n",
       " 'date_time_hour_step_11',\n",
       " 'date_time_month_step_12',\n",
       " 'date_time_day_of_week_step_12',\n",
       " 'date_time_hour_step_12',\n",
       " 'date_time_month_step_13',\n",
       " 'date_time_day_of_week_step_13',\n",
       " 'date_time_hour_step_13',\n",
       " 'date_time_month_step_14',\n",
       " 'date_time_day_of_week_step_14',\n",
       " 'date_time_hour_step_14',\n",
       " 'date_time_month_step_15',\n",
       " 'date_time_day_of_week_step_15',\n",
       " 'date_time_hour_step_15',\n",
       " 'date_time_month_step_16',\n",
       " 'date_time_day_of_week_step_16',\n",
       " 'date_time_hour_step_16',\n",
       " 'date_time_month_step_17',\n",
       " 'date_time_day_of_week_step_17',\n",
       " 'date_time_hour_step_17',\n",
       " 'date_time_month_step_18',\n",
       " 'date_time_day_of_week_step_18',\n",
       " 'date_time_hour_step_18',\n",
       " 'date_time_month_step_19',\n",
       " 'date_time_day_of_week_step_19',\n",
       " 'date_time_hour_step_19',\n",
       " 'date_time_month_step_20',\n",
       " 'date_time_day_of_week_step_20',\n",
       " 'date_time_hour_step_20',\n",
       " 'date_time_month_step_21',\n",
       " 'date_time_day_of_week_step_21',\n",
       " 'date_time_hour_step_21',\n",
       " 'date_time_month_step_22',\n",
       " 'date_time_day_of_week_step_22',\n",
       " 'date_time_hour_step_22',\n",
       " 'date_time_month_step_23',\n",
       " 'date_time_day_of_week_step_23',\n",
       " 'date_time_hour_step_23',\n",
       " 'date_time_month_step_24',\n",
       " 'date_time_day_of_week_step_24',\n",
       " 'date_time_hour_step_24']"
      ]
     },
     "execution_count": 31,
     "metadata": {},
     "output_type": "execute_result"
    }
   ],
   "source": [
    "# the variables created by the direct forecaster:\n",
    "\n",
    "[col for col in Xt.columns]"
   ]
  },
  {
   "cell_type": "markdown",
   "id": "16cc91d4",
   "metadata": {},
   "source": [
    "Skforecast generates automatically the datetime features needed for each step of the horizon. \n",
    "\n",
    "Here an example for time step 4:"
   ]
  },
  {
   "cell_type": "code",
   "execution_count": 33,
   "id": "fc2ab80d",
   "metadata": {},
   "outputs": [
    {
     "data": {
      "application/vnd.microsoft.datawrangler.viewer.v0+json": {
       "columns": [
        {
         "name": "date_time",
         "rawType": "datetime64[ns]",
         "type": "datetime"
        },
        {
         "name": "date_time_hour_step_1",
         "rawType": "float64",
         "type": "float"
        },
        {
         "name": "date_time_hour_step_2",
         "rawType": "float64",
         "type": "float"
        },
        {
         "name": "date_time_hour_step_3",
         "rawType": "float64",
         "type": "float"
        },
        {
         "name": "date_time_hour_step_4",
         "rawType": "float64",
         "type": "float"
        }
       ],
       "conversionMethod": "pd.DataFrame",
       "ref": "8c9dbb7a-60b9-4da2-8ca1-b2a5778e14fa",
       "rows": [
        [
         "2002-01-02 23:00:00",
         "0.0",
         "1.0",
         "2.0",
         "3.0"
        ],
        [
         "2002-01-03 00:00:00",
         "1.0",
         "2.0",
         "3.0",
         "4.0"
        ],
        [
         "2002-01-03 01:00:00",
         "2.0",
         "3.0",
         "4.0",
         "5.0"
        ],
        [
         "2002-01-03 02:00:00",
         "3.0",
         "4.0",
         "5.0",
         "6.0"
        ],
        [
         "2002-01-03 03:00:00",
         "4.0",
         "5.0",
         "6.0",
         "7.0"
        ]
       ],
       "shape": {
        "columns": 4,
        "rows": 5
       }
      },
      "text/html": [
       "<div>\n",
       "<style scoped>\n",
       "    .dataframe tbody tr th:only-of-type {\n",
       "        vertical-align: middle;\n",
       "    }\n",
       "\n",
       "    .dataframe tbody tr th {\n",
       "        vertical-align: top;\n",
       "    }\n",
       "\n",
       "    .dataframe thead th {\n",
       "        text-align: right;\n",
       "    }\n",
       "</style>\n",
       "<table border=\"1\" class=\"dataframe\">\n",
       "  <thead>\n",
       "    <tr style=\"text-align: right;\">\n",
       "      <th></th>\n",
       "      <th>date_time_hour_step_1</th>\n",
       "      <th>date_time_hour_step_2</th>\n",
       "      <th>date_time_hour_step_3</th>\n",
       "      <th>date_time_hour_step_4</th>\n",
       "    </tr>\n",
       "    <tr>\n",
       "      <th>date_time</th>\n",
       "      <th></th>\n",
       "      <th></th>\n",
       "      <th></th>\n",
       "      <th></th>\n",
       "    </tr>\n",
       "  </thead>\n",
       "  <tbody>\n",
       "    <tr>\n",
       "      <th>2002-01-02 23:00:00</th>\n",
       "      <td>0.0</td>\n",
       "      <td>1.0</td>\n",
       "      <td>2.0</td>\n",
       "      <td>3.0</td>\n",
       "    </tr>\n",
       "    <tr>\n",
       "      <th>2002-01-03 00:00:00</th>\n",
       "      <td>1.0</td>\n",
       "      <td>2.0</td>\n",
       "      <td>3.0</td>\n",
       "      <td>4.0</td>\n",
       "    </tr>\n",
       "    <tr>\n",
       "      <th>2002-01-03 01:00:00</th>\n",
       "      <td>2.0</td>\n",
       "      <td>3.0</td>\n",
       "      <td>4.0</td>\n",
       "      <td>5.0</td>\n",
       "    </tr>\n",
       "    <tr>\n",
       "      <th>2002-01-03 02:00:00</th>\n",
       "      <td>3.0</td>\n",
       "      <td>4.0</td>\n",
       "      <td>5.0</td>\n",
       "      <td>6.0</td>\n",
       "    </tr>\n",
       "    <tr>\n",
       "      <th>2002-01-03 03:00:00</th>\n",
       "      <td>4.0</td>\n",
       "      <td>5.0</td>\n",
       "      <td>6.0</td>\n",
       "      <td>7.0</td>\n",
       "    </tr>\n",
       "  </tbody>\n",
       "</table>\n",
       "</div>"
      ],
      "text/plain": [
       "                     date_time_hour_step_1  date_time_hour_step_2  \\\n",
       "date_time                                                           \n",
       "2002-01-02 23:00:00                    0.0                    1.0   \n",
       "2002-01-03 00:00:00                    1.0                    2.0   \n",
       "2002-01-03 01:00:00                    2.0                    3.0   \n",
       "2002-01-03 02:00:00                    3.0                    4.0   \n",
       "2002-01-03 03:00:00                    4.0                    5.0   \n",
       "\n",
       "                     date_time_hour_step_3  date_time_hour_step_4  \n",
       "date_time                                                          \n",
       "2002-01-02 23:00:00                    2.0                    3.0  \n",
       "2002-01-03 00:00:00                    3.0                    4.0  \n",
       "2002-01-03 01:00:00                    4.0                    5.0  \n",
       "2002-01-03 02:00:00                    5.0                    6.0  \n",
       "2002-01-03 03:00:00                    6.0                    7.0  "
      ]
     },
     "execution_count": 33,
     "metadata": {},
     "output_type": "execute_result"
    }
   ],
   "source": [
    "Xt[['date_time_hour_step_1', 'date_time_hour_step_2',\n",
    "    'date_time_hour_step_3', 'date_time_hour_step_4',]].head()"
   ]
  },
  {
   "cell_type": "markdown",
   "id": "5c8d2519",
   "metadata": {},
   "source": [
    "Note that we now have multiple targets, one per step in the horizon as well.\n"
   ]
  },
  {
   "cell_type": "code",
   "execution_count": 15,
   "id": "ef7785b9",
   "metadata": {},
   "outputs": [
    {
     "data": {
      "text/plain": [
       "{1: date_time\n",
       " 2002-01-02 00:00:00    6579.219880\n",
       " 2002-01-02 01:00:00    6990.826420\n",
       " 2002-01-02 02:00:00    6382.915018\n",
       " 2002-01-02 03:00:00    5896.928138\n",
       " 2002-01-02 04:00:00    5853.937140\n",
       "                           ...     \n",
       " 2014-12-30 20:00:00    8214.038608\n",
       " 2014-12-30 21:00:00    7768.087674\n",
       " 2014-12-30 22:00:00    7504.257620\n",
       " 2014-12-30 23:00:00    8181.280682\n",
       " 2014-12-31 00:00:00    7566.135266\n",
       " Freq: h, Name: y_step_1, Length: 113905, dtype: float64,\n",
       " 2: date_time\n",
       " 2002-01-02 01:00:00    6990.826420\n",
       " 2002-01-02 02:00:00    6382.915018\n",
       " 2002-01-02 03:00:00    5896.928138\n",
       " 2002-01-02 04:00:00    5853.937140\n",
       " 2002-01-02 05:00:00    6344.834628\n",
       "                           ...     \n",
       " 2014-12-30 21:00:00    7768.087674\n",
       " 2014-12-30 22:00:00    7504.257620\n",
       " 2014-12-30 23:00:00    8181.280682\n",
       " 2014-12-31 00:00:00    7566.135266\n",
       " 2014-12-31 01:00:00    6985.052416\n",
       " Freq: h, Name: y_step_2, Length: 113905, dtype: float64,\n",
       " 3: date_time\n",
       " 2002-01-02 02:00:00    6382.915018\n",
       " 2002-01-02 03:00:00    5896.928138\n",
       " 2002-01-02 04:00:00    5853.937140\n",
       " 2002-01-02 05:00:00    6344.834628\n",
       " 2002-01-02 06:00:00    7136.749228\n",
       "                           ...     \n",
       " 2014-12-30 22:00:00    7504.257620\n",
       " 2014-12-30 23:00:00    8181.280682\n",
       " 2014-12-31 00:00:00    7566.135266\n",
       " 2014-12-31 01:00:00    6985.052416\n",
       " 2014-12-31 02:00:00    6557.741004\n",
       " Freq: h, Name: y_step_3, Length: 113905, dtype: float64,\n",
       " 4: date_time\n",
       " 2002-01-02 03:00:00    5896.928138\n",
       " 2002-01-02 04:00:00    5853.937140\n",
       " 2002-01-02 05:00:00    6344.834628\n",
       " 2002-01-02 06:00:00    7136.749228\n",
       " 2002-01-02 07:00:00    7351.028464\n",
       "                           ...     \n",
       " 2014-12-30 23:00:00    8181.280682\n",
       " 2014-12-31 00:00:00    7566.135266\n",
       " 2014-12-31 01:00:00    6985.052416\n",
       " 2014-12-31 02:00:00    6557.741004\n",
       " 2014-12-31 03:00:00    6403.493644\n",
       " Freq: h, Name: y_step_4, Length: 113905, dtype: float64,\n",
       " 5: date_time\n",
       " 2002-01-02 04:00:00    5853.937140\n",
       " 2002-01-02 05:00:00    6344.834628\n",
       " 2002-01-02 06:00:00    7136.749228\n",
       " 2002-01-02 07:00:00    7351.028464\n",
       " 2002-01-02 08:00:00    7640.963170\n",
       "                           ...     \n",
       " 2014-12-31 00:00:00    7566.135266\n",
       " 2014-12-31 01:00:00    6985.052416\n",
       " 2014-12-31 02:00:00    6557.741004\n",
       " 2014-12-31 03:00:00    6403.493644\n",
       " 2014-12-31 04:00:00    6614.084782\n",
       " Freq: h, Name: y_step_5, Length: 113905, dtype: float64,\n",
       " 6: date_time\n",
       " 2002-01-02 05:00:00    6344.834628\n",
       " 2002-01-02 06:00:00    7136.749228\n",
       " 2002-01-02 07:00:00    7351.028464\n",
       " 2002-01-02 08:00:00    7640.963170\n",
       " 2002-01-02 09:00:00    7739.715412\n",
       "                           ...     \n",
       " 2014-12-31 01:00:00    6985.052416\n",
       " 2014-12-31 02:00:00    6557.741004\n",
       " 2014-12-31 03:00:00    6403.493644\n",
       " 2014-12-31 04:00:00    6614.084782\n",
       " 2014-12-31 05:00:00    7054.465710\n",
       " Freq: h, Name: y_step_6, Length: 113905, dtype: float64,\n",
       " 7: date_time\n",
       " 2002-01-02 06:00:00    7136.749228\n",
       " 2002-01-02 07:00:00    7351.028464\n",
       " 2002-01-02 08:00:00    7640.963170\n",
       " 2002-01-02 09:00:00    7739.715412\n",
       " 2002-01-02 10:00:00    7823.132410\n",
       "                           ...     \n",
       " 2014-12-31 02:00:00    6557.741004\n",
       " 2014-12-31 03:00:00    6403.493644\n",
       " 2014-12-31 04:00:00    6614.084782\n",
       " 2014-12-31 05:00:00    7054.465710\n",
       " 2014-12-31 06:00:00    7692.879532\n",
       " Freq: h, Name: y_step_7, Length: 113905, dtype: float64,\n",
       " 8: date_time\n",
       " 2002-01-02 07:00:00    7351.028464\n",
       " 2002-01-02 08:00:00    7640.963170\n",
       " 2002-01-02 09:00:00    7739.715412\n",
       " 2002-01-02 10:00:00    7823.132410\n",
       " 2002-01-02 11:00:00    7862.839826\n",
       "                           ...     \n",
       " 2014-12-31 03:00:00    6403.493644\n",
       " 2014-12-31 04:00:00    6614.084782\n",
       " 2014-12-31 05:00:00    7054.465710\n",
       " 2014-12-31 06:00:00    7692.879532\n",
       " 2014-12-31 07:00:00    7923.059350\n",
       " Freq: h, Name: y_step_8, Length: 113905, dtype: float64,\n",
       " 9: date_time\n",
       " 2002-01-02 08:00:00    7640.963170\n",
       " 2002-01-02 09:00:00    7739.715412\n",
       " 2002-01-02 10:00:00    7823.132410\n",
       " 2002-01-02 11:00:00    7862.839826\n",
       " 2002-01-02 12:00:00    7800.134560\n",
       "                           ...     \n",
       " 2014-12-31 04:00:00    6614.084782\n",
       " 2014-12-31 05:00:00    7054.465710\n",
       " 2014-12-31 06:00:00    7692.879532\n",
       " 2014-12-31 07:00:00    7923.059350\n",
       " 2014-12-31 08:00:00    8118.576022\n",
       " Freq: h, Name: y_step_9, Length: 113905, dtype: float64,\n",
       " 10: date_time\n",
       " 2002-01-02 09:00:00    7739.715412\n",
       " 2002-01-02 10:00:00    7823.132410\n",
       " 2002-01-02 11:00:00    7862.839826\n",
       " 2002-01-02 12:00:00    7800.134560\n",
       " 2002-01-02 13:00:00    7743.249616\n",
       "                           ...     \n",
       " 2014-12-31 05:00:00    7054.465710\n",
       " 2014-12-31 06:00:00    7692.879532\n",
       " 2014-12-31 07:00:00    7923.059350\n",
       " 2014-12-31 08:00:00    8118.576022\n",
       " 2014-12-31 09:00:00    8138.679864\n",
       " Freq: h, Name: y_step_10, Length: 113905, dtype: float64,\n",
       " 11: date_time\n",
       " 2002-01-02 10:00:00    7823.132410\n",
       " 2002-01-02 11:00:00    7862.839826\n",
       " 2002-01-02 12:00:00    7800.134560\n",
       " 2002-01-02 13:00:00    7743.249616\n",
       " 2002-01-02 14:00:00    7698.202550\n",
       "                           ...     \n",
       " 2014-12-31 06:00:00    7692.879532\n",
       " 2014-12-31 07:00:00    7923.059350\n",
       " 2014-12-31 08:00:00    8118.576022\n",
       " 2014-12-31 09:00:00    8138.679864\n",
       " 2014-12-31 10:00:00    8120.693552\n",
       " Freq: h, Name: y_step_11, Length: 113905, dtype: float64,\n",
       " 12: date_time\n",
       " 2002-01-02 11:00:00    7862.839826\n",
       " 2002-01-02 12:00:00    7800.134560\n",
       " 2002-01-02 13:00:00    7743.249616\n",
       " 2002-01-02 14:00:00    7698.202550\n",
       " 2002-01-02 15:00:00    7749.427674\n",
       "                           ...     \n",
       " 2014-12-31 07:00:00    7923.059350\n",
       " 2014-12-31 08:00:00    8118.576022\n",
       " 2014-12-31 09:00:00    8138.679864\n",
       " 2014-12-31 10:00:00    8120.693552\n",
       " 2014-12-31 11:00:00    8024.203974\n",
       " Freq: h, Name: y_step_12, Length: 113905, dtype: float64,\n",
       " 13: date_time\n",
       " 2002-01-02 12:00:00    7800.134560\n",
       " 2002-01-02 13:00:00    7743.249616\n",
       " 2002-01-02 14:00:00    7698.202550\n",
       " 2002-01-02 15:00:00    7749.427674\n",
       " 2002-01-02 16:00:00    7841.730060\n",
       "                           ...     \n",
       " 2014-12-31 08:00:00    8118.576022\n",
       " 2014-12-31 09:00:00    8138.679864\n",
       " 2014-12-31 10:00:00    8120.693552\n",
       " 2014-12-31 11:00:00    8024.203974\n",
       " 2014-12-31 12:00:00    7981.090380\n",
       " Freq: h, Name: y_step_13, Length: 113905, dtype: float64,\n",
       " 14: date_time\n",
       " 2002-01-02 13:00:00    7743.249616\n",
       " 2002-01-02 14:00:00    7698.202550\n",
       " 2002-01-02 15:00:00    7749.427674\n",
       " 2002-01-02 16:00:00    7841.730060\n",
       " 2002-01-02 17:00:00    7580.237044\n",
       "                           ...     \n",
       " 2014-12-31 09:00:00    8138.679864\n",
       " 2014-12-31 10:00:00    8120.693552\n",
       " 2014-12-31 11:00:00    8024.203974\n",
       " 2014-12-31 12:00:00    7981.090380\n",
       " 2014-12-31 13:00:00    8028.274856\n",
       " Freq: h, Name: y_step_14, Length: 113905, dtype: float64,\n",
       " 15: date_time\n",
       " 2002-01-02 14:00:00    7698.202550\n",
       " 2002-01-02 15:00:00    7749.427674\n",
       " 2002-01-02 16:00:00    7841.730060\n",
       " 2002-01-02 17:00:00    7580.237044\n",
       " 2002-01-02 18:00:00    7026.310706\n",
       "                           ...     \n",
       " 2014-12-31 10:00:00    8120.693552\n",
       " 2014-12-31 11:00:00    8024.203974\n",
       " 2014-12-31 12:00:00    7981.090380\n",
       " 2014-12-31 13:00:00    8028.274856\n",
       " 2014-12-31 14:00:00    8170.019326\n",
       " Freq: h, Name: y_step_15, Length: 113905, dtype: float64,\n",
       " 16: date_time\n",
       " 2002-01-02 15:00:00    7749.427674\n",
       " 2002-01-02 16:00:00    7841.730060\n",
       " 2002-01-02 17:00:00    7580.237044\n",
       " 2002-01-02 18:00:00    7026.310706\n",
       " 2002-01-02 19:00:00    6870.318860\n",
       "                           ...     \n",
       " 2014-12-31 11:00:00    8024.203974\n",
       " 2014-12-31 12:00:00    7981.090380\n",
       " 2014-12-31 13:00:00    8028.274856\n",
       " 2014-12-31 14:00:00    8170.019326\n",
       " 2014-12-31 15:00:00    8490.178162\n",
       " Freq: h, Name: y_step_16, Length: 113905, dtype: float64,\n",
       " 17: date_time\n",
       " 2002-01-02 16:00:00    7841.730060\n",
       " 2002-01-02 17:00:00    7580.237044\n",
       " 2002-01-02 18:00:00    7026.310706\n",
       " 2002-01-02 19:00:00    6870.318860\n",
       " 2002-01-02 20:00:00    7136.380050\n",
       "                           ...     \n",
       " 2014-12-31 12:00:00    7981.090380\n",
       " 2014-12-31 13:00:00    8028.274856\n",
       " 2014-12-31 14:00:00    8170.019326\n",
       " 2014-12-31 15:00:00    8490.178162\n",
       " 2014-12-31 16:00:00    8755.116472\n",
       " Freq: h, Name: y_step_17, Length: 113905, dtype: float64,\n",
       " 18: date_time\n",
       " 2002-01-02 17:00:00    7580.237044\n",
       " 2002-01-02 18:00:00    7026.310706\n",
       " 2002-01-02 19:00:00    6870.318860\n",
       " 2002-01-02 20:00:00    7136.380050\n",
       " 2002-01-02 21:00:00    6852.025504\n",
       "                           ...     \n",
       " 2014-12-31 13:00:00    8028.274856\n",
       " 2014-12-31 14:00:00    8170.019326\n",
       " 2014-12-31 15:00:00    8490.178162\n",
       " 2014-12-31 16:00:00    8755.116472\n",
       " 2014-12-31 17:00:00    8546.755882\n",
       " Freq: h, Name: y_step_18, Length: 113905, dtype: float64,\n",
       " 19: date_time\n",
       " 2002-01-02 18:00:00    7026.310706\n",
       " 2002-01-02 19:00:00    6870.318860\n",
       " 2002-01-02 20:00:00    7136.380050\n",
       " 2002-01-02 21:00:00    6852.025504\n",
       " 2002-01-02 22:00:00    6465.773758\n",
       "                           ...     \n",
       " 2014-12-31 14:00:00    8170.019326\n",
       " 2014-12-31 15:00:00    8490.178162\n",
       " 2014-12-31 16:00:00    8755.116472\n",
       " 2014-12-31 17:00:00    8546.755882\n",
       " 2014-12-31 18:00:00    8139.251100\n",
       " Freq: h, Name: y_step_19, Length: 113905, dtype: float64,\n",
       " 20: date_time\n",
       " 2002-01-02 19:00:00    6870.318860\n",
       " 2002-01-02 20:00:00    7136.380050\n",
       " 2002-01-02 21:00:00    6852.025504\n",
       " 2002-01-02 22:00:00    6465.773758\n",
       " 2002-01-02 23:00:00    7272.054724\n",
       "                           ...     \n",
       " 2014-12-31 15:00:00    8490.178162\n",
       " 2014-12-31 16:00:00    8755.116472\n",
       " 2014-12-31 17:00:00    8546.755882\n",
       " 2014-12-31 18:00:00    8139.251100\n",
       " 2014-12-31 19:00:00    7818.461408\n",
       " Freq: h, Name: y_step_20, Length: 113905, dtype: float64,\n",
       " 21: date_time\n",
       " 2002-01-02 20:00:00    7136.380050\n",
       " 2002-01-02 21:00:00    6852.025504\n",
       " 2002-01-02 22:00:00    6465.773758\n",
       " 2002-01-02 23:00:00    7272.054724\n",
       " 2002-01-03 00:00:00    6948.449838\n",
       "                           ...     \n",
       " 2014-12-31 16:00:00    8755.116472\n",
       " 2014-12-31 17:00:00    8546.755882\n",
       " 2014-12-31 18:00:00    8139.251100\n",
       " 2014-12-31 19:00:00    7818.461408\n",
       " 2014-12-31 20:00:00    7801.201802\n",
       " Freq: h, Name: y_step_21, Length: 113905, dtype: float64,\n",
       " 22: date_time\n",
       " 2002-01-02 21:00:00    6852.025504\n",
       " 2002-01-02 22:00:00    6465.773758\n",
       " 2002-01-02 23:00:00    7272.054724\n",
       " 2002-01-03 00:00:00    6948.449838\n",
       " 2002-01-03 01:00:00    7341.656902\n",
       "                           ...     \n",
       " 2014-12-31 17:00:00    8546.755882\n",
       " 2014-12-31 18:00:00    8139.251100\n",
       " 2014-12-31 19:00:00    7818.461408\n",
       " 2014-12-31 20:00:00    7801.201802\n",
       " 2014-12-31 21:00:00    7516.472988\n",
       " Freq: h, Name: y_step_22, Length: 113905, dtype: float64,\n",
       " 23: date_time\n",
       " 2002-01-02 22:00:00    6465.773758\n",
       " 2002-01-02 23:00:00    7272.054724\n",
       " 2002-01-03 00:00:00    6948.449838\n",
       " 2002-01-03 01:00:00    7341.656902\n",
       " 2002-01-03 02:00:00    6670.057680\n",
       "                           ...     \n",
       " 2014-12-31 18:00:00    8139.251100\n",
       " 2014-12-31 19:00:00    7818.461408\n",
       " 2014-12-31 20:00:00    7801.201802\n",
       " 2014-12-31 21:00:00    7516.472988\n",
       " 2014-12-31 22:00:00    7571.301440\n",
       " Freq: h, Name: y_step_23, Length: 113905, dtype: float64,\n",
       " 24: date_time\n",
       " 2002-01-02 23:00:00    7272.054724\n",
       " 2002-01-03 00:00:00    6948.449838\n",
       " 2002-01-03 01:00:00    7341.656902\n",
       " 2002-01-03 02:00:00    6670.057680\n",
       " 2002-01-03 03:00:00    6137.053234\n",
       "                           ...     \n",
       " 2014-12-31 19:00:00    7818.461408\n",
       " 2014-12-31 20:00:00    7801.201802\n",
       " 2014-12-31 21:00:00    7516.472988\n",
       " 2014-12-31 22:00:00    7571.301440\n",
       " 2014-12-31 23:00:00    8352.992140\n",
       " Freq: h, Name: y_step_24, Length: 113905, dtype: float64}"
      ]
     },
     "execution_count": 15,
     "metadata": {},
     "output_type": "execute_result"
    }
   ],
   "source": [
    "yt"
   ]
  },
  {
   "cell_type": "markdown",
   "id": "519d558d",
   "metadata": {},
   "source": [
    "Under the hood, to predict each step, skforecast will combine all the lags with the respective datetime features, and use those as input to the model.\n",
    "\n",
    "If you add more variables to the `exog`, it will also know how to identify the value corresponding to each step of the horizon and use it to train a model for that particular step, and no other."
   ]
  },
  {
   "cell_type": "markdown",
   "id": "b68e26da",
   "metadata": {},
   "source": [
    "## Predict future data\n",
    "\n",
    "We'll start by predicting the 24 hs right after the train set ends.\n",
    "\n",
    "We need to create a window with the forecasting horizon. Or in other words, the template for the datetime features."
   ]
  },
  {
   "cell_type": "code",
   "execution_count": null,
   "id": "e83cf5e8",
   "metadata": {},
   "outputs": [
    {
     "name": "stderr",
     "output_type": "stream",
     "text": [
      "C:\\Users\\nuosv\\AppData\\Local\\Temp\\ipykernel_15900\\791553089.py:4: FutureWarning: 'H' is deprecated and will be removed in a future version, please use 'h' instead.\n",
      "  index = pd.date_range(\n"
     ]
    },
    {
     "data": {
      "text/plain": [
       "DatetimeIndex(['2015-01-01 00:00:00', '2015-01-01 01:00:00',\n",
       "               '2015-01-01 02:00:00', '2015-01-01 03:00:00',\n",
       "               '2015-01-01 04:00:00', '2015-01-01 05:00:00',\n",
       "               '2015-01-01 06:00:00', '2015-01-01 07:00:00',\n",
       "               '2015-01-01 08:00:00', '2015-01-01 09:00:00',\n",
       "               '2015-01-01 10:00:00', '2015-01-01 11:00:00',\n",
       "               '2015-01-01 12:00:00', '2015-01-01 13:00:00',\n",
       "               '2015-01-01 14:00:00', '2015-01-01 15:00:00',\n",
       "               '2015-01-01 16:00:00', '2015-01-01 17:00:00',\n",
       "               '2015-01-01 18:00:00', '2015-01-01 19:00:00',\n",
       "               '2015-01-01 20:00:00', '2015-01-01 21:00:00',\n",
       "               '2015-01-01 22:00:00', '2015-01-01 23:00:00'],\n",
       "              dtype='datetime64[ns]', freq='h')"
      ]
     },
     "execution_count": 16,
     "metadata": {},
     "output_type": "execute_result"
    }
   ],
   "source": [
    "forecast_point = '2015-01-01 00:00:00'\n",
    "forecast_end = '2015-01-01 23:59:59'\n",
    "\n",
    "index = pd.date_range(\n",
    "    start=forecast_point,\n",
    "    end=forecast_end,\n",
    "    freq=\"1h\",\n",
    ")\n",
    "\n",
    "index"
   ]
  },
  {
   "cell_type": "code",
   "execution_count": 17,
   "id": "60b9dba1",
   "metadata": {},
   "outputs": [
    {
     "data": {
      "application/vnd.microsoft.datawrangler.viewer.v0+json": {
       "columns": [
        {
         "name": "index",
         "rawType": "datetime64[ns]",
         "type": "datetime"
        },
        {
         "name": "date_time",
         "rawType": "datetime64[ns]",
         "type": "datetime"
        }
       ],
       "conversionMethod": "pd.DataFrame",
       "ref": "50f65a8f-2613-4e9e-ba45-69e718e66163",
       "rows": [
        [
         "2015-01-01 00:00:00",
         "2015-01-01 00:00:00"
        ],
        [
         "2015-01-01 01:00:00",
         "2015-01-01 01:00:00"
        ],
        [
         "2015-01-01 02:00:00",
         "2015-01-01 02:00:00"
        ],
        [
         "2015-01-01 03:00:00",
         "2015-01-01 03:00:00"
        ],
        [
         "2015-01-01 04:00:00",
         "2015-01-01 04:00:00"
        ],
        [
         "2015-01-01 05:00:00",
         "2015-01-01 05:00:00"
        ],
        [
         "2015-01-01 06:00:00",
         "2015-01-01 06:00:00"
        ],
        [
         "2015-01-01 07:00:00",
         "2015-01-01 07:00:00"
        ],
        [
         "2015-01-01 08:00:00",
         "2015-01-01 08:00:00"
        ],
        [
         "2015-01-01 09:00:00",
         "2015-01-01 09:00:00"
        ],
        [
         "2015-01-01 10:00:00",
         "2015-01-01 10:00:00"
        ],
        [
         "2015-01-01 11:00:00",
         "2015-01-01 11:00:00"
        ],
        [
         "2015-01-01 12:00:00",
         "2015-01-01 12:00:00"
        ],
        [
         "2015-01-01 13:00:00",
         "2015-01-01 13:00:00"
        ],
        [
         "2015-01-01 14:00:00",
         "2015-01-01 14:00:00"
        ],
        [
         "2015-01-01 15:00:00",
         "2015-01-01 15:00:00"
        ],
        [
         "2015-01-01 16:00:00",
         "2015-01-01 16:00:00"
        ],
        [
         "2015-01-01 17:00:00",
         "2015-01-01 17:00:00"
        ],
        [
         "2015-01-01 18:00:00",
         "2015-01-01 18:00:00"
        ],
        [
         "2015-01-01 19:00:00",
         "2015-01-01 19:00:00"
        ],
        [
         "2015-01-01 20:00:00",
         "2015-01-01 20:00:00"
        ],
        [
         "2015-01-01 21:00:00",
         "2015-01-01 21:00:00"
        ],
        [
         "2015-01-01 22:00:00",
         "2015-01-01 22:00:00"
        ],
        [
         "2015-01-01 23:00:00",
         "2015-01-01 23:00:00"
        ]
       ],
       "shape": {
        "columns": 1,
        "rows": 24
       }
      },
      "text/html": [
       "<div>\n",
       "<style scoped>\n",
       "    .dataframe tbody tr th:only-of-type {\n",
       "        vertical-align: middle;\n",
       "    }\n",
       "\n",
       "    .dataframe tbody tr th {\n",
       "        vertical-align: top;\n",
       "    }\n",
       "\n",
       "    .dataframe thead th {\n",
       "        text-align: right;\n",
       "    }\n",
       "</style>\n",
       "<table border=\"1\" class=\"dataframe\">\n",
       "  <thead>\n",
       "    <tr style=\"text-align: right;\">\n",
       "      <th></th>\n",
       "      <th>date_time</th>\n",
       "    </tr>\n",
       "  </thead>\n",
       "  <tbody>\n",
       "    <tr>\n",
       "      <th>2015-01-01 00:00:00</th>\n",
       "      <td>2015-01-01 00:00:00</td>\n",
       "    </tr>\n",
       "    <tr>\n",
       "      <th>2015-01-01 01:00:00</th>\n",
       "      <td>2015-01-01 01:00:00</td>\n",
       "    </tr>\n",
       "    <tr>\n",
       "      <th>2015-01-01 02:00:00</th>\n",
       "      <td>2015-01-01 02:00:00</td>\n",
       "    </tr>\n",
       "    <tr>\n",
       "      <th>2015-01-01 03:00:00</th>\n",
       "      <td>2015-01-01 03:00:00</td>\n",
       "    </tr>\n",
       "    <tr>\n",
       "      <th>2015-01-01 04:00:00</th>\n",
       "      <td>2015-01-01 04:00:00</td>\n",
       "    </tr>\n",
       "    <tr>\n",
       "      <th>2015-01-01 05:00:00</th>\n",
       "      <td>2015-01-01 05:00:00</td>\n",
       "    </tr>\n",
       "    <tr>\n",
       "      <th>2015-01-01 06:00:00</th>\n",
       "      <td>2015-01-01 06:00:00</td>\n",
       "    </tr>\n",
       "    <tr>\n",
       "      <th>2015-01-01 07:00:00</th>\n",
       "      <td>2015-01-01 07:00:00</td>\n",
       "    </tr>\n",
       "    <tr>\n",
       "      <th>2015-01-01 08:00:00</th>\n",
       "      <td>2015-01-01 08:00:00</td>\n",
       "    </tr>\n",
       "    <tr>\n",
       "      <th>2015-01-01 09:00:00</th>\n",
       "      <td>2015-01-01 09:00:00</td>\n",
       "    </tr>\n",
       "    <tr>\n",
       "      <th>2015-01-01 10:00:00</th>\n",
       "      <td>2015-01-01 10:00:00</td>\n",
       "    </tr>\n",
       "    <tr>\n",
       "      <th>2015-01-01 11:00:00</th>\n",
       "      <td>2015-01-01 11:00:00</td>\n",
       "    </tr>\n",
       "    <tr>\n",
       "      <th>2015-01-01 12:00:00</th>\n",
       "      <td>2015-01-01 12:00:00</td>\n",
       "    </tr>\n",
       "    <tr>\n",
       "      <th>2015-01-01 13:00:00</th>\n",
       "      <td>2015-01-01 13:00:00</td>\n",
       "    </tr>\n",
       "    <tr>\n",
       "      <th>2015-01-01 14:00:00</th>\n",
       "      <td>2015-01-01 14:00:00</td>\n",
       "    </tr>\n",
       "    <tr>\n",
       "      <th>2015-01-01 15:00:00</th>\n",
       "      <td>2015-01-01 15:00:00</td>\n",
       "    </tr>\n",
       "    <tr>\n",
       "      <th>2015-01-01 16:00:00</th>\n",
       "      <td>2015-01-01 16:00:00</td>\n",
       "    </tr>\n",
       "    <tr>\n",
       "      <th>2015-01-01 17:00:00</th>\n",
       "      <td>2015-01-01 17:00:00</td>\n",
       "    </tr>\n",
       "    <tr>\n",
       "      <th>2015-01-01 18:00:00</th>\n",
       "      <td>2015-01-01 18:00:00</td>\n",
       "    </tr>\n",
       "    <tr>\n",
       "      <th>2015-01-01 19:00:00</th>\n",
       "      <td>2015-01-01 19:00:00</td>\n",
       "    </tr>\n",
       "    <tr>\n",
       "      <th>2015-01-01 20:00:00</th>\n",
       "      <td>2015-01-01 20:00:00</td>\n",
       "    </tr>\n",
       "    <tr>\n",
       "      <th>2015-01-01 21:00:00</th>\n",
       "      <td>2015-01-01 21:00:00</td>\n",
       "    </tr>\n",
       "    <tr>\n",
       "      <th>2015-01-01 22:00:00</th>\n",
       "      <td>2015-01-01 22:00:00</td>\n",
       "    </tr>\n",
       "    <tr>\n",
       "      <th>2015-01-01 23:00:00</th>\n",
       "      <td>2015-01-01 23:00:00</td>\n",
       "    </tr>\n",
       "  </tbody>\n",
       "</table>\n",
       "</div>"
      ],
      "text/plain": [
       "                              date_time\n",
       "2015-01-01 00:00:00 2015-01-01 00:00:00\n",
       "2015-01-01 01:00:00 2015-01-01 01:00:00\n",
       "2015-01-01 02:00:00 2015-01-01 02:00:00\n",
       "2015-01-01 03:00:00 2015-01-01 03:00:00\n",
       "2015-01-01 04:00:00 2015-01-01 04:00:00\n",
       "2015-01-01 05:00:00 2015-01-01 05:00:00\n",
       "2015-01-01 06:00:00 2015-01-01 06:00:00\n",
       "2015-01-01 07:00:00 2015-01-01 07:00:00\n",
       "2015-01-01 08:00:00 2015-01-01 08:00:00\n",
       "2015-01-01 09:00:00 2015-01-01 09:00:00\n",
       "2015-01-01 10:00:00 2015-01-01 10:00:00\n",
       "2015-01-01 11:00:00 2015-01-01 11:00:00\n",
       "2015-01-01 12:00:00 2015-01-01 12:00:00\n",
       "2015-01-01 13:00:00 2015-01-01 13:00:00\n",
       "2015-01-01 14:00:00 2015-01-01 14:00:00\n",
       "2015-01-01 15:00:00 2015-01-01 15:00:00\n",
       "2015-01-01 16:00:00 2015-01-01 16:00:00\n",
       "2015-01-01 17:00:00 2015-01-01 17:00:00\n",
       "2015-01-01 18:00:00 2015-01-01 18:00:00\n",
       "2015-01-01 19:00:00 2015-01-01 19:00:00\n",
       "2015-01-01 20:00:00 2015-01-01 20:00:00\n",
       "2015-01-01 21:00:00 2015-01-01 21:00:00\n",
       "2015-01-01 22:00:00 2015-01-01 22:00:00\n",
       "2015-01-01 23:00:00 2015-01-01 23:00:00"
      ]
     },
     "execution_count": 17,
     "metadata": {},
     "output_type": "execute_result"
    }
   ],
   "source": [
    "# for the exog\n",
    "\n",
    "exog = pd.DataFrame(\n",
    "    X_test.loc[index].index,\n",
    "    columns = [\"date_time\"],\n",
    "    index = index,\n",
    ")\n",
    "\n",
    "exog"
   ]
  },
  {
   "cell_type": "code",
   "execution_count": 18,
   "id": "3df411f4",
   "metadata": {},
   "outputs": [
    {
     "data": {
      "text/plain": [
       "2015-01-01 00:00:00    8818.821535\n",
       "2015-01-01 01:00:00    8685.728661\n",
       "2015-01-01 02:00:00    8514.078942\n",
       "2015-01-01 03:00:00    8454.310333\n",
       "2015-01-01 04:00:00    8402.014879\n",
       "2015-01-01 05:00:00    8402.057197\n",
       "2015-01-01 06:00:00    8677.247195\n",
       "2015-01-01 07:00:00    8774.429661\n",
       "2015-01-01 08:00:00    8884.127718\n",
       "2015-01-01 09:00:00    8884.135297\n",
       "2015-01-01 10:00:00    8884.140646\n",
       "2015-01-01 11:00:00    8774.460968\n",
       "2015-01-01 12:00:00    8774.463544\n",
       "2015-01-01 13:00:00    8774.468869\n",
       "2015-01-01 14:00:00    8884.156268\n",
       "2015-01-01 15:00:00    8884.171617\n",
       "2015-01-01 16:00:00    8884.192678\n",
       "2015-01-01 17:00:00    8884.206858\n",
       "2015-01-01 18:00:00    8884.215545\n",
       "2015-01-01 19:00:00    8774.552822\n",
       "2015-01-01 20:00:00    8774.572113\n",
       "2015-01-01 21:00:00    8774.579153\n",
       "2015-01-01 22:00:00    8774.594348\n",
       "2015-01-01 23:00:00    8884.289568\n",
       "Freq: h, Name: pred, dtype: float64"
      ]
     },
     "execution_count": 18,
     "metadata": {},
     "output_type": "execute_result"
    }
   ],
   "source": [
    "preds = forecaster.predict(\n",
    "    steps=24,\n",
    "    exog=exog,\n",
    ")\n",
    "\n",
    "preds"
   ]
  },
  {
   "cell_type": "code",
   "execution_count": 19,
   "id": "3d03cde0",
   "metadata": {},
   "outputs": [
    {
     "data": {
      "image/png": "[encoded data removed]",
      "text/plain": [
       "<Figure size 600x300 with 1 Axes>"
      ]
     },
     "metadata": {},
     "output_type": "display_data"
    }
   ],
   "source": [
    "# Plot the forecast vs the actual\n",
    "\n",
    "fig, ax = plt.subplots(figsize=(6, 3))\n",
    "X_train.tail(100)[\"demand\"].plot(ax=ax, label='train')\n",
    "X_test.loc[index][\"demand\"].plot(ax=ax, label='test')\n",
    "preds.plot(ax=ax, label='predictions')\n",
    "plt.title(\"GBM recursive forecasting\")\n",
    "ax.legend(bbox_to_anchor=(1.3, 1.0));"
   ]
  },
  {
   "cell_type": "code",
   "execution_count": 20,
   "id": "c5847b38",
   "metadata": {},
   "outputs": [
    {
     "name": "stdout",
     "output_type": "stream",
     "text": [
      "Test error (mse): 1977013.8626981936\n"
     ]
    }
   ],
   "source": [
    "# Prediction error\n",
    "\n",
    "error_mse = mean_squared_error(\n",
    "                y_true = X_test.loc[index][\"demand\"],\n",
    "                y_pred = preds\n",
    "            )\n",
    "\n",
    "print(f\"Test error (mse): {error_mse}\")"
   ]
  },
  {
   "cell_type": "code",
   "execution_count": 21,
   "id": "7cb40e1d",
   "metadata": {},
   "outputs": [
    {
     "name": "stdout",
     "output_type": "stream",
     "text": [
      "Test error (rmse): 1406.0632498924767\n"
     ]
    }
   ],
   "source": [
    "# Prediction error\n",
    "\n",
    "error_rmse = root_mean_squared_error(\n",
    "                y_true = X_test.loc[index][\"demand\"],\n",
    "                y_pred = preds\n",
    "            )\n",
    "\n",
    "print(f\"Test error (rmse): {error_rmse}\")"
   ]
  },
  {
   "cell_type": "markdown",
   "id": "3913f811",
   "metadata": {},
   "source": [
    "## Predict any time point in the future"
   ]
  },
  {
   "cell_type": "code",
   "execution_count": 22,
   "id": "395d475a",
   "metadata": {},
   "outputs": [
    {
     "data": {
      "application/vnd.microsoft.datawrangler.viewer.v0+json": {
       "columns": [
        {
         "name": "date_time",
         "rawType": "datetime64[ns]",
         "type": "datetime"
        },
        {
         "name": "demand",
         "rawType": "float64",
         "type": "float"
        }
       ],
       "conversionMethod": "pd.DataFrame",
       "ref": "75013041-f51d-456b-99b6-f93ccbc49ff9",
       "rows": [
        [
         "2015-01-31 00:00:00",
         "7844.738566"
        ],
        [
         "2015-01-31 01:00:00",
         "7164.501132"
        ],
        [
         "2015-01-31 02:00:00",
         "6689.463174"
        ],
        [
         "2015-01-31 03:00:00",
         "6553.6401000000005"
        ],
        [
         "2015-01-31 04:00:00",
         "6691.974048"
        ]
       ],
       "shape": {
        "columns": 1,
        "rows": 5
       }
      },
      "text/html": [
       "<div>\n",
       "<style scoped>\n",
       "    .dataframe tbody tr th:only-of-type {\n",
       "        vertical-align: middle;\n",
       "    }\n",
       "\n",
       "    .dataframe tbody tr th {\n",
       "        vertical-align: top;\n",
       "    }\n",
       "\n",
       "    .dataframe thead th {\n",
       "        text-align: right;\n",
       "    }\n",
       "</style>\n",
       "<table border=\"1\" class=\"dataframe\">\n",
       "  <thead>\n",
       "    <tr style=\"text-align: right;\">\n",
       "      <th></th>\n",
       "      <th>demand</th>\n",
       "    </tr>\n",
       "    <tr>\n",
       "      <th>date_time</th>\n",
       "      <th></th>\n",
       "    </tr>\n",
       "  </thead>\n",
       "  <tbody>\n",
       "    <tr>\n",
       "      <th>2015-01-31 00:00:00</th>\n",
       "      <td>7844.738566</td>\n",
       "    </tr>\n",
       "    <tr>\n",
       "      <th>2015-01-31 01:00:00</th>\n",
       "      <td>7164.501132</td>\n",
       "    </tr>\n",
       "    <tr>\n",
       "      <th>2015-01-31 02:00:00</th>\n",
       "      <td>6689.463174</td>\n",
       "    </tr>\n",
       "    <tr>\n",
       "      <th>2015-01-31 03:00:00</th>\n",
       "      <td>6553.640100</td>\n",
       "    </tr>\n",
       "    <tr>\n",
       "      <th>2015-01-31 04:00:00</th>\n",
       "      <td>6691.974048</td>\n",
       "    </tr>\n",
       "  </tbody>\n",
       "</table>\n",
       "</div>"
      ],
      "text/plain": [
       "                          demand\n",
       "date_time                       \n",
       "2015-01-31 00:00:00  7844.738566\n",
       "2015-01-31 01:00:00  7164.501132\n",
       "2015-01-31 02:00:00  6689.463174\n",
       "2015-01-31 03:00:00  6553.640100\n",
       "2015-01-31 04:00:00  6691.974048"
      ]
     },
     "execution_count": 22,
     "metadata": {},
     "output_type": "execute_result"
    }
   ],
   "source": [
    "# Say we want to predict energy demand for 1st of February\n",
    "\n",
    "forecast_start = '2015-02-01 00:00:00'\n",
    "\n",
    "# we need the energy demand up to 144 hs before that point\n",
    "past_data_available = X_test[:'2015-01-31 23:59:59'].tail(24)\n",
    "\n",
    "past_data_available.head()"
   ]
  },
  {
   "cell_type": "code",
   "execution_count": 23,
   "id": "18f97bba",
   "metadata": {},
   "outputs": [
    {
     "data": {
      "application/vnd.microsoft.datawrangler.viewer.v0+json": {
       "columns": [
        {
         "name": "date_time",
         "rawType": "datetime64[ns]",
         "type": "datetime"
        },
        {
         "name": "date_time",
         "rawType": "datetime64[ns]",
         "type": "datetime"
        }
       ],
       "conversionMethod": "pd.DataFrame",
       "ref": "7a464029-f7d8-4be4-b1d5-4cdd8c1f4a2b",
       "rows": [
        [
         "2015-02-01 00:00:00",
         "2015-02-01 00:00:00"
        ],
        [
         "2015-02-01 01:00:00",
         "2015-02-01 01:00:00"
        ],
        [
         "2015-02-01 02:00:00",
         "2015-02-01 02:00:00"
        ],
        [
         "2015-02-01 03:00:00",
         "2015-02-01 03:00:00"
        ],
        [
         "2015-02-01 04:00:00",
         "2015-02-01 04:00:00"
        ],
        [
         "2015-02-01 05:00:00",
         "2015-02-01 05:00:00"
        ],
        [
         "2015-02-01 06:00:00",
         "2015-02-01 06:00:00"
        ],
        [
         "2015-02-01 07:00:00",
         "2015-02-01 07:00:00"
        ],
        [
         "2015-02-01 08:00:00",
         "2015-02-01 08:00:00"
        ],
        [
         "2015-02-01 09:00:00",
         "2015-02-01 09:00:00"
        ],
        [
         "2015-02-01 10:00:00",
         "2015-02-01 10:00:00"
        ],
        [
         "2015-02-01 11:00:00",
         "2015-02-01 11:00:00"
        ],
        [
         "2015-02-01 12:00:00",
         "2015-02-01 12:00:00"
        ],
        [
         "2015-02-01 13:00:00",
         "2015-02-01 13:00:00"
        ],
        [
         "2015-02-01 14:00:00",
         "2015-02-01 14:00:00"
        ],
        [
         "2015-02-01 15:00:00",
         "2015-02-01 15:00:00"
        ],
        [
         "2015-02-01 16:00:00",
         "2015-02-01 16:00:00"
        ],
        [
         "2015-02-01 17:00:00",
         "2015-02-01 17:00:00"
        ],
        [
         "2015-02-01 18:00:00",
         "2015-02-01 18:00:00"
        ],
        [
         "2015-02-01 19:00:00",
         "2015-02-01 19:00:00"
        ],
        [
         "2015-02-01 20:00:00",
         "2015-02-01 20:00:00"
        ],
        [
         "2015-02-01 21:00:00",
         "2015-02-01 21:00:00"
        ],
        [
         "2015-02-01 22:00:00",
         "2015-02-01 22:00:00"
        ],
        [
         "2015-02-01 23:00:00",
         "2015-02-01 23:00:00"
        ]
       ],
       "shape": {
        "columns": 1,
        "rows": 24
       }
      },
      "text/html": [
       "<div>\n",
       "<style scoped>\n",
       "    .dataframe tbody tr th:only-of-type {\n",
       "        vertical-align: middle;\n",
       "    }\n",
       "\n",
       "    .dataframe tbody tr th {\n",
       "        vertical-align: top;\n",
       "    }\n",
       "\n",
       "    .dataframe thead th {\n",
       "        text-align: right;\n",
       "    }\n",
       "</style>\n",
       "<table border=\"1\" class=\"dataframe\">\n",
       "  <thead>\n",
       "    <tr style=\"text-align: right;\">\n",
       "      <th></th>\n",
       "      <th>date_time</th>\n",
       "    </tr>\n",
       "    <tr>\n",
       "      <th>date_time</th>\n",
       "      <th></th>\n",
       "    </tr>\n",
       "  </thead>\n",
       "  <tbody>\n",
       "    <tr>\n",
       "      <th>2015-02-01 00:00:00</th>\n",
       "      <td>2015-02-01 00:00:00</td>\n",
       "    </tr>\n",
       "    <tr>\n",
       "      <th>2015-02-01 01:00:00</th>\n",
       "      <td>2015-02-01 01:00:00</td>\n",
       "    </tr>\n",
       "    <tr>\n",
       "      <th>2015-02-01 02:00:00</th>\n",
       "      <td>2015-02-01 02:00:00</td>\n",
       "    </tr>\n",
       "    <tr>\n",
       "      <th>2015-02-01 03:00:00</th>\n",
       "      <td>2015-02-01 03:00:00</td>\n",
       "    </tr>\n",
       "    <tr>\n",
       "      <th>2015-02-01 04:00:00</th>\n",
       "      <td>2015-02-01 04:00:00</td>\n",
       "    </tr>\n",
       "    <tr>\n",
       "      <th>2015-02-01 05:00:00</th>\n",
       "      <td>2015-02-01 05:00:00</td>\n",
       "    </tr>\n",
       "    <tr>\n",
       "      <th>2015-02-01 06:00:00</th>\n",
       "      <td>2015-02-01 06:00:00</td>\n",
       "    </tr>\n",
       "    <tr>\n",
       "      <th>2015-02-01 07:00:00</th>\n",
       "      <td>2015-02-01 07:00:00</td>\n",
       "    </tr>\n",
       "    <tr>\n",
       "      <th>2015-02-01 08:00:00</th>\n",
       "      <td>2015-02-01 08:00:00</td>\n",
       "    </tr>\n",
       "    <tr>\n",
       "      <th>2015-02-01 09:00:00</th>\n",
       "      <td>2015-02-01 09:00:00</td>\n",
       "    </tr>\n",
       "    <tr>\n",
       "      <th>2015-02-01 10:00:00</th>\n",
       "      <td>2015-02-01 10:00:00</td>\n",
       "    </tr>\n",
       "    <tr>\n",
       "      <th>2015-02-01 11:00:00</th>\n",
       "      <td>2015-02-01 11:00:00</td>\n",
       "    </tr>\n",
       "    <tr>\n",
       "      <th>2015-02-01 12:00:00</th>\n",
       "      <td>2015-02-01 12:00:00</td>\n",
       "    </tr>\n",
       "    <tr>\n",
       "      <th>2015-02-01 13:00:00</th>\n",
       "      <td>2015-02-01 13:00:00</td>\n",
       "    </tr>\n",
       "    <tr>\n",
       "      <th>2015-02-01 14:00:00</th>\n",
       "      <td>2015-02-01 14:00:00</td>\n",
       "    </tr>\n",
       "    <tr>\n",
       "      <th>2015-02-01 15:00:00</th>\n",
       "      <td>2015-02-01 15:00:00</td>\n",
       "    </tr>\n",
       "    <tr>\n",
       "      <th>2015-02-01 16:00:00</th>\n",
       "      <td>2015-02-01 16:00:00</td>\n",
       "    </tr>\n",
       "    <tr>\n",
       "      <th>2015-02-01 17:00:00</th>\n",
       "      <td>2015-02-01 17:00:00</td>\n",
       "    </tr>\n",
       "    <tr>\n",
       "      <th>2015-02-01 18:00:00</th>\n",
       "      <td>2015-02-01 18:00:00</td>\n",
       "    </tr>\n",
       "    <tr>\n",
       "      <th>2015-02-01 19:00:00</th>\n",
       "      <td>2015-02-01 19:00:00</td>\n",
       "    </tr>\n",
       "    <tr>\n",
       "      <th>2015-02-01 20:00:00</th>\n",
       "      <td>2015-02-01 20:00:00</td>\n",
       "    </tr>\n",
       "    <tr>\n",
       "      <th>2015-02-01 21:00:00</th>\n",
       "      <td>2015-02-01 21:00:00</td>\n",
       "    </tr>\n",
       "    <tr>\n",
       "      <th>2015-02-01 22:00:00</th>\n",
       "      <td>2015-02-01 22:00:00</td>\n",
       "    </tr>\n",
       "    <tr>\n",
       "      <th>2015-02-01 23:00:00</th>\n",
       "      <td>2015-02-01 23:00:00</td>\n",
       "    </tr>\n",
       "  </tbody>\n",
       "</table>\n",
       "</div>"
      ],
      "text/plain": [
       "                              date_time\n",
       "date_time                              \n",
       "2015-02-01 00:00:00 2015-02-01 00:00:00\n",
       "2015-02-01 01:00:00 2015-02-01 01:00:00\n",
       "2015-02-01 02:00:00 2015-02-01 02:00:00\n",
       "2015-02-01 03:00:00 2015-02-01 03:00:00\n",
       "2015-02-01 04:00:00 2015-02-01 04:00:00\n",
       "2015-02-01 05:00:00 2015-02-01 05:00:00\n",
       "2015-02-01 06:00:00 2015-02-01 06:00:00\n",
       "2015-02-01 07:00:00 2015-02-01 07:00:00\n",
       "2015-02-01 08:00:00 2015-02-01 08:00:00\n",
       "2015-02-01 09:00:00 2015-02-01 09:00:00\n",
       "2015-02-01 10:00:00 2015-02-01 10:00:00\n",
       "2015-02-01 11:00:00 2015-02-01 11:00:00\n",
       "2015-02-01 12:00:00 2015-02-01 12:00:00\n",
       "2015-02-01 13:00:00 2015-02-01 13:00:00\n",
       "2015-02-01 14:00:00 2015-02-01 14:00:00\n",
       "2015-02-01 15:00:00 2015-02-01 15:00:00\n",
       "2015-02-01 16:00:00 2015-02-01 16:00:00\n",
       "2015-02-01 17:00:00 2015-02-01 17:00:00\n",
       "2015-02-01 18:00:00 2015-02-01 18:00:00\n",
       "2015-02-01 19:00:00 2015-02-01 19:00:00\n",
       "2015-02-01 20:00:00 2015-02-01 20:00:00\n",
       "2015-02-01 21:00:00 2015-02-01 21:00:00\n",
       "2015-02-01 22:00:00 2015-02-01 22:00:00\n",
       "2015-02-01 23:00:00 2015-02-01 23:00:00"
      ]
     },
     "execution_count": 23,
     "metadata": {},
     "output_type": "execute_result"
    }
   ],
   "source": [
    "# for the exog\n",
    "\n",
    "exog = pd.DataFrame(\n",
    "    X_test['2015-01-31 23:59:59':].head(24).index,\n",
    "    columns = [\"date_time\"],\n",
    "    index = X_test['2015-01-31 23:59:59':].head(24).index,\n",
    ")\n",
    "\n",
    "exog"
   ]
  },
  {
   "cell_type": "code",
   "execution_count": 24,
   "id": "dcfd930c",
   "metadata": {},
   "outputs": [
    {
     "data": {
      "text/plain": [
       "2015-02-01 00:00:00    8818.821535\n",
       "2015-02-01 01:00:00    8685.728661\n",
       "2015-02-01 02:00:00    8514.078942\n",
       "2015-02-01 03:00:00    8454.310333\n",
       "2015-02-01 04:00:00    8402.014879\n",
       "Freq: h, Name: pred, dtype: float64"
      ]
     },
     "execution_count": 24,
     "metadata": {},
     "output_type": "execute_result"
    }
   ],
   "source": [
    "predictions = forecaster.predict(\n",
    "    steps=24,\n",
    "    last_window=past_data_available[\"demand\"],\n",
    "    exog=exog,\n",
    ")\n",
    "\n",
    "predictions.head()"
   ]
  },
  {
   "cell_type": "code",
   "execution_count": 25,
   "id": "30a01e2a",
   "metadata": {},
   "outputs": [
    {
     "data": {
      "image/png": "[encoded data removed]",
      "text/plain": [
       "<Figure size 600x300 with 1 Axes>"
      ]
     },
     "metadata": {},
     "output_type": "display_data"
    }
   ],
   "source": [
    "# Plot the forecast vs the actual\n",
    "\n",
    "fig, ax = plt.subplots(figsize=(6, 3))\n",
    "X_test['2015-01-31 23:59:59':].head(24)[\"demand\"].plot(ax=ax, label='actuals')\n",
    "predictions.plot(ax=ax, label='predictions')\n",
    "plt.title(\"Lasso forecasting\")\n",
    "ax.legend(bbox_to_anchor=(1.3, 1.0));"
   ]
  },
  {
   "cell_type": "code",
   "execution_count": 26,
   "id": "1cee1f33",
   "metadata": {},
   "outputs": [
    {
     "name": "stdout",
     "output_type": "stream",
     "text": [
      "Test error (mse): 1568250.4096934712\n"
     ]
    }
   ],
   "source": [
    "# Prediction error\n",
    "\n",
    "error_mse = mean_squared_error(\n",
    "                y_true = X_test['2015-01-31 23:59:59':].head(24)[\"demand\"],\n",
    "                y_pred = predictions\n",
    "            )\n",
    "\n",
    "print(f\"Test error (mse): {error_mse}\")"
   ]
  },
  {
   "cell_type": "code",
   "execution_count": 27,
   "id": "ba1ef011",
   "metadata": {},
   "outputs": [
    {
     "name": "stdout",
     "output_type": "stream",
     "text": [
      "Test error (rmse): 1252.298051461181\n"
     ]
    }
   ],
   "source": [
    "# Prediction error\n",
    "\n",
    "error_rmse = root_mean_squared_error(\n",
    "                y_true = X_test['2015-01-31 23:59:59':].head(24)[\"demand\"],\n",
    "                y_pred = predictions\n",
    "            )\n",
    "\n",
    "print(f\"Test error (rmse): {error_rmse}\")"
   ]
  },
  {
   "cell_type": "markdown",
   "id": "ac9b7e0e",
   "metadata": {},
   "source": [
    "That's it! Now you know how to combine the use of past values through lags with future known values like those extracted from datatime."
   ]
  },
  {
   "cell_type": "code",
   "execution_count": null,
   "id": "33d3223e",
   "metadata": {},
   "outputs": [],
   "source": []
  }
 ],
 "metadata": {
  "kernelspec": {
   "display_name": ".venv",
   "language": "python",
   "name": "python3"
  },
  "language_info": {
   "codemirror_mode": {
    "name": "ipython",
    "version": 3
   },
   "file_extension": ".py",
   "mimetype": "text/x-python",
   "name": "python",
   "nbconvert_exporter": "python",
   "pygments_lexer": "ipython3",
   "version": "3.12.6"
  },
  "toc": {
   "base_numbering": 1,
   "nav_menu": {},
   "number_sections": true,
   "sideBar": true,
   "skip_h1_title": false,
   "title_cell": "Table of Contents",
   "title_sidebar": "Contents",
   "toc_cell": false,
   "toc_position": {
    "height": "calc(100% - 180px)",
    "left": "10px",
    "top": "150px",
    "width": "181.6px"
   },
   "toc_section_display": true,
   "toc_window_display": true
  }
 },
 "nbformat": 4,
 "nbformat_minor": 5
}
