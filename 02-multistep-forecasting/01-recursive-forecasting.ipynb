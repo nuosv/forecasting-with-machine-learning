{
 "cells": [
  {
   "cell_type": "markdown",
   "id": "96b946c1",
   "metadata": {},
   "source": [
    "# Recursive Forecasting with machine learning\n",
    "\n",
    "[Forecasting with Machine Learning - Course](https://www.trainindata.com/p/forecasting-with-machine-learning)\n",
    "\n",
    "In this notebook, we carry out recursive forecasting to predict multiple steps into the future by using a Lasso regression."
   ]
  },
  {
   "cell_type": "code",
   "execution_count": 51,
   "id": "6b1c7ede",
   "metadata": {},
   "outputs": [],
   "source": [
    "import matplotlib.pyplot as plt\n",
    "import pandas as pd\n",
    "\n",
    "from sklearn.linear_model import Lasso\n",
    "from sklearn.metrics import mean_squared_error\n",
    "from sklearn.metrics import root_mean_squared_error\n",
    "\n",
    "from skforecast.recursive import ForecasterRecursive"
   ]
  },
  {
   "cell_type": "markdown",
   "id": "50371561",
   "metadata": {},
   "source": [
    "# Load data\n",
    "\n",
    "We will use the electricity demand dataset found [here](https://github.com/tidyverts/tsibbledata/tree/master/data-raw/vic_elec/VIC2015).\n",
    "\n",
    "**Citation:**\n",
    "\n",
    "Godahewa, Rakshitha, Bergmeir, Christoph, Webb, Geoff, Hyndman, Rob, & Montero-Manso, Pablo. (2021). Australian Electricity Demand Dataset (Version 1) [Data set]. Zenodo. https://doi.org/10.5281/zenodo.4659727\n",
    "\n",
    "**Description of data:**\n",
    "\n",
    "A description of the data can be found [here](https://rdrr.io/cran/tsibbledata/man/vic_elec.html). The data contains electricity demand in Victoria, Australia, at 30 minute intervals over a period of 12 years, from 2002 to early 2015. There is also the temperature in Melbourne at 30 minute intervals and public holiday dates."
   ]
  },
  {
   "cell_type": "code",
   "execution_count": null,
   "id": "8b09fa59",
   "metadata": {},
   "outputs": [],
   "source": [
    "# Electricity demand.\n",
    "url = \"https://raw.githubusercontent.com/tidyverts/tsibbledata/master/data-raw/vic_elec/VIC2015/demand.csv\"\n",
    "df = pd.read_csv(url)\n",
    "\n",
    "df.drop(columns=[\"Industrial\"], inplace=True)\n",
    "\n",
    "# Convert the integer Date to an actual date with datetime type\n",
    "df[\"date\"] = df[\"Date\"].apply(\n",
    "    lambda x: pd.Timestamp(\"1899-12-30\") + pd.Timedelta(x, unit=\"days\")\n",
    ")\n",
    "\n",
    "# Create a timestamp from the integer Period representing 30 minute intervals\n",
    "df[\"date_time\"] = df[\"date\"] + \\\n",
    "    pd.to_timedelta((df[\"Period\"] - 1) * 30, unit=\"m\")\n",
    "\n",
    "df.dropna(inplace=True)\n",
    "\n",
    "# Rename columns\n",
    "df = df[[\"date_time\", \"OperationalLessIndustrial\"]]\n",
    "\n",
    "df.columns = [\"date_time\", \"demand\"]\n",
    "\n",
    "# Resample to hourly\n",
    "df = (\n",
    "    df.set_index(\"date_time\")\n",
    "    .resample(\"h\")\n",
    "    .agg({\"demand\": \"sum\"})\n",
    ")\n",
    "\n",
    "df.head()"
   ]
  },
  {
   "cell_type": "code",
   "execution_count": null,
   "id": "baa2bbc2",
   "metadata": {},
   "outputs": [],
   "source": [
    "df.tail()"
   ]
  },
  {
   "cell_type": "code",
   "execution_count": 54,
   "id": "5ea042aa",
   "metadata": {},
   "outputs": [],
   "source": [
    "# Split into train and test\n",
    "\n",
    "# We leave 2015 in the test set\n",
    "\n",
    "end_train = '2014-12-31 23:59:59'\n",
    "X_train = df.loc[:end_train]\n",
    "X_test  = df.loc[end_train:]"
   ]
  },
  {
   "cell_type": "markdown",
   "id": "b0eb3945",
   "metadata": {},
   "source": [
    "## Plot time series"
   ]
  },
  {
   "cell_type": "code",
   "execution_count": null,
   "id": "f60114a4",
   "metadata": {},
   "outputs": [],
   "source": [
    "# plot the time series\n",
    "\n",
    "fig, ax=plt.subplots(figsize=(7, 3))\n",
    "X_train.plot(ax=ax, label='train')\n",
    "X_test.plot(ax=ax, label='test')\n",
    "ax.set_title('Hourly energy consumption.')\n",
    "ax.legend([\"train\", \"test\"])\n",
    "plt.show()"
   ]
  },
  {
   "cell_type": "markdown",
   "id": "935eff7a",
   "metadata": {},
   "source": [
    "Too many time points, we don't see much.\n",
    "\n",
    "Let's plot less time points."
   ]
  },
  {
   "cell_type": "code",
   "execution_count": null,
   "id": "c7a59633",
   "metadata": {},
   "outputs": [],
   "source": [
    "# Let's zoom in to see a bit more detail:\n",
    "\n",
    "fig, ax = plt.subplots(figsize=(7, 3))\n",
    "X_train.tail(2000).plot(ax=ax)\n",
    "X_test.plot(ax=ax)\n",
    "ax.set_title('Hourly energy consumption.')\n",
    "ax.legend([\"train\", \"test\"])\n",
    "plt.show()"
   ]
  },
  {
   "cell_type": "code",
   "execution_count": null,
   "id": "a7ab8c0d",
   "metadata": {},
   "outputs": [],
   "source": [
    "# And zooming in a bit more:\n",
    "\n",
    "fig, ax = plt.subplots(figsize=(7, 3))\n",
    "X_train.tail(500).plot(ax=ax)\n",
    "X_test.head(500).plot(ax=ax)\n",
    "ax.set_title('Hourly energy consumption.')\n",
    "ax.legend([\"train\", \"test\"])\n",
    "plt.show()"
   ]
  },
  {
   "cell_type": "markdown",
   "id": "a384443e",
   "metadata": {},
   "source": [
    "## Create and train forecaster"
   ]
  },
  {
   "cell_type": "code",
   "execution_count": 58,
   "id": "5ddc5f94",
   "metadata": {},
   "outputs": [],
   "source": [
    "# Lasso regression model\n",
    "\n",
    "lasso = Lasso(random_state=9)"
   ]
  },
  {
   "cell_type": "code",
   "execution_count": null,
   "id": "6d51f410",
   "metadata": {},
   "outputs": [],
   "source": [
    "forecaster = ForecasterRecursive(\n",
    "    regressor=lasso,            # the machine learning model\n",
    "    lags=[1, 24, 7*24],         # the lag features to create\n",
    "    forecaster_id=\"recursive\"\n",
    ")\n",
    "\n",
    "# fit the forecaster\n",
    "forecaster.fit(y=X_train[\"demand\"])\n",
    "\n",
    "# print\n",
    "forecaster"
   ]
  },
  {
   "cell_type": "markdown",
   "id": "8342f2d0",
   "metadata": {},
   "source": [
    "The forecaster stores a lot of important information. For example:\n",
    "    \n",
    "- `window size` tells us the amount of datapoints in the past that we need to be able to create all the features for the forecast.\n",
    "\n",
    "- See that the window size coincides with the biggest lag feature.\n",
    "\n",
    "It also contains the time window over which the Lasso was trained (`Training range`), which is important if we store the model for future use.\n",
    "\n",
    "This trained forecaster is able to forecast from the time point right after this date out of the box. \n",
    "\n",
    "But if we were to forecast future values, we would have to feed the **historical data** needed to forecast that value to the forecaster. We will see this in action as we proceed with this notebook."
   ]
  },
  {
   "cell_type": "markdown",
   "id": "8e04878a",
   "metadata": {},
   "source": [
    "## Predict the next 24 hs after the training set"
   ]
  },
  {
   "cell_type": "code",
   "execution_count": null,
   "id": "a2cf2de5",
   "metadata": {},
   "outputs": [],
   "source": [
    "# Forecast the next 24 hours (starting on \n",
    "# last fit date: 2014-12-31 23:00:00 + 1 hr)\n",
    "\n",
    "predictions = forecaster.predict(steps=24)\n",
    "\n",
    "predictions.head()"
   ]
  },
  {
   "cell_type": "markdown",
   "id": "99e480d2",
   "metadata": {},
   "source": [
    "Note that the first step in the horizon is 1 hr after the last point in the training set."
   ]
  },
  {
   "cell_type": "code",
   "execution_count": null,
   "id": "7b967eb2",
   "metadata": {},
   "outputs": [],
   "source": [
    "# Plot the forecast vs the actual\n",
    "\n",
    "fig, ax = plt.subplots(figsize=(6, 3))\n",
    "X_train.tail(100).plot(ax=ax, label='train')\n",
    "X_test.head(24).plot(ax=ax, label='train')\n",
    "predictions.plot(ax=ax, label='predictions')\n",
    "plt.title(\"Lasso forecasting\")\n",
    "plt.ylabel('Energy demand per hour')\n",
    "ax.legend(bbox_to_anchor=(1.3, 1.0));"
   ]
  },
  {
   "cell_type": "markdown",
   "id": "fc537619",
   "metadata": {},
   "source": [
    "Let's now calculate the error over those 24 hs. That is the difference between each forecast and the actual values."
   ]
  },
  {
   "cell_type": "code",
   "execution_count": null,
   "id": "541bfe6f",
   "metadata": {},
   "outputs": [],
   "source": [
    "# Prediction error\n",
    "\n",
    "error_mse = mean_squared_error(\n",
    "                y_true = X_test[\"demand\"].head(24), # this is dirty, better to slice with pd offset or the right dates. \n",
    "                y_pred = predictions\n",
    "            )\n",
    "\n",
    "print(f\"Test error (mse): {error_mse}\")"
   ]
  },
  {
   "cell_type": "code",
   "execution_count": null,
   "id": "67eea8ae",
   "metadata": {},
   "outputs": [],
   "source": [
    "# Prediction error\n",
    "\n",
    "error_rmse = root_mean_squared_error(\n",
    "                y_true = X_test[\"demand\"].head(24), # this is dirty, better to slice with pd offset or the right dates. \n",
    "                y_pred = predictions,\n",
    "            )\n",
    "\n",
    "print(f\"Test error (rmse): {error_rmse}\")"
   ]
  },
  {
   "cell_type": "markdown",
   "id": "76178165",
   "metadata": {},
   "source": [
    "Say we want to predict energy demand later in the future with the model we just trained.\n",
    "\n",
    "First, we need to gather the data necessary to create the lags. \n",
    "\n",
    "And then pass that past data to the forecaster.\n",
    "\n",
    "## Predict any time point in the future"
   ]
  },
  {
   "cell_type": "code",
   "execution_count": null,
   "id": "5735cf1e",
   "metadata": {},
   "outputs": [],
   "source": [
    "# the amount of data in the past that we need \n",
    "# to create the features for the Lasso\n",
    "\n",
    "forecaster.window_size"
   ]
  },
  {
   "cell_type": "code",
   "execution_count": null,
   "id": "2d4447a6",
   "metadata": {},
   "outputs": [],
   "source": [
    "# Say we want to predict energy demand for 1st of February\n",
    "\n",
    "forecast_start = '2015-02-01 00:00:00'\n",
    "\n",
    "# We need the energy demand up to 168 hs before that point\n",
    "past_data_available = X_test[:'2015-01-31 23:59:59'].tail(168)\n",
    "\n",
    "past_data_available.head()"
   ]
  },
  {
   "cell_type": "code",
   "execution_count": null,
   "id": "d4e7018b",
   "metadata": {},
   "outputs": [],
   "source": [
    "past_data_available.tail()"
   ]
  },
  {
   "cell_type": "code",
   "execution_count": null,
   "id": "dcfd930c",
   "metadata": {},
   "outputs": [],
   "source": [
    "# Forecast next 24 hs starting Feb 2015\n",
    "\n",
    "predictions = forecaster.predict(\n",
    "    steps=24, \n",
    "    last_window=past_data_available[\"demand\"], # we pass the data up to Feb 2015\n",
    ")\n",
    "\n",
    "predictions.head()"
   ]
  },
  {
   "cell_type": "code",
   "execution_count": null,
   "id": "30a01e2a",
   "metadata": {},
   "outputs": [],
   "source": [
    "# Plot the forecast vs the actual\n",
    "\n",
    "fig, ax = plt.subplots(figsize=(6, 3))\n",
    "X_test['2015-01-31 23:59:59':].head(24).plot(ax=ax, label='test')\n",
    "predictions.plot(ax=ax, label='predictions')\n",
    "plt.title(\"Lasso forecasting\")\n",
    "plt.ylabel('Energy demand per hour')\n",
    "ax.legend(bbox_to_anchor=(1.3, 1.0));"
   ]
  },
  {
   "cell_type": "code",
   "execution_count": null,
   "id": "1cee1f33",
   "metadata": {},
   "outputs": [],
   "source": [
    "# Prediction error\n",
    "\n",
    "error_mse = mean_squared_error(\n",
    "                y_true = X_test['2015-01-31 23:59:59':][\"demand\"].head(24),\n",
    "                y_pred = predictions\n",
    "            )\n",
    "\n",
    "print(f\"Test error (mse): {error_mse}\")"
   ]
  },
  {
   "cell_type": "code",
   "execution_count": null,
   "id": "b5db496d",
   "metadata": {},
   "outputs": [],
   "source": [
    "# Prediction error\n",
    "\n",
    "error_rmse = root_mean_squared_error(\n",
    "                y_true = X_test['2015-01-31 23:59:59':][\"demand\"].head(24),\n",
    "                y_pred = predictions,\n",
    "            )\n",
    "\n",
    "print(f\"Test error (rmse): {error_rmse}\")"
   ]
  },
  {
   "cell_type": "markdown",
   "id": "1ee172da",
   "metadata": {},
   "source": [
    "That's it! Now, we've trained a Lasso regression that we can use to forecast the next 24 hs based on historical data, at any point, provided we have the energy demand up to 144 hours before that point."
   ]
  },
  {
   "cell_type": "code",
   "execution_count": null,
   "id": "f5c43595",
   "metadata": {},
   "outputs": [],
   "source": []
  }
 ],
 "metadata": {
  "kernelspec": {
   "display_name": ".venv",
   "language": "python",
   "name": "python3"
  },
  "language_info": {
   "codemirror_mode": {
    "name": "ipython",
    "version": 3
   },
   "file_extension": ".py",
   "mimetype": "text/x-python",
   "name": "python",
   "nbconvert_exporter": "python",
   "pygments_lexer": "ipython3",
   "version": "3.12.6"
  },
  "toc": {
   "base_numbering": 1,
   "nav_menu": {},
   "number_sections": true,
   "sideBar": true,
   "skip_h1_title": false,
   "title_cell": "Table of Contents",
   "title_sidebar": "Contents",
   "toc_cell": false,
   "toc_position": {},
   "toc_section_display": true,
   "toc_window_display": true
  }
 },
 "nbformat": 4,
 "nbformat_minor": 5
}
